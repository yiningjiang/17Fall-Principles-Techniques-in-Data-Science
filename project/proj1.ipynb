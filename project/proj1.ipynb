{
 "cells": [
  {
   "cell_type": "markdown",
   "metadata": {},
   "source": [
    "# Project 1: Trump, Twitter, and Text\n",
    "\n",
    "Welcome to the first project of DS100! In this project, we will work with the Twitter API in order to analyze Donald Trump's tweets.\n",
    "\n",
    "**The project checkpoint is due 11:59pm Tuesday, Sept. 26.** The checkpoint is graded on *completeness*, not correctness. You must complete Questions 1-4 in order to get full credit for the checkpoint.\n",
    "\n",
    "**The entire project is due 11:59pm Tuesday, Oct 3.**\n",
    "\n",
    "*Fair warning:* This project involves significantly more challenging pandas operations than the previous homeworks. We strongly suggest you start early.\n",
    "\n",
    "**Grading:**\n",
    "\n",
    "The checkpoint is worth **10%** of the overall project grade and is graded on completeness.\n",
    "\n",
    "However, the final submission of the project will be graded on **correctness**.\n",
    "\n",
    "**Fun:**\n",
    "\n",
    "We intended this project to be fun! You will analyze actual data from the Twitter API — no precooked dataset this time around. You will also draw conclusions about the current (and often controversial) US President's tweet behavior. If you find yourself getting frustrated or stuck on one problem for too long, we suggest coming into office hours and working with friends in the class.\n",
    "\n",
    "With that in mind, let's get started!"
   ]
  },
  {
   "cell_type": "code",
   "execution_count": 304,
   "metadata": {},
   "outputs": [
    {
     "name": "stdout",
     "output_type": "stream",
     "text": [
      "=====================================================================\n",
      "Assignment: Project 1\n",
      "OK, version v1.12.10\n",
      "=====================================================================\n",
      "\n"
     ]
    }
   ],
   "source": [
    "# Run this cell to set up your notebook\n",
    "import csv\n",
    "import numpy as np\n",
    "import pandas as pd\n",
    "import matplotlib.pyplot as plt\n",
    "%matplotlib inline\n",
    "plt.style.use('fivethirtyeight')\n",
    "import seaborn as sns\n",
    "sns.set()\n",
    "sns.set_context(\"talk\")\n",
    "import re\n",
    "\n",
    "from IPython.display import display, Latex, Markdown\n",
    "from client.api.notebook import Notebook\n",
    "ok = Notebook('proj1.ok')"
   ]
  },
  {
   "cell_type": "code",
   "execution_count": 305,
   "metadata": {},
   "outputs": [
    {
     "name": "stdout",
     "output_type": "stream",
     "text": [
      "\n",
      "Open the following URL:\n",
      "\n",
      "https://okpy.org/client/login/\n",
      "\n",
      "After logging in, copy the code from the web page and paste it into the box.\n",
      "Then press the \"Enter\" key on your keyboard.\n",
      "\n",
      "Paste your code here: 8VbH7UZeQXlz64U8YwbyzLRSrZBTcI\n",
      "Successfully logged in as yining.jiang@berkeley.edu\n"
     ]
    }
   ],
   "source": [
    "# Log into OkPy. You may have to change this to ok.auth(force=True) if you run into\n",
    "# an OAuthError\n",
    "ok.auth(force=True)"
   ]
  },
  {
   "cell_type": "markdown",
   "metadata": {},
   "source": [
    "\n",
    "<br/><br/><br/>\n",
    "\n",
    "# Getting the dataset\n",
    "\n",
    "---\n",
    "\n",
    "Since we'll be looking at Twitter data, we need to download the data from Twitter!\n",
    "\n",
    "Twitter provides an API for downloading tweet data in large batches.  The `tweepy` package makes it fairly easy to use."
   ]
  },
  {
   "cell_type": "markdown",
   "metadata": {},
   "source": [
    "#### Setup\n",
    "Install `tweepy`, if you don't already have it.  (Be sure to activate your Conda environment for the class first.  Then run `pip install tweepy`.)"
   ]
  },
  {
   "cell_type": "code",
   "execution_count": 306,
   "metadata": {},
   "outputs": [
    {
     "name": "stdout",
     "output_type": "stream",
     "text": [
      "Requirement already satisfied: tweepy in /anaconda/lib/python3.6/site-packages\r\n",
      "Requirement already satisfied: six>=1.7.3 in /anaconda/lib/python3.6/site-packages (from tweepy)\r\n",
      "Requirement already satisfied: requests-oauthlib>=0.4.1 in /anaconda/lib/python3.6/site-packages (from tweepy)\r\n",
      "Requirement already satisfied: requests>=2.4.3 in /anaconda/lib/python3.6/site-packages (from tweepy)\r\n",
      "Requirement already satisfied: oauthlib>=0.6.2 in /anaconda/lib/python3.6/site-packages (from requests-oauthlib>=0.4.1->tweepy)\r\n"
     ]
    }
   ],
   "source": [
    "## Make sure you are in your ds100 conda environment.\n",
    "## Uncomment the following line to install tweepy\n",
    "!pip install tweepy"
   ]
  },
  {
   "cell_type": "code",
   "execution_count": 307,
   "metadata": {
    "collapsed": true
   },
   "outputs": [],
   "source": [
    "# The following should run\n",
    "import tweepy"
   ]
  },
  {
   "cell_type": "markdown",
   "metadata": {},
   "source": [
    "There are instructions on using `tweepy` [here](http://tweepy.readthedocs.io/en/v3.5.0/getting_started.html), but we will give you example code.\n",
    "\n",
    "Twitter requires you to have authentication keys to access their API.  To get your keys, you'll have to sign up as a Twitter developer.  The next question will walk you through this process."
   ]
  },
  {
   "cell_type": "markdown",
   "metadata": {},
   "source": [
    "---\n",
    "<br/><br/>\n",
    "\n",
    "## Question 1\n",
    "\n",
    "Follow the instructions below to get your Twitter API keys.  Read the instructions completely before starting.\n",
    "\n",
    "1. [Create a Twitter account](https://twitter.com).  You can use an existing account if you have one.\n",
    "2. Under account settings, add your phone number to the account.\n",
    "3. [Create a Twitter developer account](https://dev.twitter.com/resources/signup).  Attach it to your Twitter account.\n",
    "4. Once you're logged into your developer account, [create an application for this assignment](https://apps.twitter.com/app/new).  You can call it whatever you want, and you can write any URL when it asks for a web site.\n",
    "5. On the page for that application, find your Consumer Key and Consumer Secret.\n",
    "6. On the same page, create an Access Token.  Record the resulting Access Token and Access Token Secret.\n",
    "7. Edit the file [keys.json](keys.json) and replace the placeholders with your keys.  Don't turn in that file."
   ]
  },
  {
   "cell_type": "markdown",
   "metadata": {},
   "source": [
    "\n",
    "## WARNING (Please Read) !!!!\n",
    "\n",
    "\n",
    "### Protect your Twitter Keys\n",
    "<span style=\"color:red\">\n",
    "If someone has your authentication keys, they can access your Twitter account and post as you!  So don't give them to anyone, and **don't write them down in this notebook**. \n",
    "</span>\n",
    "The usual way to store sensitive information like this is to put it in a separate file and read it programmatically.  That way, you can share the rest of your code without sharing your keys.  That's why we're asking you to put your keys in `keys.json` for this assignment.\n",
    "\n",
    "\n",
    "### Avoid making too many API calls.\n",
    "\n",
    "<span style=\"color:red\">\n",
    "Twitter limits developers to a certain rate of requests for data.  If you make too many requests in a short period of time, you'll have to wait awhile (around 15 minutes) before you can make more.  </span> \n",
    "So carefully follow the code examples you see and don't rerun cells without thinking.  Instead, always save the data you've collected to a file.  We've provided templates to help you do that.\n",
    "\n",
    "\n",
    "### Be careful about which functions you call!\n",
    "\n",
    "<span style=\"color:red\">\n",
    "This API can retweet tweets, follow and unfollow people, and modify your twitter settings.  Be careful which functions you invoke! </span> One of your instructors accidentally re-tweeted some tweets because that instructor typed `retweet` instead of `retweet_count`. \n",
    "</span>\n"
   ]
  },
  {
   "cell_type": "code",
   "execution_count": 308,
   "metadata": {
    "collapsed": true
   },
   "outputs": [],
   "source": [
    "import json\n",
    "key_file = 'keys.json'\n",
    "# Loading your keys from keys.json (which you should have filled\n",
    "# in in question 1):\n",
    "with open(key_file) as f:\n",
    "    keys = json.load(f)\n",
    "# if you print or view the contents of keys be sure to delete the cell!"
   ]
  },
  {
   "cell_type": "markdown",
   "metadata": {},
   "source": [
    "This cell tests the Twitter authentication. It should run without errors or warnings and display your Twitter username."
   ]
  },
  {
   "cell_type": "code",
   "execution_count": 309,
   "metadata": {},
   "outputs": [
    {
     "name": "stdout",
     "output_type": "stream",
     "text": [
      "Your username is: jyn1122\n"
     ]
    }
   ],
   "source": [
    "import tweepy\n",
    "from tweepy import TweepError\n",
    "import logging\n",
    "\n",
    "try:\n",
    "    auth = tweepy.OAuthHandler(keys[\"consumer_key\"], keys[\"consumer_secret\"])\n",
    "    auth.set_access_token(keys[\"access_token\"], keys[\"access_token_secret\"])\n",
    "    api = tweepy.API(auth)\n",
    "    print(\"Your username is:\", api.auth.get_username())\n",
    "except TweepError as e:\n",
    "    logging.warning(\"There was a Tweepy error. Double check your API keys and try again.\")\n",
    "    logging.warning(e)"
   ]
  },
  {
   "cell_type": "markdown",
   "metadata": {},
   "source": [
    "---\n",
    "<br/><br/>\n",
    "\n",
    "\n",
    "## Question 2\n",
    "\n",
    "In the example below, we have loaded some tweets by @BerkeleyData.  Run it and read the code."
   ]
  },
  {
   "cell_type": "code",
   "execution_count": 310,
   "metadata": {
    "collapsed": true
   },
   "outputs": [],
   "source": [
    "from pathlib import Path\n",
    "\n",
    "ds_tweets_save_path = \"BerkeleyData_recent_tweets.pkl\"\n",
    "# Guarding against attempts to download the data multiple\n",
    "# times:\n",
    "if not Path(ds_tweets_save_path).is_file():\n",
    "    # Obtaining twitter keys\n",
    "    import json\n",
    "    key_file = 'keys.json'\n",
    "    # Loading your keys from keys.json (which you should have filled\n",
    "    # in in question 1):\n",
    "    with open(key_file) as f:\n",
    "        keys = json.load(f)\n",
    "    \n",
    "    # Authenticating:\n",
    "    import tweepy\n",
    "    auth = tweepy.OAuthHandler(keys[\"consumer_key\"], keys[\"consumer_secret\"])\n",
    "    auth.set_access_token(keys[\"access_token\"], keys[\"access_token_secret\"])\n",
    "    api = tweepy.API(auth)\n",
    "\n",
    "    # Getting as many recent tweets by @BerkeleyData as Twitter will let us have:\n",
    "    example_tweets = list(tweepy.Cursor(api.user_timeline, id=\"BerkeleyData\").items())\n",
    "\n",
    "    # Saving the tweets to a file as \"pickled\" objects:\n",
    "    with open(ds_tweets_save_path, \"wb\") as f:\n",
    "        import pickle\n",
    "        pickle.dump(example_tweets, f)\n",
    "\n",
    "# Re-loading the results:\n",
    "with open(ds_tweets_save_path, \"rb\") as f:\n",
    "    import pickle\n",
    "    example_tweets = pickle.load(f)"
   ]
  },
  {
   "cell_type": "markdown",
   "metadata": {},
   "source": [
    "Assuming everything ran correctly you should be able to look at the first tweet by running the cell below:"
   ]
  },
  {
   "cell_type": "code",
   "execution_count": 311,
   "metadata": {
    "scrolled": true
   },
   "outputs": [
    {
     "name": "stdout",
     "output_type": "stream",
     "text": [
      "{'contributors': None,\n",
      " 'coordinates': None,\n",
      " 'created_at': 'Fri Sep 15 16:30:36 +0000 2017',\n",
      " 'entities': {'hashtags': [{'indices': [56, 72], 'text': 'machinelearning'}],\n",
      "              'symbols': [],\n",
      "              'urls': [{'display_url': 'bit.ly/2wOlDcJ',\n",
      "                        'expanded_url': 'http://bit.ly/2wOlDcJ',\n",
      "                        'indices': [106, 129],\n",
      "                        'url': 'https://t.co/poQtalGvNn'}],\n",
      "              'user_mentions': [{'id': 22873424,\n",
      "                                 'id_str': '22873424',\n",
      "                                 'indices': [130, 140],\n",
      "                                 'name': 'CIO.com',\n",
      "                                 'screen_name': 'CIOonline'}]},\n",
      " 'favorite_count': 2,\n",
      " 'favorited': False,\n",
      " 'geo': None,\n",
      " 'id': 908729774100578304,\n",
      " 'id_str': '908729774100578304',\n",
      " 'in_reply_to_screen_name': None,\n",
      " 'in_reply_to_status_id': None,\n",
      " 'in_reply_to_status_id_str': None,\n",
      " 'in_reply_to_user_id': None,\n",
      " 'in_reply_to_user_id_str': None,\n",
      " 'is_quote_status': False,\n",
      " 'lang': 'en',\n",
      " 'place': None,\n",
      " 'possibly_sensitive': False,\n",
      " 'retweet_count': 3,\n",
      " 'retweeted': False,\n",
      " 'source': '<a href=\"http://www.hootsuite.com\" rel=\"nofollow\">Hootsuite</a>',\n",
      " 'text': 'What exactly is machine learning? Here’s a look at what '\n",
      "         '#machinelearning is and how it can be used today: '\n",
      "         'https://t.co/poQtalGvNn @CIOonline',\n",
      " 'truncated': False,\n",
      " 'user': {'contributors_enabled': False,\n",
      "          'created_at': 'Thu Feb 28 14:37:26 +0000 2013',\n",
      "          'default_profile': False,\n",
      "          'default_profile_image': False,\n",
      "          'description': 'An online Master of Information and Data Science '\n",
      "                         '(MIDS) degree from the UC Berkeley School of '\n",
      "                         'Information. Learn more at: http://t.co/zf6gfBWovQ',\n",
      "          'entities': {'description': {'urls': [{'display_url': 'bit.ly/tBerkeleyData',\n",
      "                                                 'expanded_url': 'http://bit.ly/tBerkeleyData',\n",
      "                                                 'indices': [122, 144],\n",
      "                                                 'url': 'http://t.co/zf6gfBWovQ'}]},\n",
      "                       'url': {'urls': [{'display_url': 'datascience.berkeley.edu',\n",
      "                                         'expanded_url': 'http://datascience.berkeley.edu',\n",
      "                                         'indices': [0, 22],\n",
      "                                         'url': 'http://t.co/S79Ul3oCaa'}]}},\n",
      "          'favourites_count': 46,\n",
      "          'follow_request_sent': False,\n",
      "          'followers_count': 10099,\n",
      "          'following': False,\n",
      "          'friends_count': 403,\n",
      "          'geo_enabled': False,\n",
      "          'has_extended_profile': False,\n",
      "          'id': 1227698863,\n",
      "          'id_str': '1227698863',\n",
      "          'is_translation_enabled': False,\n",
      "          'is_translator': False,\n",
      "          'lang': 'en',\n",
      "          'listed_count': 459,\n",
      "          'location': 'Berkeley, CA',\n",
      "          'name': 'datascience@berkeley',\n",
      "          'notifications': False,\n",
      "          'profile_background_color': 'CCCCCC',\n",
      "          'profile_background_image_url': 'http://pbs.twimg.com/profile_background_images/378800000096571211/5f9ba86a5d2b87c2c48544133c25b092.jpeg',\n",
      "          'profile_background_image_url_https': 'https://pbs.twimg.com/profile_background_images/378800000096571211/5f9ba86a5d2b87c2c48544133c25b092.jpeg',\n",
      "          'profile_background_tile': False,\n",
      "          'profile_banner_url': 'https://pbs.twimg.com/profile_banners/1227698863/1502212054',\n",
      "          'profile_image_url': 'http://pbs.twimg.com/profile_images/894968224973897728/lI8iiF3J_normal.jpg',\n",
      "          'profile_image_url_https': 'https://pbs.twimg.com/profile_images/894968224973897728/lI8iiF3J_normal.jpg',\n",
      "          'profile_link_color': '5173B6',\n",
      "          'profile_sidebar_border_color': 'FFFFFF',\n",
      "          'profile_sidebar_fill_color': 'DDEEF6',\n",
      "          'profile_text_color': '333333',\n",
      "          'profile_use_background_image': True,\n",
      "          'protected': False,\n",
      "          'screen_name': 'BerkeleyData',\n",
      "          'statuses_count': 2186,\n",
      "          'time_zone': 'Eastern Time (US & Canada)',\n",
      "          'translator_type': 'none',\n",
      "          'url': 'http://t.co/S79Ul3oCaa',\n",
      "          'utc_offset': -14400,\n",
      "          'verified': False}}\n"
     ]
    }
   ],
   "source": [
    "# Looking at one tweet object, which has type Status: \n",
    "from pprint import pprint # ...to get a more easily-readable view.\n",
    "pprint(example_tweets[0]._json)"
   ]
  },
  {
   "cell_type": "markdown",
   "metadata": {
    "collapsed": true
   },
   "source": [
    "### What you need to do. \n",
    "\n",
    "Re-factor the above code fragment into reusable snippets below.  You should not need to make major modifications; this is mostly an exercise in understanding the above code block. "
   ]
  },
  {
   "cell_type": "code",
   "execution_count": 312,
   "metadata": {
    "collapsed": true,
    "tags": [
     "student"
    ]
   },
   "outputs": [],
   "source": [
    "def load_keys(path):\n",
    "    \"\"\"Loads your Twitter authentication keys from a file on disk.\n",
    "    \n",
    "    Args:\n",
    "        path (str): The path to your key file.  The file should\n",
    "          be in JSON format and look like this (but filled in):\n",
    "            {\n",
    "                \"consumer_key\": \"<your Consumer Key here>\",\n",
    "                \"consumer_secret\":  \"<your Consumer Secret here>\",\n",
    "                \"access_token\": \"<your Access Token here>\",\n",
    "                \"access_token_secret\": \"<your Access Token Secret here>\"\n",
    "            }\n",
    "    \n",
    "    Returns:\n",
    "        dict: A dictionary mapping key names (like \"consumer_key\") to\n",
    "          key values.\"\"\"\n",
    "    # Loading your keys from keys.json (which you should have filled\n",
    "    # in in question 1):\n",
    "    with open(path) as f:\n",
    "        keys = json.load(f)\n",
    "    return keys"
   ]
  },
  {
   "cell_type": "code",
   "execution_count": 313,
   "metadata": {
    "collapsed": true,
    "tags": [
     "student"
    ]
   },
   "outputs": [],
   "source": [
    "def download_recent_tweets_by_user(user_account_name, keys):\n",
    "    \"\"\"Downloads tweets by one Twitter user.\n",
    "\n",
    "    Args:\n",
    "        user_account_name (str): The name of the Twitter account\n",
    "          whose tweets will be downloaded.\n",
    "        keys (dict): A Python dictionary with Twitter authentication\n",
    "          keys (strings), like this (but filled in):\n",
    "            {\n",
    "                \"consumer_key\": \"<your Consumer Key here>\",\n",
    "                \"consumer_secret\":  \"<your Consumer Secret here>\",\n",
    "                \"access_token\": \"<your Access Token here>\",\n",
    "                \"access_token_secret\": \"<your Access Token Secret here>\"\n",
    "            }\n",
    "\n",
    "    Returns:\n",
    "        list: A list of Status objects, each representing one tweet.\"\"\"\n",
    "    import tweepy\n",
    "    auth = tweepy.OAuthHandler(keys[\"consumer_key\"], keys[\"consumer_secret\"])\n",
    "    auth.set_access_token(keys[\"access_token\"], keys[\"access_token_secret\"])\n",
    "    api = tweepy.API(auth)\n",
    "    example_tweets = list(tweepy.Cursor(api.user_timeline, id=user_account_name).items())\n",
    "    return example_tweets"
   ]
  },
  {
   "cell_type": "code",
   "execution_count": 314,
   "metadata": {
    "collapsed": true,
    "tags": [
     "student"
    ]
   },
   "outputs": [],
   "source": [
    "def save_tweets(tweets, path):\n",
    "    \"\"\"Saves a list of tweets to a file in the local filesystem.\n",
    "    \n",
    "    This function makes no guarantee about the format of the saved\n",
    "    tweets, **except** that calling load_tweets(path) after\n",
    "    save_tweets(tweets, path) will produce the same list of tweets\n",
    "    and that only the file at the given path is used to store the\n",
    "    tweets.  (That means you can implement this function however\n",
    "    you want, as long as saving and loading works!)\n",
    "\n",
    "    Args:\n",
    "        tweets (list): A list of tweet objects (of type Status) to\n",
    "          be saved.\n",
    "        path (str): The place where the tweets will be saved.\n",
    "\n",
    "    Returns:\n",
    "        None\"\"\"\n",
    "    with open(path, \"wb\") as f:\n",
    "        import pickle\n",
    "        pickle.dump(tweets, f)"
   ]
  },
  {
   "cell_type": "code",
   "execution_count": 315,
   "metadata": {
    "collapsed": true,
    "tags": [
     "student"
    ]
   },
   "outputs": [],
   "source": [
    "def load_tweets(path):\n",
    "    \"\"\"Loads tweets that have previously been saved.\n",
    "    \n",
    "    Calling load_tweets(path) after save_tweets(tweets, path)\n",
    "    will produce the same list of tweets.\n",
    "    \n",
    "    Args:\n",
    "        path (str): The place where the tweets were be saved.\n",
    "\n",
    "    Returns:\n",
    "        list: A list of Status objects, each representing one tweet.\"\"\"\n",
    "    with open(path, \"rb\") as f:\n",
    "        import pickle\n",
    "        example_tweets = pickle.load(f)\n",
    "    return example_tweets"
   ]
  },
  {
   "cell_type": "code",
   "execution_count": 316,
   "metadata": {
    "collapsed": true,
    "tags": [
     "student"
    ]
   },
   "outputs": [],
   "source": [
    "def get_tweets_with_cache(user_account_name, keys_path):\n",
    "    \"\"\"Get recent tweets from one user, loading from a disk cache if available.\n",
    "    \n",
    "    The first time you call this function, it will download tweets by\n",
    "    a user.  Subsequent calls will not re-download the tweets; instead\n",
    "    they'll load the tweets from a save file in your local filesystem.\n",
    "    All this is done using the functions you defined in the previous cell.\n",
    "    This has benefits and drawbacks that often appear when you cache data:\n",
    "    \n",
    "    +: Using this function will prevent extraneous usage of the Twitter API.\n",
    "    +: You will get your data much faster after the first time it's called.\n",
    "    -: If you really want to re-download the tweets (say, to get newer ones,\n",
    "       or because you screwed up something in the previous cell and your\n",
    "       tweets aren't what you wanted), you'll have to find the save file\n",
    "       (which will look like <something>_recent_tweets.pkl) and delete it.\n",
    "    \n",
    "    Args:\n",
    "        user_account_name (str): The Twitter handle of a user, without the @.\n",
    "        keys_path (str): The path to a JSON keys file in your filesystem.\n",
    "    \"\"\"\n",
    "    if not Path(user_account_name+\"_recent_tweets.pkl\").is_file():\n",
    "            keys=load_keys(keys_path)\n",
    "            example_tweets=download_recent_tweets_by_user(user_account_name,keys)\n",
    "            save_tweets(example_tweets, user_account_name+\"_recent_tweets.pkl\")\n",
    "    example_tweets=load_tweets(user_account_name+\"_recent_tweets.pkl\")\n",
    "    return example_tweets\n",
    "    "
   ]
  },
  {
   "cell_type": "markdown",
   "metadata": {},
   "source": [
    "If everything was implemented correctly you should be able to obtain roughly the last 3000 tweets by the `realdonaldtrump`."
   ]
  },
  {
   "cell_type": "code",
   "execution_count": 317,
   "metadata": {},
   "outputs": [
    {
     "name": "stdout",
     "output_type": "stream",
     "text": [
      "Number of tweets downloaded: 3234\n"
     ]
    }
   ],
   "source": [
    "# When you are done, run this cell to load @realdonaldtrump's tweets.\n",
    "# Note the function get_tweets_with_cache.  You may find it useful\n",
    "# later.\n",
    "trump_tweets = get_tweets_with_cache(\"realdonaldtrump\", key_file)\n",
    "print(\"Number of tweets downloaded:\", len(trump_tweets))"
   ]
  },
  {
   "cell_type": "markdown",
   "metadata": {},
   "source": [
    "---\n",
    "<br/><br/>\n",
    "\n",
    "## Question 3\n",
    "\n",
    "In this question you will extract important fields from the tweet objects and convert them into a Pandas dataframe for further analysis."
   ]
  },
  {
   "cell_type": "markdown",
   "metadata": {},
   "source": [
    "Each trump tweet is stored in a `tweepy.models.Status` object:"
   ]
  },
  {
   "cell_type": "code",
   "execution_count": 318,
   "metadata": {},
   "outputs": [
    {
     "data": {
      "text/plain": [
       "tweepy.models.Status"
      ]
     },
     "execution_count": 318,
     "metadata": {},
     "output_type": "execute_result"
    }
   ],
   "source": [
    "type(trump_tweets[0])"
   ]
  },
  {
   "cell_type": "markdown",
   "metadata": {},
   "source": [
    "We can list all the members of this object by looking at the private `__dict__` variable:"
   ]
  },
  {
   "cell_type": "code",
   "execution_count": 319,
   "metadata": {
    "scrolled": true
   },
   "outputs": [
    {
     "data": {
      "text/plain": [
       "['_json',\n",
       " 'created_at',\n",
       " 'id',\n",
       " 'id_str',\n",
       " 'text',\n",
       " 'truncated',\n",
       " 'entities',\n",
       " 'source',\n",
       " 'source_url',\n",
       " 'in_reply_to_status_id',\n",
       " 'in_reply_to_status_id_str',\n",
       " 'in_reply_to_user_id',\n",
       " 'in_reply_to_user_id_str',\n",
       " 'in_reply_to_screen_name',\n",
       " 'author',\n",
       " 'user',\n",
       " 'geo',\n",
       " 'coordinates',\n",
       " 'place',\n",
       " 'contributors',\n",
       " 'is_quote_status',\n",
       " 'retweet_count',\n",
       " 'favorite_count',\n",
       " 'favorited',\n",
       " 'retweeted',\n",
       " 'lang']"
      ]
     },
     "execution_count": 319,
     "metadata": {},
     "output_type": "execute_result"
    }
   ],
   "source": [
    "list(trump_tweets[0].__dict__.keys())"
   ]
  },
  {
   "cell_type": "markdown",
   "metadata": {},
   "source": [
    "Therefore we can extract a field simply by reading its value:"
   ]
  },
  {
   "cell_type": "code",
   "execution_count": 320,
   "metadata": {},
   "outputs": [
    {
     "data": {
      "text/plain": [
       "'910993665568526337'"
      ]
     },
     "execution_count": 320,
     "metadata": {},
     "output_type": "execute_result"
    }
   ],
   "source": [
    "trump_tweets[0].id_str"
   ]
  },
  {
   "cell_type": "markdown",
   "metadata": {},
   "source": [
    "### What you need to do\n",
    "\n",
    "Construct a DataFrame called `trump`. The index of the dataframe should be the ID of each tweet (looks something like `907698529606541312`). It should have these columns:\n",
    "\n",
    "- `time`: The time the tweet was created.\n",
    "- `source`: The source device of the tweet.\n",
    "- `text`: The text of the tweet.\n",
    "- `retweet_count`: The retweet count of the tweet. "
   ]
  },
  {
   "cell_type": "code",
   "execution_count": 321,
   "metadata": {
    "collapsed": true
   },
   "outputs": [],
   "source": [
    "p1=[trump_tweets[i].created_at for i in np.arange(0,3234)]"
   ]
  },
  {
   "cell_type": "code",
   "execution_count": 322,
   "metadata": {
    "collapsed": true
   },
   "outputs": [],
   "source": [
    "p2=[trump_tweets[i].source for i in np.arange(0,3234)]"
   ]
  },
  {
   "cell_type": "code",
   "execution_count": 323,
   "metadata": {
    "collapsed": true
   },
   "outputs": [],
   "source": [
    "p3=[trump_tweets[i].text for i in np.arange(0,3234)]"
   ]
  },
  {
   "cell_type": "code",
   "execution_count": 324,
   "metadata": {
    "collapsed": true
   },
   "outputs": [],
   "source": [
    "p4=[trump_tweets[i].retweet_count for i in np.arange(0,3234)]"
   ]
  },
  {
   "cell_type": "code",
   "execution_count": 325,
   "metadata": {
    "collapsed": true
   },
   "outputs": [],
   "source": [
    "p5=[trump_tweets[i].id_str for i in np.arange(0,3234)]"
   ]
  },
  {
   "cell_type": "code",
   "execution_count": 326,
   "metadata": {
    "scrolled": true,
    "tags": [
     "student"
    ]
   },
   "outputs": [
    {
     "data": {
      "text/html": [
       "<div>\n",
       "<style>\n",
       "    .dataframe thead tr:only-child th {\n",
       "        text-align: right;\n",
       "    }\n",
       "\n",
       "    .dataframe thead th {\n",
       "        text-align: left;\n",
       "    }\n",
       "\n",
       "    .dataframe tbody tr th {\n",
       "        vertical-align: top;\n",
       "    }\n",
       "</style>\n",
       "<table border=\"1\" class=\"dataframe\">\n",
       "  <thead>\n",
       "    <tr style=\"text-align: right;\">\n",
       "      <th></th>\n",
       "      <th>retweet_count</th>\n",
       "      <th>source</th>\n",
       "      <th>text</th>\n",
       "      <th>time</th>\n",
       "    </tr>\n",
       "  </thead>\n",
       "  <tbody>\n",
       "    <tr>\n",
       "      <th>910993665568526337</th>\n",
       "      <td>8769</td>\n",
       "      <td>Twitter for iPhone</td>\n",
       "      <td>A big day for the U.S. at the United Nations!</td>\n",
       "      <td>2017-09-21 22:26:29</td>\n",
       "    </tr>\n",
       "    <tr>\n",
       "      <th>910992971620864004</th>\n",
       "      <td>4722</td>\n",
       "      <td>Twitter for iPhone</td>\n",
       "      <td>Senator Luther Strange has gone up a lot in th...</td>\n",
       "      <td>2017-09-21 22:23:44</td>\n",
       "    </tr>\n",
       "    <tr>\n",
       "      <th>910926223684931585</th>\n",
       "      <td>13597</td>\n",
       "      <td>Media Studio</td>\n",
       "      <td>Today, I announced a new Executive Order with ...</td>\n",
       "      <td>2017-09-21 17:58:30</td>\n",
       "    </tr>\n",
       "    <tr>\n",
       "      <th>910898047931912192</th>\n",
       "      <td>7231</td>\n",
       "      <td>Media Studio</td>\n",
       "      <td>It was a great privilege to meet with Presiden...</td>\n",
       "      <td>2017-09-21 16:06:32</td>\n",
       "    </tr>\n",
       "    <tr>\n",
       "      <th>910885755320459264</th>\n",
       "      <td>5030</td>\n",
       "      <td>Twitter for iPhone</td>\n",
       "      <td>It was wonderful to have President Petro Poros...</td>\n",
       "      <td>2017-09-21 15:17:42</td>\n",
       "    </tr>\n",
       "    <tr>\n",
       "      <th>910885156373721092</th>\n",
       "      <td>5365</td>\n",
       "      <td>Media Studio</td>\n",
       "      <td>It was a pleasure to have President Ashraf Gha...</td>\n",
       "      <td>2017-09-21 15:15:19</td>\n",
       "    </tr>\n",
       "    <tr>\n",
       "      <th>910703407555600386</th>\n",
       "      <td>10422</td>\n",
       "      <td>Twitter for iPhone</td>\n",
       "      <td>Governor @RicardoRossello- \\nWe are with you a...</td>\n",
       "      <td>2017-09-21 03:13:07</td>\n",
       "    </tr>\n",
       "    <tr>\n",
       "      <th>910671525543645185</th>\n",
       "      <td>10401</td>\n",
       "      <td>Twitter for iPhone</td>\n",
       "      <td>Senator (Doctor) Bill Cassidy is a class act w...</td>\n",
       "      <td>2017-09-21 01:06:25</td>\n",
       "    </tr>\n",
       "    <tr>\n",
       "      <th>910665452048838661</th>\n",
       "      <td>9271</td>\n",
       "      <td>Twitter for iPhone</td>\n",
       "      <td>The NRA strongly endorses Luther Strange for S...</td>\n",
       "      <td>2017-09-21 00:42:17</td>\n",
       "    </tr>\n",
       "    <tr>\n",
       "      <th>910641701064204288</th>\n",
       "      <td>16796</td>\n",
       "      <td>Twitter for iPhone</td>\n",
       "      <td>I would not sign Graham-Cassidy if it did not ...</td>\n",
       "      <td>2017-09-20 23:07:55</td>\n",
       "    </tr>\n",
       "    <tr>\n",
       "      <th>910635327672512512</th>\n",
       "      <td>6923</td>\n",
       "      <td>Twitter for iPhone</td>\n",
       "      <td>Alabama is sooo lucky to have a candidate like...</td>\n",
       "      <td>2017-09-20 22:42:35</td>\n",
       "    </tr>\n",
       "    <tr>\n",
       "      <th>910632095088889857</th>\n",
       "      <td>10930</td>\n",
       "      <td>Twitter for iPhone</td>\n",
       "      <td>On behalf of all Americans, I want to wish Jew...</td>\n",
       "      <td>2017-09-20 22:29:44</td>\n",
       "    </tr>\n",
       "    <tr>\n",
       "      <th>910581819078316034</th>\n",
       "      <td>7374</td>\n",
       "      <td>Twitter for iPhone</td>\n",
       "      <td>RT @VP: Went to the Senate today to say @POTUS...</td>\n",
       "      <td>2017-09-20 19:09:58</td>\n",
       "    </tr>\n",
       "    <tr>\n",
       "      <th>910580644597649409</th>\n",
       "      <td>8722</td>\n",
       "      <td>Twitter for iPhone</td>\n",
       "      <td>Honored to host a luncheon for African leaders...</td>\n",
       "      <td>2017-09-20 19:05:18</td>\n",
       "    </tr>\n",
       "    <tr>\n",
       "      <th>910551350408241152</th>\n",
       "      <td>6458</td>\n",
       "      <td>Media Studio</td>\n",
       "      <td>Honored to meet w/ Pres Abbas from the Palesti...</td>\n",
       "      <td>2017-09-20 17:08:53</td>\n",
       "    </tr>\n",
       "    <tr>\n",
       "      <th>910524897515905025</th>\n",
       "      <td>8169</td>\n",
       "      <td>Media Studio</td>\n",
       "      <td>It was a great honor to be with King Abdullah ...</td>\n",
       "      <td>2017-09-20 15:23:46</td>\n",
       "    </tr>\n",
       "    <tr>\n",
       "      <th>910480918816739328</th>\n",
       "      <td>7727</td>\n",
       "      <td>Twitter for iPhone</td>\n",
       "      <td>Looking forward to Friday night in the Great S...</td>\n",
       "      <td>2017-09-20 12:29:01</td>\n",
       "    </tr>\n",
       "    <tr>\n",
       "      <th>910477734635286528</th>\n",
       "      <td>12491</td>\n",
       "      <td>Twitter for iPhone</td>\n",
       "      <td>I hope Republican Senators will vote for Graha...</td>\n",
       "      <td>2017-09-20 12:16:22</td>\n",
       "    </tr>\n",
       "    <tr>\n",
       "      <th>910476107287269376</th>\n",
       "      <td>9748</td>\n",
       "      <td>Twitter for iPhone</td>\n",
       "      <td>Rand Paul is a friend of mine but he is such a...</td>\n",
       "      <td>2017-09-20 12:09:54</td>\n",
       "    </tr>\n",
       "    <tr>\n",
       "      <th>910459401558986752</th>\n",
       "      <td>20492</td>\n",
       "      <td>Twitter for iPhone</td>\n",
       "      <td>RT @Franklin_Graham: Join me in praying for @P...</td>\n",
       "      <td>2017-09-20 11:03:31</td>\n",
       "    </tr>\n",
       "    <tr>\n",
       "      <th>910458657179086848</th>\n",
       "      <td>5640</td>\n",
       "      <td>Twitter for iPhone</td>\n",
       "      <td>Thank you  @foxandfriends - great show!</td>\n",
       "      <td>2017-09-20 11:00:34</td>\n",
       "    </tr>\n",
       "    <tr>\n",
       "      <th>910455390038642688</th>\n",
       "      <td>7439</td>\n",
       "      <td>Twitter for iPhone</td>\n",
       "      <td>RT @RealEagleBites: @realDonaldTrump It is the...</td>\n",
       "      <td>2017-09-20 10:47:35</td>\n",
       "    </tr>\n",
       "    <tr>\n",
       "      <th>910454516557983744</th>\n",
       "      <td>11828</td>\n",
       "      <td>Twitter for iPhone</td>\n",
       "      <td>The world is noticing, thanks! https://t.co/2N...</td>\n",
       "      <td>2017-09-20 10:44:06</td>\n",
       "    </tr>\n",
       "    <tr>\n",
       "      <th>910454124696752130</th>\n",
       "      <td>10063</td>\n",
       "      <td>Twitter for iPhone</td>\n",
       "      <td>RT @DonnaWR8: @realDonaldTrump Thank you @POTU...</td>\n",
       "      <td>2017-09-20 10:42:33</td>\n",
       "    </tr>\n",
       "    <tr>\n",
       "      <th>910453612630900736</th>\n",
       "      <td>21318</td>\n",
       "      <td>Twitter for iPhone</td>\n",
       "      <td>After allowing North Korea to research and bui...</td>\n",
       "      <td>2017-09-20 10:40:31</td>\n",
       "    </tr>\n",
       "    <tr>\n",
       "      <th>910447064944955392</th>\n",
       "      <td>10328</td>\n",
       "      <td>Twitter for iPhone</td>\n",
       "      <td>Big meetings today at the United Nations. So m...</td>\n",
       "      <td>2017-09-20 10:14:30</td>\n",
       "    </tr>\n",
       "    <tr>\n",
       "      <th>910443493511827456</th>\n",
       "      <td>9015</td>\n",
       "      <td>Twitter for iPhone</td>\n",
       "      <td>RT @Scavino45: \"The Iran deal was one of the w...</td>\n",
       "      <td>2017-09-20 10:00:18</td>\n",
       "    </tr>\n",
       "    <tr>\n",
       "      <th>910443458564894720</th>\n",
       "      <td>4060</td>\n",
       "      <td>Twitter for iPhone</td>\n",
       "      <td>RT @Scavino45: #WeThePeople🇺🇸\\n#USAatUNGA #UNG...</td>\n",
       "      <td>2017-09-20 10:00:10</td>\n",
       "    </tr>\n",
       "    <tr>\n",
       "      <th>910443366911037440</th>\n",
       "      <td>3708</td>\n",
       "      <td>Twitter for iPhone</td>\n",
       "      <td>RT @Scavino45: .@POTUS @realDonaldTrump and @U...</td>\n",
       "      <td>2017-09-20 09:59:48</td>\n",
       "    </tr>\n",
       "    <tr>\n",
       "      <th>910332992756834304</th>\n",
       "      <td>25796</td>\n",
       "      <td>Twitter for iPhone</td>\n",
       "      <td>I was saddened to see how bad the ratings were...</td>\n",
       "      <td>2017-09-20 02:41:13</td>\n",
       "    </tr>\n",
       "    <tr>\n",
       "      <th>...</th>\n",
       "      <td>...</td>\n",
       "      <td>...</td>\n",
       "      <td>...</td>\n",
       "      <td>...</td>\n",
       "    </tr>\n",
       "    <tr>\n",
       "      <th>758236300554174465</th>\n",
       "      <td>7069</td>\n",
       "      <td>Twitter for Android</td>\n",
       "      <td>Funny how the failing @nytimes is pushing Dems...</td>\n",
       "      <td>2016-07-27 09:43:16</td>\n",
       "    </tr>\n",
       "    <tr>\n",
       "      <th>758233935230959617</th>\n",
       "      <td>6617</td>\n",
       "      <td>Twitter for Android</td>\n",
       "      <td>As I have been saying, Crooked Hillary will ap...</td>\n",
       "      <td>2016-07-27 09:33:52</td>\n",
       "    </tr>\n",
       "    <tr>\n",
       "      <th>758135085820416000</th>\n",
       "      <td>9474</td>\n",
       "      <td>Twitter for iPhone</td>\n",
       "      <td>Just like I have warned from the beginning, Cr...</td>\n",
       "      <td>2016-07-27 03:01:04</td>\n",
       "    </tr>\n",
       "    <tr>\n",
       "      <th>758122684798607360</th>\n",
       "      <td>8077</td>\n",
       "      <td>Twitter for Android</td>\n",
       "      <td>Many of Bernie's supporters have left the aren...</td>\n",
       "      <td>2016-07-27 02:11:47</td>\n",
       "    </tr>\n",
       "    <tr>\n",
       "      <th>758121939365982208</th>\n",
       "      <td>9858</td>\n",
       "      <td>Twitter for Android</td>\n",
       "      <td>I hate to say it, but the Republican Conventio...</td>\n",
       "      <td>2016-07-27 02:08:50</td>\n",
       "    </tr>\n",
       "    <tr>\n",
       "      <th>758120321845235712</th>\n",
       "      <td>10426</td>\n",
       "      <td>Twitter for Android</td>\n",
       "      <td>No matter what Bill Clinton says and no matter...</td>\n",
       "      <td>2016-07-27 02:02:24</td>\n",
       "    </tr>\n",
       "    <tr>\n",
       "      <th>758117640200187905</th>\n",
       "      <td>12819</td>\n",
       "      <td>Twitter for Android</td>\n",
       "      <td>You have no idea what my strategy on ISIS is, ...</td>\n",
       "      <td>2016-07-27 01:51:45</td>\n",
       "    </tr>\n",
       "    <tr>\n",
       "      <th>758071952498159616</th>\n",
       "      <td>11615</td>\n",
       "      <td>Twitter for Android</td>\n",
       "      <td>For the record, I have ZERO investments in Rus...</td>\n",
       "      <td>2016-07-26 22:50:12</td>\n",
       "    </tr>\n",
       "    <tr>\n",
       "      <th>758071264128806912</th>\n",
       "      <td>9873</td>\n",
       "      <td>Twitter for Android</td>\n",
       "      <td>In order to try and deflect the horror and stu...</td>\n",
       "      <td>2016-07-26 22:47:28</td>\n",
       "    </tr>\n",
       "    <tr>\n",
       "      <th>758026136299397120</th>\n",
       "      <td>13356</td>\n",
       "      <td>Twitter for iPhone</td>\n",
       "      <td>Dems don't want to talk ISIS b/c Hillary's for...</td>\n",
       "      <td>2016-07-26 19:48:08</td>\n",
       "    </tr>\n",
       "    <tr>\n",
       "      <th>758021060503756804</th>\n",
       "      <td>6846</td>\n",
       "      <td>Twitter for iPhone</td>\n",
       "      <td>Bernie's exhausted, he just wants to shut down...</td>\n",
       "      <td>2016-07-26 19:27:58</td>\n",
       "    </tr>\n",
       "    <tr>\n",
       "      <th>758020997383684096</th>\n",
       "      <td>11984</td>\n",
       "      <td>Twitter for iPhone</td>\n",
       "      <td>The invention of email has proven to be a very...</td>\n",
       "      <td>2016-07-26 19:27:43</td>\n",
       "    </tr>\n",
       "    <tr>\n",
       "      <th>758004154417553409</th>\n",
       "      <td>6175</td>\n",
       "      <td>Twitter for iPhone</td>\n",
       "      <td>Thank you New Hampshire! \\n#MakeAmericaGreatAg...</td>\n",
       "      <td>2016-07-26 18:20:48</td>\n",
       "    </tr>\n",
       "    <tr>\n",
       "      <th>757997327269306369</th>\n",
       "      <td>4236</td>\n",
       "      <td>Twitter for iPhone</td>\n",
       "      <td>Join us in Toledo, Ohio- tomorrow night at 8pm...</td>\n",
       "      <td>2016-07-26 17:53:40</td>\n",
       "    </tr>\n",
       "    <tr>\n",
       "      <th>757994830110658560</th>\n",
       "      <td>4299</td>\n",
       "      <td>Twitter for iPhone</td>\n",
       "      <td>Join us tomorrow in Scranton, Pennsylvania at ...</td>\n",
       "      <td>2016-07-26 17:43:45</td>\n",
       "    </tr>\n",
       "    <tr>\n",
       "      <th>757919034755076096</th>\n",
       "      <td>8064</td>\n",
       "      <td>Twitter for Android</td>\n",
       "      <td>Pocahontas bombed last night! Sad to watch.</td>\n",
       "      <td>2016-07-26 12:42:33</td>\n",
       "    </tr>\n",
       "    <tr>\n",
       "      <th>757918002339778560</th>\n",
       "      <td>19447</td>\n",
       "      <td>Twitter for Android</td>\n",
       "      <td>Why aren't the Democrats speaking about ISIS, ...</td>\n",
       "      <td>2016-07-26 12:38:27</td>\n",
       "    </tr>\n",
       "    <tr>\n",
       "      <th>757916962269704192</th>\n",
       "      <td>7585</td>\n",
       "      <td>Twitter for Android</td>\n",
       "      <td>Funny, if you listen to @FoxNews, the Democrat...</td>\n",
       "      <td>2016-07-26 12:34:19</td>\n",
       "    </tr>\n",
       "    <tr>\n",
       "      <th>757777369272815617</th>\n",
       "      <td>21936</td>\n",
       "      <td>Twitter for Android</td>\n",
       "      <td>Bernie Sanders totally sold out to Crooked Hil...</td>\n",
       "      <td>2016-07-26 03:19:38</td>\n",
       "    </tr>\n",
       "    <tr>\n",
       "      <th>757775689525309440</th>\n",
       "      <td>11299</td>\n",
       "      <td>Twitter for Android</td>\n",
       "      <td>Elizabeth Warren, often referred to as Pocahon...</td>\n",
       "      <td>2016-07-26 03:12:57</td>\n",
       "    </tr>\n",
       "    <tr>\n",
       "      <th>757773671545044992</th>\n",
       "      <td>22344</td>\n",
       "      <td>Twitter for iPhone</td>\n",
       "      <td>Sad to watch Bernie Sanders abandon his revolu...</td>\n",
       "      <td>2016-07-26 03:04:56</td>\n",
       "    </tr>\n",
       "    <tr>\n",
       "      <th>757760973419712512</th>\n",
       "      <td>10243</td>\n",
       "      <td>Twitter for iPhone</td>\n",
       "      <td>If Cory Booker is the future of the Democratic...</td>\n",
       "      <td>2016-07-26 02:14:29</td>\n",
       "    </tr>\n",
       "    <tr>\n",
       "      <th>757696233427312640</th>\n",
       "      <td>8073</td>\n",
       "      <td>Twitter for Android</td>\n",
       "      <td>I was at @FoxNews and met Juan Williams in pas...</td>\n",
       "      <td>2016-07-25 21:57:14</td>\n",
       "    </tr>\n",
       "    <tr>\n",
       "      <th>757693383481626624</th>\n",
       "      <td>8581</td>\n",
       "      <td>Twitter for Android</td>\n",
       "      <td>Hard to believe that Bernie Sanders has done s...</td>\n",
       "      <td>2016-07-25 21:45:54</td>\n",
       "    </tr>\n",
       "    <tr>\n",
       "      <th>757690343181737984</th>\n",
       "      <td>14025</td>\n",
       "      <td>Twitter for iPhone</td>\n",
       "      <td>While Bernie has totally given up on his fight...</td>\n",
       "      <td>2016-07-25 21:33:49</td>\n",
       "    </tr>\n",
       "    <tr>\n",
       "      <th>757690132111777792</th>\n",
       "      <td>8381</td>\n",
       "      <td>Twitter for iPhone</td>\n",
       "      <td>Clinton betrayed Bernie voters. Kaine supports...</td>\n",
       "      <td>2016-07-25 21:32:59</td>\n",
       "    </tr>\n",
       "    <tr>\n",
       "      <th>757688331597668353</th>\n",
       "      <td>7846</td>\n",
       "      <td>Twitter for iPhone</td>\n",
       "      <td>Thank you OHIO! #TrumpPence16\\nhttps://t.co/NO...</td>\n",
       "      <td>2016-07-25 21:25:50</td>\n",
       "    </tr>\n",
       "    <tr>\n",
       "      <th>757687988189065216</th>\n",
       "      <td>4206</td>\n",
       "      <td>Twitter for iPhone</td>\n",
       "      <td>Thank you Roanoke, Virginia- be back soon! #Tr...</td>\n",
       "      <td>2016-07-25 21:24:28</td>\n",
       "    </tr>\n",
       "    <tr>\n",
       "      <th>757650904896139264</th>\n",
       "      <td>10296</td>\n",
       "      <td>Twitter for iPhone</td>\n",
       "      <td>MAKE AMERICA SAFE AND GREAT AGAIN! #TrumpPence...</td>\n",
       "      <td>2016-07-25 18:57:06</td>\n",
       "    </tr>\n",
       "    <tr>\n",
       "      <th>757618048664829952</th>\n",
       "      <td>12696</td>\n",
       "      <td>Twitter for iPhone</td>\n",
       "      <td>#MakeAmericaGreatAgain \\nhttps://t.co/EXsoUOsE...</td>\n",
       "      <td>2016-07-25 16:46:33</td>\n",
       "    </tr>\n",
       "  </tbody>\n",
       "</table>\n",
       "<p>3234 rows × 4 columns</p>\n",
       "</div>"
      ],
      "text/plain": [
       "                    retweet_count               source  \\\n",
       "910993665568526337           8769   Twitter for iPhone   \n",
       "910992971620864004           4722   Twitter for iPhone   \n",
       "910926223684931585          13597         Media Studio   \n",
       "910898047931912192           7231         Media Studio   \n",
       "910885755320459264           5030   Twitter for iPhone   \n",
       "910885156373721092           5365         Media Studio   \n",
       "910703407555600386          10422   Twitter for iPhone   \n",
       "910671525543645185          10401   Twitter for iPhone   \n",
       "910665452048838661           9271   Twitter for iPhone   \n",
       "910641701064204288          16796   Twitter for iPhone   \n",
       "910635327672512512           6923   Twitter for iPhone   \n",
       "910632095088889857          10930   Twitter for iPhone   \n",
       "910581819078316034           7374   Twitter for iPhone   \n",
       "910580644597649409           8722   Twitter for iPhone   \n",
       "910551350408241152           6458         Media Studio   \n",
       "910524897515905025           8169         Media Studio   \n",
       "910480918816739328           7727   Twitter for iPhone   \n",
       "910477734635286528          12491   Twitter for iPhone   \n",
       "910476107287269376           9748   Twitter for iPhone   \n",
       "910459401558986752          20492   Twitter for iPhone   \n",
       "910458657179086848           5640   Twitter for iPhone   \n",
       "910455390038642688           7439   Twitter for iPhone   \n",
       "910454516557983744          11828   Twitter for iPhone   \n",
       "910454124696752130          10063   Twitter for iPhone   \n",
       "910453612630900736          21318   Twitter for iPhone   \n",
       "910447064944955392          10328   Twitter for iPhone   \n",
       "910443493511827456           9015   Twitter for iPhone   \n",
       "910443458564894720           4060   Twitter for iPhone   \n",
       "910443366911037440           3708   Twitter for iPhone   \n",
       "910332992756834304          25796   Twitter for iPhone   \n",
       "...                           ...                  ...   \n",
       "758236300554174465           7069  Twitter for Android   \n",
       "758233935230959617           6617  Twitter for Android   \n",
       "758135085820416000           9474   Twitter for iPhone   \n",
       "758122684798607360           8077  Twitter for Android   \n",
       "758121939365982208           9858  Twitter for Android   \n",
       "758120321845235712          10426  Twitter for Android   \n",
       "758117640200187905          12819  Twitter for Android   \n",
       "758071952498159616          11615  Twitter for Android   \n",
       "758071264128806912           9873  Twitter for Android   \n",
       "758026136299397120          13356   Twitter for iPhone   \n",
       "758021060503756804           6846   Twitter for iPhone   \n",
       "758020997383684096          11984   Twitter for iPhone   \n",
       "758004154417553409           6175   Twitter for iPhone   \n",
       "757997327269306369           4236   Twitter for iPhone   \n",
       "757994830110658560           4299   Twitter for iPhone   \n",
       "757919034755076096           8064  Twitter for Android   \n",
       "757918002339778560          19447  Twitter for Android   \n",
       "757916962269704192           7585  Twitter for Android   \n",
       "757777369272815617          21936  Twitter for Android   \n",
       "757775689525309440          11299  Twitter for Android   \n",
       "757773671545044992          22344   Twitter for iPhone   \n",
       "757760973419712512          10243   Twitter for iPhone   \n",
       "757696233427312640           8073  Twitter for Android   \n",
       "757693383481626624           8581  Twitter for Android   \n",
       "757690343181737984          14025   Twitter for iPhone   \n",
       "757690132111777792           8381   Twitter for iPhone   \n",
       "757688331597668353           7846   Twitter for iPhone   \n",
       "757687988189065216           4206   Twitter for iPhone   \n",
       "757650904896139264          10296   Twitter for iPhone   \n",
       "757618048664829952          12696   Twitter for iPhone   \n",
       "\n",
       "                                                                 text  \\\n",
       "910993665568526337      A big day for the U.S. at the United Nations!   \n",
       "910992971620864004  Senator Luther Strange has gone up a lot in th...   \n",
       "910926223684931585  Today, I announced a new Executive Order with ...   \n",
       "910898047931912192  It was a great privilege to meet with Presiden...   \n",
       "910885755320459264  It was wonderful to have President Petro Poros...   \n",
       "910885156373721092  It was a pleasure to have President Ashraf Gha...   \n",
       "910703407555600386  Governor @RicardoRossello- \\nWe are with you a...   \n",
       "910671525543645185  Senator (Doctor) Bill Cassidy is a class act w...   \n",
       "910665452048838661  The NRA strongly endorses Luther Strange for S...   \n",
       "910641701064204288  I would not sign Graham-Cassidy if it did not ...   \n",
       "910635327672512512  Alabama is sooo lucky to have a candidate like...   \n",
       "910632095088889857  On behalf of all Americans, I want to wish Jew...   \n",
       "910581819078316034  RT @VP: Went to the Senate today to say @POTUS...   \n",
       "910580644597649409  Honored to host a luncheon for African leaders...   \n",
       "910551350408241152  Honored to meet w/ Pres Abbas from the Palesti...   \n",
       "910524897515905025  It was a great honor to be with King Abdullah ...   \n",
       "910480918816739328  Looking forward to Friday night in the Great S...   \n",
       "910477734635286528  I hope Republican Senators will vote for Graha...   \n",
       "910476107287269376  Rand Paul is a friend of mine but he is such a...   \n",
       "910459401558986752  RT @Franklin_Graham: Join me in praying for @P...   \n",
       "910458657179086848            Thank you  @foxandfriends - great show!   \n",
       "910455390038642688  RT @RealEagleBites: @realDonaldTrump It is the...   \n",
       "910454516557983744  The world is noticing, thanks! https://t.co/2N...   \n",
       "910454124696752130  RT @DonnaWR8: @realDonaldTrump Thank you @POTU...   \n",
       "910453612630900736  After allowing North Korea to research and bui...   \n",
       "910447064944955392  Big meetings today at the United Nations. So m...   \n",
       "910443493511827456  RT @Scavino45: \"The Iran deal was one of the w...   \n",
       "910443458564894720  RT @Scavino45: #WeThePeople🇺🇸\\n#USAatUNGA #UNG...   \n",
       "910443366911037440  RT @Scavino45: .@POTUS @realDonaldTrump and @U...   \n",
       "910332992756834304  I was saddened to see how bad the ratings were...   \n",
       "...                                                               ...   \n",
       "758236300554174465  Funny how the failing @nytimes is pushing Dems...   \n",
       "758233935230959617  As I have been saying, Crooked Hillary will ap...   \n",
       "758135085820416000  Just like I have warned from the beginning, Cr...   \n",
       "758122684798607360  Many of Bernie's supporters have left the aren...   \n",
       "758121939365982208  I hate to say it, but the Republican Conventio...   \n",
       "758120321845235712  No matter what Bill Clinton says and no matter...   \n",
       "758117640200187905  You have no idea what my strategy on ISIS is, ...   \n",
       "758071952498159616  For the record, I have ZERO investments in Rus...   \n",
       "758071264128806912  In order to try and deflect the horror and stu...   \n",
       "758026136299397120  Dems don't want to talk ISIS b/c Hillary's for...   \n",
       "758021060503756804  Bernie's exhausted, he just wants to shut down...   \n",
       "758020997383684096  The invention of email has proven to be a very...   \n",
       "758004154417553409  Thank you New Hampshire! \\n#MakeAmericaGreatAg...   \n",
       "757997327269306369  Join us in Toledo, Ohio- tomorrow night at 8pm...   \n",
       "757994830110658560  Join us tomorrow in Scranton, Pennsylvania at ...   \n",
       "757919034755076096        Pocahontas bombed last night! Sad to watch.   \n",
       "757918002339778560  Why aren't the Democrats speaking about ISIS, ...   \n",
       "757916962269704192  Funny, if you listen to @FoxNews, the Democrat...   \n",
       "757777369272815617  Bernie Sanders totally sold out to Crooked Hil...   \n",
       "757775689525309440  Elizabeth Warren, often referred to as Pocahon...   \n",
       "757773671545044992  Sad to watch Bernie Sanders abandon his revolu...   \n",
       "757760973419712512  If Cory Booker is the future of the Democratic...   \n",
       "757696233427312640  I was at @FoxNews and met Juan Williams in pas...   \n",
       "757693383481626624  Hard to believe that Bernie Sanders has done s...   \n",
       "757690343181737984  While Bernie has totally given up on his fight...   \n",
       "757690132111777792  Clinton betrayed Bernie voters. Kaine supports...   \n",
       "757688331597668353  Thank you OHIO! #TrumpPence16\\nhttps://t.co/NO...   \n",
       "757687988189065216  Thank you Roanoke, Virginia- be back soon! #Tr...   \n",
       "757650904896139264  MAKE AMERICA SAFE AND GREAT AGAIN! #TrumpPence...   \n",
       "757618048664829952  #MakeAmericaGreatAgain \\nhttps://t.co/EXsoUOsE...   \n",
       "\n",
       "                                  time  \n",
       "910993665568526337 2017-09-21 22:26:29  \n",
       "910992971620864004 2017-09-21 22:23:44  \n",
       "910926223684931585 2017-09-21 17:58:30  \n",
       "910898047931912192 2017-09-21 16:06:32  \n",
       "910885755320459264 2017-09-21 15:17:42  \n",
       "910885156373721092 2017-09-21 15:15:19  \n",
       "910703407555600386 2017-09-21 03:13:07  \n",
       "910671525543645185 2017-09-21 01:06:25  \n",
       "910665452048838661 2017-09-21 00:42:17  \n",
       "910641701064204288 2017-09-20 23:07:55  \n",
       "910635327672512512 2017-09-20 22:42:35  \n",
       "910632095088889857 2017-09-20 22:29:44  \n",
       "910581819078316034 2017-09-20 19:09:58  \n",
       "910580644597649409 2017-09-20 19:05:18  \n",
       "910551350408241152 2017-09-20 17:08:53  \n",
       "910524897515905025 2017-09-20 15:23:46  \n",
       "910480918816739328 2017-09-20 12:29:01  \n",
       "910477734635286528 2017-09-20 12:16:22  \n",
       "910476107287269376 2017-09-20 12:09:54  \n",
       "910459401558986752 2017-09-20 11:03:31  \n",
       "910458657179086848 2017-09-20 11:00:34  \n",
       "910455390038642688 2017-09-20 10:47:35  \n",
       "910454516557983744 2017-09-20 10:44:06  \n",
       "910454124696752130 2017-09-20 10:42:33  \n",
       "910453612630900736 2017-09-20 10:40:31  \n",
       "910447064944955392 2017-09-20 10:14:30  \n",
       "910443493511827456 2017-09-20 10:00:18  \n",
       "910443458564894720 2017-09-20 10:00:10  \n",
       "910443366911037440 2017-09-20 09:59:48  \n",
       "910332992756834304 2017-09-20 02:41:13  \n",
       "...                                ...  \n",
       "758236300554174465 2016-07-27 09:43:16  \n",
       "758233935230959617 2016-07-27 09:33:52  \n",
       "758135085820416000 2016-07-27 03:01:04  \n",
       "758122684798607360 2016-07-27 02:11:47  \n",
       "758121939365982208 2016-07-27 02:08:50  \n",
       "758120321845235712 2016-07-27 02:02:24  \n",
       "758117640200187905 2016-07-27 01:51:45  \n",
       "758071952498159616 2016-07-26 22:50:12  \n",
       "758071264128806912 2016-07-26 22:47:28  \n",
       "758026136299397120 2016-07-26 19:48:08  \n",
       "758021060503756804 2016-07-26 19:27:58  \n",
       "758020997383684096 2016-07-26 19:27:43  \n",
       "758004154417553409 2016-07-26 18:20:48  \n",
       "757997327269306369 2016-07-26 17:53:40  \n",
       "757994830110658560 2016-07-26 17:43:45  \n",
       "757919034755076096 2016-07-26 12:42:33  \n",
       "757918002339778560 2016-07-26 12:38:27  \n",
       "757916962269704192 2016-07-26 12:34:19  \n",
       "757777369272815617 2016-07-26 03:19:38  \n",
       "757775689525309440 2016-07-26 03:12:57  \n",
       "757773671545044992 2016-07-26 03:04:56  \n",
       "757760973419712512 2016-07-26 02:14:29  \n",
       "757696233427312640 2016-07-25 21:57:14  \n",
       "757693383481626624 2016-07-25 21:45:54  \n",
       "757690343181737984 2016-07-25 21:33:49  \n",
       "757690132111777792 2016-07-25 21:32:59  \n",
       "757688331597668353 2016-07-25 21:25:50  \n",
       "757687988189065216 2016-07-25 21:24:28  \n",
       "757650904896139264 2016-07-25 18:57:06  \n",
       "757618048664829952 2016-07-25 16:46:33  \n",
       "\n",
       "[3234 rows x 4 columns]"
      ]
     },
     "execution_count": 326,
     "metadata": {},
     "output_type": "execute_result"
    }
   ],
   "source": [
    "d={'time':p1,'source':p2,'text':p3,'retweet_count':p4}\n",
    "trump = pd.DataFrame(data=d)\n",
    "trump.index=p5\n",
    "trump"
   ]
  },
  {
   "cell_type": "code",
   "execution_count": 327,
   "metadata": {
    "tags": [
     "test",
     "q03"
    ]
   },
   "outputs": [
    {
     "name": "stdout",
     "output_type": "stream",
     "text": [
      "~~~~~~~~~~~~~~~~~~~~~~~~~~~~~~~~~~~~~~~~~~~~~~~~~~~~~~~~~~~~~~~~~~~~~\n",
      "Running tests\n",
      "\n",
      "---------------------------------------------------------------------\n",
      "Test summary\n",
      "    Passed: 1\n",
      "    Failed: 0\n",
      "[ooooooooook] 100.0% passed\n",
      "\n"
     ]
    },
    {
     "data": {
      "application/javascript": [
       "IPython.notebook.save_checkpoint();"
      ],
      "text/plain": [
       "<IPython.core.display.Javascript object>"
      ]
     },
     "metadata": {},
     "output_type": "display_data"
    },
    {
     "data": {
      "application/javascript": [
       "IPython.notebook.save_notebook();"
      ],
      "text/plain": [
       "<IPython.core.display.Javascript object>"
      ]
     },
     "metadata": {},
     "output_type": "display_data"
    },
    {
     "name": "stdout",
     "output_type": "stream",
     "text": [
      "Saving notebook... Saved 'proj1.ipynb'.\n",
      "Backup... 100% complete\n",
      "Backup successful for user: yining.jiang@berkeley.edu\n",
      "URL: https://okpy.org/cal/ds100/fa17/proj1_part1/backups/82Zjz5\n",
      "NOTE: this is only a backup. To submit your assignment, use:\n",
      "\tpython3 ok --submit\n",
      "\n"
     ]
    }
   ],
   "source": [
    "_ = ok.grade('q03')\n",
    "_ = ok.backup()"
   ]
  },
  {
   "cell_type": "markdown",
   "metadata": {},
   "source": [
    "Here are two important dates that we'll use in our analysis. `ELEC_DATE` is the date when Trump won the 2016 Presidential election, and `INAUG_DATE` is the date that Trump was sworn into office."
   ]
  },
  {
   "cell_type": "code",
   "execution_count": 328,
   "metadata": {
    "collapsed": true
   },
   "outputs": [],
   "source": [
    "from datetime import datetime\n",
    "\n",
    "ELEC_DATE = datetime(2016, 11, 8)\n",
    "INAUG_DATE = datetime(2017, 1, 20)"
   ]
  },
  {
   "cell_type": "markdown",
   "metadata": {},
   "source": [
    "Here are the first and last rows of your tweet data.\n",
    "\n",
    "You'll notice that the data contains tweets from before the election."
   ]
  },
  {
   "cell_type": "code",
   "execution_count": 329,
   "metadata": {},
   "outputs": [
    {
     "data": {
      "text/html": [
       "<div>\n",
       "<style>\n",
       "    .dataframe thead tr:only-child th {\n",
       "        text-align: right;\n",
       "    }\n",
       "\n",
       "    .dataframe thead th {\n",
       "        text-align: left;\n",
       "    }\n",
       "\n",
       "    .dataframe tbody tr th {\n",
       "        vertical-align: top;\n",
       "    }\n",
       "</style>\n",
       "<table border=\"1\" class=\"dataframe\">\n",
       "  <thead>\n",
       "    <tr style=\"text-align: right;\">\n",
       "      <th></th>\n",
       "      <th>retweet_count</th>\n",
       "      <th>source</th>\n",
       "      <th>text</th>\n",
       "      <th>time</th>\n",
       "    </tr>\n",
       "  </thead>\n",
       "  <tbody>\n",
       "    <tr>\n",
       "      <th>910993665568526337</th>\n",
       "      <td>8769</td>\n",
       "      <td>Twitter for iPhone</td>\n",
       "      <td>A big day for the U.S. at the United Nations!</td>\n",
       "      <td>2017-09-21 22:26:29</td>\n",
       "    </tr>\n",
       "    <tr>\n",
       "      <th>757618048664829952</th>\n",
       "      <td>12696</td>\n",
       "      <td>Twitter for iPhone</td>\n",
       "      <td>#MakeAmericaGreatAgain \\nhttps://t.co/EXsoUOsE...</td>\n",
       "      <td>2016-07-25 16:46:33</td>\n",
       "    </tr>\n",
       "  </tbody>\n",
       "</table>\n",
       "</div>"
      ],
      "text/plain": [
       "                    retweet_count              source  \\\n",
       "910993665568526337           8769  Twitter for iPhone   \n",
       "757618048664829952          12696  Twitter for iPhone   \n",
       "\n",
       "                                                                 text  \\\n",
       "910993665568526337      A big day for the U.S. at the United Nations!   \n",
       "757618048664829952  #MakeAmericaGreatAgain \\nhttps://t.co/EXsoUOsE...   \n",
       "\n",
       "                                  time  \n",
       "910993665568526337 2017-09-21 22:26:29  \n",
       "757618048664829952 2016-07-25 16:46:33  "
      ]
     },
     "execution_count": 329,
     "metadata": {},
     "output_type": "execute_result"
    }
   ],
   "source": [
    "trump.iloc[[0, -1], :]"
   ]
  },
  {
   "cell_type": "markdown",
   "metadata": {},
   "source": [
    "## Question 4: Tweet Source Analysis\n",
    "\n",
    "In the following questions, we are going to find out the charateristics of Trump tweets and the devices used for the tweets.\n",
    "\n",
    "---\n",
    "<br/><br/>\n",
    "\n",
    "## Question 4a\n",
    "\n",
    "Find out the number of unique sources of the Trump tweets. Save the result in `num_sources`. \n",
    "\n",
    "Then, make a bar plot of the counts of different sources."
   ]
  },
  {
   "cell_type": "code",
   "execution_count": 330,
   "metadata": {
    "tags": [
     "student"
    ]
   },
   "outputs": [
    {
     "data": {
      "text/plain": [
       "<matplotlib.axes._subplots.AxesSubplot at 0x10e4bdac8>"
      ]
     },
     "execution_count": 330,
     "metadata": {},
     "output_type": "execute_result"
    },
    {
     "data": {
      "image/png": "[encoded data removed]",
      "text/plain": [
       "<matplotlib.figure.Figure at 0x10e4b1278>"
      ]
     },
     "metadata": {},
     "output_type": "display_data"
    }
   ],
   "source": [
    "num_sources = len(trump['source'].unique())\n",
    "# make a bar plot here\n",
    "sources=trump.groupby('source').count()\n",
    "sources['time'].plot.barh(figsize=(8, 8))"
   ]
  },
  {
   "cell_type": "code",
   "execution_count": 331,
   "metadata": {
    "tags": [
     "test",
     "q04a"
    ]
   },
   "outputs": [
    {
     "name": "stdout",
     "output_type": "stream",
     "text": [
      "~~~~~~~~~~~~~~~~~~~~~~~~~~~~~~~~~~~~~~~~~~~~~~~~~~~~~~~~~~~~~~~~~~~~~\n",
      "Running tests\n",
      "\n",
      "---------------------------------------------------------------------\n",
      "Test summary\n",
      "    Passed: 1\n",
      "    Failed: 0\n",
      "[ooooooooook] 100.0% passed\n",
      "\n"
     ]
    },
    {
     "data": {
      "application/javascript": [
       "IPython.notebook.save_checkpoint();"
      ],
      "text/plain": [
       "<IPython.core.display.Javascript object>"
      ]
     },
     "metadata": {},
     "output_type": "display_data"
    },
    {
     "data": {
      "application/javascript": [
       "IPython.notebook.save_notebook();"
      ],
      "text/plain": [
       "<IPython.core.display.Javascript object>"
      ]
     },
     "metadata": {},
     "output_type": "display_data"
    },
    {
     "name": "stdout",
     "output_type": "stream",
     "text": [
      "Saving notebook... Saved 'proj1.ipynb'.\n",
      "Backup... 100% complete\n",
      "Backup successful for user: yining.jiang@berkeley.edu\n",
      "URL: https://okpy.org/cal/ds100/fa17/proj1_part1/backups/lYwBkJ\n",
      "NOTE: this is only a backup. To submit your assignment, use:\n",
      "\tpython3 ok --submit\n",
      "\n"
     ]
    }
   ],
   "source": [
    "_ = ok.grade('q04a')\n",
    "_ = ok.backup()"
   ]
  },
  {
   "cell_type": "markdown",
   "metadata": {},
   "source": [
    "As we can see from the plot above, Trump tweets are mostly from iPhone or Android. Is there a difference between his Tweet behavior between the two devices?\n",
    "\n",
    "We will attempt to answer this question in our subsequent analysis.\n",
    "\n",
    "First, we'll take a look at whether Trump's tweets from an Android come at different times than his tweets from an iPhone. Note that Twitter gives us his tweets in the [UTC timezone](https://www.wikiwand.com/en/List_of_UTC_time_offsets):"
   ]
  },
  {
   "cell_type": "code",
   "execution_count": 332,
   "metadata": {},
   "outputs": [
    {
     "name": "stdout",
     "output_type": "stream",
     "text": [
      "Thu Sep 21 22:26:29 +0000 2017\n"
     ]
    }
   ],
   "source": [
    "print(trump_tweets[0]._json['created_at'])"
   ]
  },
  {
   "cell_type": "markdown",
   "metadata": {},
   "source": [
    "We'll convert the tweet times to US Eastern Time, the timezone of New York and Washington D.C., since those are the places we would expect the most tweet activity from Trump."
   ]
  },
  {
   "cell_type": "code",
   "execution_count": 333,
   "metadata": {},
   "outputs": [
    {
     "data": {
      "text/html": [
       "<div>\n",
       "<style>\n",
       "    .dataframe thead tr:only-child th {\n",
       "        text-align: right;\n",
       "    }\n",
       "\n",
       "    .dataframe thead th {\n",
       "        text-align: left;\n",
       "    }\n",
       "\n",
       "    .dataframe tbody tr th {\n",
       "        vertical-align: top;\n",
       "    }\n",
       "</style>\n",
       "<table border=\"1\" class=\"dataframe\">\n",
       "  <thead>\n",
       "    <tr style=\"text-align: right;\">\n",
       "      <th></th>\n",
       "      <th>retweet_count</th>\n",
       "      <th>source</th>\n",
       "      <th>text</th>\n",
       "      <th>time</th>\n",
       "      <th>est_time</th>\n",
       "    </tr>\n",
       "  </thead>\n",
       "  <tbody>\n",
       "    <tr>\n",
       "      <th>910993665568526337</th>\n",
       "      <td>8769</td>\n",
       "      <td>Twitter for iPhone</td>\n",
       "      <td>A big day for the U.S. at the United Nations!</td>\n",
       "      <td>2017-09-21 22:26:29</td>\n",
       "      <td>2017-09-21 18:26:29-04:00</td>\n",
       "    </tr>\n",
       "    <tr>\n",
       "      <th>910992971620864004</th>\n",
       "      <td>4722</td>\n",
       "      <td>Twitter for iPhone</td>\n",
       "      <td>Senator Luther Strange has gone up a lot in th...</td>\n",
       "      <td>2017-09-21 22:23:44</td>\n",
       "      <td>2017-09-21 18:23:44-04:00</td>\n",
       "    </tr>\n",
       "    <tr>\n",
       "      <th>910926223684931585</th>\n",
       "      <td>13597</td>\n",
       "      <td>Media Studio</td>\n",
       "      <td>Today, I announced a new Executive Order with ...</td>\n",
       "      <td>2017-09-21 17:58:30</td>\n",
       "      <td>2017-09-21 13:58:30-04:00</td>\n",
       "    </tr>\n",
       "    <tr>\n",
       "      <th>910898047931912192</th>\n",
       "      <td>7231</td>\n",
       "      <td>Media Studio</td>\n",
       "      <td>It was a great privilege to meet with Presiden...</td>\n",
       "      <td>2017-09-21 16:06:32</td>\n",
       "      <td>2017-09-21 12:06:32-04:00</td>\n",
       "    </tr>\n",
       "    <tr>\n",
       "      <th>910885755320459264</th>\n",
       "      <td>5030</td>\n",
       "      <td>Twitter for iPhone</td>\n",
       "      <td>It was wonderful to have President Petro Poros...</td>\n",
       "      <td>2017-09-21 15:17:42</td>\n",
       "      <td>2017-09-21 11:17:42-04:00</td>\n",
       "    </tr>\n",
       "  </tbody>\n",
       "</table>\n",
       "</div>"
      ],
      "text/plain": [
       "                    retweet_count              source  \\\n",
       "910993665568526337           8769  Twitter for iPhone   \n",
       "910992971620864004           4722  Twitter for iPhone   \n",
       "910926223684931585          13597        Media Studio   \n",
       "910898047931912192           7231        Media Studio   \n",
       "910885755320459264           5030  Twitter for iPhone   \n",
       "\n",
       "                                                                 text  \\\n",
       "910993665568526337      A big day for the U.S. at the United Nations!   \n",
       "910992971620864004  Senator Luther Strange has gone up a lot in th...   \n",
       "910926223684931585  Today, I announced a new Executive Order with ...   \n",
       "910898047931912192  It was a great privilege to meet with Presiden...   \n",
       "910885755320459264  It was wonderful to have President Petro Poros...   \n",
       "\n",
       "                                  time                  est_time  \n",
       "910993665568526337 2017-09-21 22:26:29 2017-09-21 18:26:29-04:00  \n",
       "910992971620864004 2017-09-21 22:23:44 2017-09-21 18:23:44-04:00  \n",
       "910926223684931585 2017-09-21 17:58:30 2017-09-21 13:58:30-04:00  \n",
       "910898047931912192 2017-09-21 16:06:32 2017-09-21 12:06:32-04:00  \n",
       "910885755320459264 2017-09-21 15:17:42 2017-09-21 11:17:42-04:00  "
      ]
     },
     "execution_count": 333,
     "metadata": {},
     "output_type": "execute_result"
    }
   ],
   "source": [
    "trump['est_time'] = pd.Index(trump['time']).tz_localize(\"UTC\").tz_convert(\"US/Eastern\")\n",
    "trump.head()"
   ]
  },
  {
   "cell_type": "markdown",
   "metadata": {},
   "source": [
    "---\n",
    "<br/><br/>\n",
    "\n",
    "## Question 4b\n",
    "\n",
    "Use this data to make a line plot with two curves:\n",
    "\n",
    "1. The number of iPhone tweets vs. hour of the day, normalized over the hours of the day. For example, if there were 10 tweets at 1pm and 20 tweets at 2pm, the line plot should be 0, then 0.33 at 1pm, 0.66 at 2pm, then back to 0.\n",
    "2. The same curve for Android tweets.\n",
    "\n",
    "Put the two curves in the same plot. You should get a plot that looks like:\n",
    "\n",
    "![](device_hour.png)\n",
    "\n",
    "Hint: use `value_counts` with `normalization`"
   ]
  },
  {
   "cell_type": "code",
   "execution_count": 334,
   "metadata": {
    "collapsed": true
   },
   "outputs": [],
   "source": [
    "#trump['month']=pd.to_datetime(trump[\"time\"], format='%Y%m%d', errors='ignore').dt.month\n",
    "#trump['day']=pd.to_datetime(trump[\"time\"], format='%Y%m%d', errors='ignore').dt.day\n",
    "trump['hour']=pd.to_datetime(trump[\"est_time\"], format='%Y%m%d', errors='ignore').dt.hour\n",
    "#trump['min']=pd.to_datetime(trump[\"time\"], format='%Y%m%d', errors='ignore').dt.minute\n",
    "#trump['sec']=pd.to_datetime(trump[\"time\"], format='%Y%m%d', errors='ignore').dt.second\n",
    "iph=trump[trump['source']=='Twitter for iPhone']\n",
    "andr=trump[trump['source']=='Twitter for Android']"
   ]
  },
  {
   "cell_type": "code",
   "execution_count": 335,
   "metadata": {
    "collapsed": true
   },
   "outputs": [],
   "source": [
    "iph1=pd.DataFrame(iph['hour'].value_counts(normalize=True))\n",
    "andr2=pd.DataFrame(andr['hour'].value_counts(normalize=True))\n",
    "iph1=iph1.sort_index()\n",
    "andr2=andr2.sort_index()"
   ]
  },
  {
   "cell_type": "code",
   "execution_count": 336,
   "metadata": {
    "tags": [
     "student",
     "written"
    ]
   },
   "outputs": [
    {
     "data": {
      "text/plain": [
       "<matplotlib.text.Text at 0x10e592a58>"
      ]
     },
     "execution_count": 336,
     "metadata": {},
     "output_type": "execute_result"
    },
    {
     "data": {
      "image/png": "[encoded data removed]",
      "text/plain": [
       "<matplotlib.figure.Figure at 0x10e535f28>"
      ]
     },
     "metadata": {},
     "output_type": "display_data"
    }
   ],
   "source": [
    "### make your plot here\n",
    "plt.plot(iph1.index,iph1['hour'],label='iPhone')\n",
    "plt.plot(andr2.index,andr2['hour'],label='Android')\n",
    "plt.legend()\n",
    "plt.xlim(0,23)\n",
    "plt.xlabel('hour')\n",
    "plt.ylabel('fraction')"
   ]
  },
  {
   "cell_type": "markdown",
   "metadata": {},
   "source": [
    "--- \n",
    "<br></br>\n",
    "\n",
    "## Question 4c\n",
    "What can you find out in the plot?"
   ]
  },
  {
   "cell_type": "code",
   "execution_count": 337,
   "metadata": {
    "tags": [
     "student",
     "written"
    ]
   },
   "outputs": [
    {
     "data": {
      "text/markdown": [
       "\n",
       "\n",
       "Trump is more likely to text tweets during 5am-10am,and some tweets seem not to be sent by Trump himself.\n",
       "\n"
      ],
      "text/plain": [
       "<IPython.core.display.Markdown object>"
      ]
     },
     "metadata": {},
     "output_type": "display_data"
    }
   ],
   "source": [
    "q4c_answer = r\"\"\"\n",
    "\n",
    "Trump is more likely to text tweets during 5am-10am,and some tweets seem not to be sent by Trump himself.\n",
    "\n",
    "\"\"\"\n",
    "\n",
    "display(Markdown(q4c_answer))"
   ]
  },
  {
   "cell_type": "markdown",
   "metadata": {},
   "source": [
    "--- \n",
    "<br></br>\n",
    "\n",
    "Let's now look at his tweet device usage over the entire time period we have in the dataset.\n",
    "\n",
    "Take a look at the code below and the plot it generates.\n",
    "\n",
    "You should be answer the following questions about this code. You don't have to write the answers down anywhere, but you'll need to make variations of this plot in later questions so understanding this code will help you greatly.\n",
    "\n",
    "1. What does `set_index` do here?\n",
    "1. What does `resample` do? What does the `'D'` argument do in `resample`?\n",
    "1. What does `unstack` do? What does the `level=0` argument do in unstack?\n",
    "1. Why does one call to `plot()` generate 7 lines?\n",
    "\n",
    "Feel free to copy this cell, play around with the code to see the intermediate result, then delete your cell after you're done.\n",
    "\n",
    "(**Also, all the questions in this project can be answered using this style of method chaining.** If you write `for` loops in this project, know that there is a better way.)"
   ]
  },
  {
   "cell_type": "code",
   "execution_count": 338,
   "metadata": {},
   "outputs": [
    {
     "data": {
      "text/plain": [
       "<matplotlib.text.Text at 0x10e67a278>"
      ]
     },
     "execution_count": 338,
     "metadata": {},
     "output_type": "execute_result"
    },
    {
     "data": {
      "image/png": "[encoded data removed]",
      "text/plain": [
       "<matplotlib.figure.Figure at 0x10e6c2550>"
      ]
     },
     "metadata": {},
     "output_type": "display_data"
    }
   ],
   "source": [
    "(trump.loc[:, ['est_time', 'source']]\n",
    " .set_index('est_time')\n",
    " .groupby('source')\n",
    " .resample('D')\n",
    " .size()\n",
    " .unstack(level=0)\n",
    " .plot()\n",
    ")\n",
    "plt.xlabel('time')\n",
    "plt.ylabel('count')"
   ]
  },
  {
   "cell_type": "markdown",
   "metadata": {},
   "source": [
    "## Question 4d\n",
    "\n",
    "One problem with the plot above is that it plots too many points to see overall trends in the device usage.\n",
    "\n",
    "Recreate the plot above, grouping by each month instead of each day. You may want to use the `figsize` argument to `plot` to make your plot larger."
   ]
  },
  {
   "cell_type": "code",
   "execution_count": 339,
   "metadata": {
    "tags": [
     "student",
     "written"
    ]
   },
   "outputs": [
    {
     "data": {
      "text/plain": [
       "<matplotlib.text.Text at 0x10e6c2be0>"
      ]
     },
     "execution_count": 339,
     "metadata": {},
     "output_type": "execute_result"
    },
    {
     "data": {
      "image/png": "[encoded data removed]",
      "text/plain": [
       "<matplotlib.figure.Figure at 0x10e7c25c0>"
      ]
     },
     "metadata": {},
     "output_type": "display_data"
    }
   ],
   "source": [
    "### make your plot here \n",
    "(trump.loc[:, ['est_time', 'source']]\n",
    " .set_index('est_time')\n",
    " .groupby('source')\n",
    " .resample('M')\n",
    " .size()\n",
    " .unstack(level=0)\n",
    " .plot()\n",
    ")\n",
    "plt.xlabel('time')\n",
    "plt.ylabel('count')"
   ]
  },
  {
   "cell_type": "markdown",
   "metadata": {},
   "source": [
    "According to the plot, Trump's tweets come from many different sources. It turns out that many of his tweets were not from Trump himself but from his staff. [Take a look at this Verge article.](https://www.theverge.com/2017/3/29/15103504/donald-trump-iphone-using-switched-android)\n",
    "\n",
    "Does the data support the information in the article? What else do you find out about changes in Trump's tweets sources from the plot?"
   ]
  },
  {
   "cell_type": "code",
   "execution_count": 340,
   "metadata": {
    "tags": [
     "student",
     "written"
    ]
   },
   "outputs": [
    {
     "data": {
      "text/markdown": [
       "\n",
       "\n",
       "It is shown that since March in 2017,the majority of the tweets are from the iPhone and no tweets are from Android any more\n",
       ",which supports that Trump began using iPhone instead of Android phone.What is more,it seems that Trump did tweet by himself through \n",
       "his iPhone since March 2017 because there has been very few tweets from Media Studio besides iPhone.\n"
      ],
      "text/plain": [
       "<IPython.core.display.Markdown object>"
      ]
     },
     "metadata": {},
     "output_type": "display_data"
    }
   ],
   "source": [
    "q4d_answer = r\"\"\"\n",
    "\n",
    "It is shown that since March in 2017,the majority of the tweets are from the iPhone and no tweets are from Android any more\n",
    ",which supports that Trump began using iPhone instead of Android phone.What is more,it seems that Trump did tweet by himself through \n",
    "his iPhone since March 2017 because there has been very few tweets from Media Studio besides iPhone.\n",
    "\"\"\"\n",
    "\n",
    "display(Markdown(q4d_answer))"
   ]
  },
  {
   "cell_type": "markdown",
   "metadata": {},
   "source": [
    "What are some ways we can distinguish between tweets that came from Trump and tweets from his staff? Before, it was as easy as checked which device the tweet came from. Now, we have to rely on more sophisticated methods."
   ]
  },
  {
   "cell_type": "markdown",
   "metadata": {},
   "source": [
    "## Project Checkpoint Reached\n",
    "\n",
    "Congrats, you just reached the Project 1 checkpoint!\n",
    "\n",
    "Now, run the cell below to submit your assignment to OkPy. The autograder should email you shortly with your autograded score. The autograder will only run once every 30 minutes.\n",
    "\n",
    "Note that you'll probably get 0 points on Questions 5-8. Since you haven't gotten there yet, don't worry about missing those points.\n",
    "\n",
    "**Note that the checkpoint is graded on completeness. This means that we'll check whether you attempted to solve each question, not whether you've gotten them right. When you submit the final submission of the project, you can go back and revise your answers to Questions 1-4.**"
   ]
  },
  {
   "cell_type": "code",
   "execution_count": 341,
   "metadata": {},
   "outputs": [
    {
     "data": {
      "application/javascript": [
       "IPython.notebook.save_checkpoint();"
      ],
      "text/plain": [
       "<IPython.core.display.Javascript object>"
      ]
     },
     "metadata": {},
     "output_type": "display_data"
    },
    {
     "data": {
      "application/javascript": [
       "IPython.notebook.save_notebook();"
      ],
      "text/plain": [
       "<IPython.core.display.Javascript object>"
      ]
     },
     "metadata": {},
     "output_type": "display_data"
    },
    {
     "name": "stdout",
     "output_type": "stream",
     "text": [
      "Saving notebook... Saved 'proj1.ipynb'.\n",
      "Submit... 100% complete\n",
      "Submission successful for user: yining.jiang@berkeley.edu\n",
      "URL: https://okpy.org/cal/ds100/fa17/proj1_part1/submissions/qxBKoR\n",
      "NOTE: this is only a backup. To submit your assignment, use:\n",
      "\tpython3 ok --submit\n",
      "\n"
     ]
    }
   ],
   "source": [
    "_ = ok.submit()"
   ]
  },
  {
   "cell_type": "markdown",
   "metadata": {},
   "source": [
    "---\n",
    "<br></br>\n",
    "\n",
    "## Question 5: Sentiment Analysis\n",
    "\n",
    "It turns out that we can use the words in Trump's tweets to calculate a measure of the sentiment of the tweet. For example, the sentence \"I love America!\" has positive sentiment, whereas the sentence \"I hate taxes!\" has a negative sentiment. In addition, some words have stronger positive / negative sentiment than others: \"I love America.\" is more positive than \"I like America.\"\n",
    "\n",
    "We will use the [VADER (Valence Aware Dictionary and sEntiment Reasoner)](https://github.com/cjhutto/vaderSentiment) lexicon to analyze the sentiment of Trump's tweets. VADER is a lexicon and rule-based sentiment analysis tool that is specifically attuned to sentiments expressed in social media which is great for our usage.\n",
    "\n",
    "The VADER lexicon gives the sentiment of individual words. Run the following cell to show the first few rows of the lexicon:"
   ]
  },
  {
   "cell_type": "code",
   "execution_count": 342,
   "metadata": {},
   "outputs": [
    {
     "name": "stdout",
     "output_type": "stream",
     "text": [
      "$:\t-1.5\t0.80623\t[-1, -1, -1, -1, -3, -1, -3, -1, -2, -1]\r\n",
      "%)\t-0.4\t1.0198\t[-1, 0, -1, 0, 0, -2, -1, 2, -1, 0]\r\n",
      "%-)\t-1.5\t1.43178\t[-2, 0, -2, -2, -1, 2, -2, -3, -2, -3]\r\n",
      "&-:\t-0.4\t1.42829\t[-3, -1, 0, 0, -1, -1, -1, 2, -1, 2]\r\n",
      "&:\t-0.7\t0.64031\t[0, -1, -1, -1, 1, -1, -1, -1, -1, -1]\r\n",
      "( '}{' )\t1.6\t0.66332\t[1, 2, 2, 1, 1, 2, 2, 1, 3, 1]\r\n",
      "(%\t-0.9\t0.9434\t[0, 0, 1, -1, -1, -1, -2, -2, -1, -2]\r\n",
      "('-:\t2.2\t1.16619\t[4, 1, 4, 3, 1, 2, 3, 1, 2, 1]\r\n",
      "(':\t2.3\t0.9\t[1, 3, 3, 2, 2, 4, 2, 3, 1, 2]\r\n",
      "((-:\t2.1\t0.53852\t[2, 2, 2, 1, 2, 3, 2, 2, 3, 2]\r\n"
     ]
    }
   ],
   "source": [
    "!head vader_lexicon.txt"
   ]
  },
  {
   "cell_type": "code",
   "execution_count": 343,
   "metadata": {
    "collapsed": true
   },
   "outputs": [],
   "source": [
    "a=pd.read_table('vader_lexicon.txt',header=None)\n"
   ]
  },
  {
   "cell_type": "markdown",
   "metadata": {},
   "source": [
    "---\n",
    "<br/><br/>\n",
    "\n",
    "## Question 5a\n",
    "\n",
    "As you can see, the lexicon contains emojis too! The first column of the lexicon is the *token*, or the word itself. The second column is the *polarity* of the word, or how positive / negative it is.\n",
    "\n",
    "(How did they decide the polarities of these words? What are the other two columns in the lexicon? See the link above.)\n",
    "\n",
    " Read in the lexicon into a DataFrame called `sent`. The index of the DF should be the tokens in the lexicon. `sent` should have one column: `polarity`: The polarity of each token."
   ]
  },
  {
   "cell_type": "code",
   "execution_count": 344,
   "metadata": {
    "tags": [
     "student"
    ]
   },
   "outputs": [
    {
     "data": {
      "text/html": [
       "<div>\n",
       "<style>\n",
       "    .dataframe thead tr:only-child th {\n",
       "        text-align: right;\n",
       "    }\n",
       "\n",
       "    .dataframe thead th {\n",
       "        text-align: left;\n",
       "    }\n",
       "\n",
       "    .dataframe tbody tr th {\n",
       "        vertical-align: top;\n",
       "    }\n",
       "</style>\n",
       "<table border=\"1\" class=\"dataframe\">\n",
       "  <thead>\n",
       "    <tr style=\"text-align: right;\">\n",
       "      <th></th>\n",
       "      <th>polarity</th>\n",
       "    </tr>\n",
       "    <tr>\n",
       "      <th>0</th>\n",
       "      <th></th>\n",
       "    </tr>\n",
       "  </thead>\n",
       "  <tbody>\n",
       "    <tr>\n",
       "      <th>$:</th>\n",
       "      <td>-1.5</td>\n",
       "    </tr>\n",
       "    <tr>\n",
       "      <th>%)</th>\n",
       "      <td>-0.4</td>\n",
       "    </tr>\n",
       "    <tr>\n",
       "      <th>%-)</th>\n",
       "      <td>-1.5</td>\n",
       "    </tr>\n",
       "    <tr>\n",
       "      <th>&amp;-:</th>\n",
       "      <td>-0.4</td>\n",
       "    </tr>\n",
       "    <tr>\n",
       "      <th>&amp;:</th>\n",
       "      <td>-0.7</td>\n",
       "    </tr>\n",
       "    <tr>\n",
       "      <th>( '}{' )</th>\n",
       "      <td>1.6</td>\n",
       "    </tr>\n",
       "    <tr>\n",
       "      <th>(%</th>\n",
       "      <td>-0.9</td>\n",
       "    </tr>\n",
       "    <tr>\n",
       "      <th>('-:</th>\n",
       "      <td>2.2</td>\n",
       "    </tr>\n",
       "    <tr>\n",
       "      <th>(':</th>\n",
       "      <td>2.3</td>\n",
       "    </tr>\n",
       "    <tr>\n",
       "      <th>((-:</th>\n",
       "      <td>2.1</td>\n",
       "    </tr>\n",
       "    <tr>\n",
       "      <th>(*</th>\n",
       "      <td>1.1</td>\n",
       "    </tr>\n",
       "    <tr>\n",
       "      <th>(-%</th>\n",
       "      <td>-0.7</td>\n",
       "    </tr>\n",
       "    <tr>\n",
       "      <th>(-*</th>\n",
       "      <td>1.3</td>\n",
       "    </tr>\n",
       "    <tr>\n",
       "      <th>(-:</th>\n",
       "      <td>1.6</td>\n",
       "    </tr>\n",
       "    <tr>\n",
       "      <th>(-:0</th>\n",
       "      <td>2.8</td>\n",
       "    </tr>\n",
       "    <tr>\n",
       "      <th>(-:&lt;</th>\n",
       "      <td>-0.4</td>\n",
       "    </tr>\n",
       "    <tr>\n",
       "      <th>(-:o</th>\n",
       "      <td>1.5</td>\n",
       "    </tr>\n",
       "    <tr>\n",
       "      <th>(-:O</th>\n",
       "      <td>1.5</td>\n",
       "    </tr>\n",
       "    <tr>\n",
       "      <th>(-:{</th>\n",
       "      <td>-0.1</td>\n",
       "    </tr>\n",
       "    <tr>\n",
       "      <th>(-:|&gt;*</th>\n",
       "      <td>1.9</td>\n",
       "    </tr>\n",
       "    <tr>\n",
       "      <th>(-;</th>\n",
       "      <td>1.3</td>\n",
       "    </tr>\n",
       "    <tr>\n",
       "      <th>(-;|</th>\n",
       "      <td>2.1</td>\n",
       "    </tr>\n",
       "    <tr>\n",
       "      <th>(8</th>\n",
       "      <td>2.6</td>\n",
       "    </tr>\n",
       "    <tr>\n",
       "      <th>(:</th>\n",
       "      <td>2.2</td>\n",
       "    </tr>\n",
       "    <tr>\n",
       "      <th>(:0</th>\n",
       "      <td>2.4</td>\n",
       "    </tr>\n",
       "    <tr>\n",
       "      <th>(:&lt;</th>\n",
       "      <td>-0.2</td>\n",
       "    </tr>\n",
       "    <tr>\n",
       "      <th>(:o</th>\n",
       "      <td>2.5</td>\n",
       "    </tr>\n",
       "    <tr>\n",
       "      <th>(:O</th>\n",
       "      <td>2.5</td>\n",
       "    </tr>\n",
       "    <tr>\n",
       "      <th>(;</th>\n",
       "      <td>1.1</td>\n",
       "    </tr>\n",
       "    <tr>\n",
       "      <th>(;&lt;</th>\n",
       "      <td>0.3</td>\n",
       "    </tr>\n",
       "    <tr>\n",
       "      <th>...</th>\n",
       "      <td>...</td>\n",
       "    </tr>\n",
       "    <tr>\n",
       "      <th>xd</th>\n",
       "      <td>2.8</td>\n",
       "    </tr>\n",
       "    <tr>\n",
       "      <th>xp</th>\n",
       "      <td>1.6</td>\n",
       "    </tr>\n",
       "    <tr>\n",
       "      <th>yay</th>\n",
       "      <td>2.4</td>\n",
       "    </tr>\n",
       "    <tr>\n",
       "      <th>yeah</th>\n",
       "      <td>1.2</td>\n",
       "    </tr>\n",
       "    <tr>\n",
       "      <th>yearning</th>\n",
       "      <td>0.5</td>\n",
       "    </tr>\n",
       "    <tr>\n",
       "      <th>yeees</th>\n",
       "      <td>1.7</td>\n",
       "    </tr>\n",
       "    <tr>\n",
       "      <th>yep</th>\n",
       "      <td>1.2</td>\n",
       "    </tr>\n",
       "    <tr>\n",
       "      <th>yes</th>\n",
       "      <td>1.7</td>\n",
       "    </tr>\n",
       "    <tr>\n",
       "      <th>youthful</th>\n",
       "      <td>1.3</td>\n",
       "    </tr>\n",
       "    <tr>\n",
       "      <th>yucky</th>\n",
       "      <td>-1.8</td>\n",
       "    </tr>\n",
       "    <tr>\n",
       "      <th>yummy</th>\n",
       "      <td>2.4</td>\n",
       "    </tr>\n",
       "    <tr>\n",
       "      <th>zealot</th>\n",
       "      <td>-1.9</td>\n",
       "    </tr>\n",
       "    <tr>\n",
       "      <th>zealots</th>\n",
       "      <td>-0.8</td>\n",
       "    </tr>\n",
       "    <tr>\n",
       "      <th>zealous</th>\n",
       "      <td>0.5</td>\n",
       "    </tr>\n",
       "    <tr>\n",
       "      <th>{:</th>\n",
       "      <td>1.8</td>\n",
       "    </tr>\n",
       "    <tr>\n",
       "      <th>|-0</th>\n",
       "      <td>-1.2</td>\n",
       "    </tr>\n",
       "    <tr>\n",
       "      <th>|-:</th>\n",
       "      <td>-0.8</td>\n",
       "    </tr>\n",
       "    <tr>\n",
       "      <th>|-:&gt;</th>\n",
       "      <td>-1.6</td>\n",
       "    </tr>\n",
       "    <tr>\n",
       "      <th>|-o</th>\n",
       "      <td>-1.2</td>\n",
       "    </tr>\n",
       "    <tr>\n",
       "      <th>|:</th>\n",
       "      <td>-0.5</td>\n",
       "    </tr>\n",
       "    <tr>\n",
       "      <th>|;-)</th>\n",
       "      <td>2.2</td>\n",
       "    </tr>\n",
       "    <tr>\n",
       "      <th>|=</th>\n",
       "      <td>-0.4</td>\n",
       "    </tr>\n",
       "    <tr>\n",
       "      <th>|^:</th>\n",
       "      <td>-1.1</td>\n",
       "    </tr>\n",
       "    <tr>\n",
       "      <th>|o:</th>\n",
       "      <td>-0.9</td>\n",
       "    </tr>\n",
       "    <tr>\n",
       "      <th>||-:</th>\n",
       "      <td>-2.3</td>\n",
       "    </tr>\n",
       "    <tr>\n",
       "      <th>}:</th>\n",
       "      <td>-2.1</td>\n",
       "    </tr>\n",
       "    <tr>\n",
       "      <th>}:(</th>\n",
       "      <td>-2.0</td>\n",
       "    </tr>\n",
       "    <tr>\n",
       "      <th>}:)</th>\n",
       "      <td>0.4</td>\n",
       "    </tr>\n",
       "    <tr>\n",
       "      <th>}:-(</th>\n",
       "      <td>-2.1</td>\n",
       "    </tr>\n",
       "    <tr>\n",
       "      <th>}:-)</th>\n",
       "      <td>0.3</td>\n",
       "    </tr>\n",
       "  </tbody>\n",
       "</table>\n",
       "<p>7517 rows × 1 columns</p>\n",
       "</div>"
      ],
      "text/plain": [
       "          polarity\n",
       "0                 \n",
       "$:            -1.5\n",
       "%)            -0.4\n",
       "%-)           -1.5\n",
       "&-:           -0.4\n",
       "&:            -0.7\n",
       "( '}{' )       1.6\n",
       "(%            -0.9\n",
       "('-:           2.2\n",
       "(':            2.3\n",
       "((-:           2.1\n",
       "(*             1.1\n",
       "(-%           -0.7\n",
       "(-*            1.3\n",
       "(-:            1.6\n",
       "(-:0           2.8\n",
       "(-:<          -0.4\n",
       "(-:o           1.5\n",
       "(-:O           1.5\n",
       "(-:{          -0.1\n",
       "(-:|>*         1.9\n",
       "(-;            1.3\n",
       "(-;|           2.1\n",
       "(8             2.6\n",
       "(:             2.2\n",
       "(:0            2.4\n",
       "(:<           -0.2\n",
       "(:o            2.5\n",
       "(:O            2.5\n",
       "(;             1.1\n",
       "(;<            0.3\n",
       "...            ...\n",
       "xd             2.8\n",
       "xp             1.6\n",
       "yay            2.4\n",
       "yeah           1.2\n",
       "yearning       0.5\n",
       "yeees          1.7\n",
       "yep            1.2\n",
       "yes            1.7\n",
       "youthful       1.3\n",
       "yucky         -1.8\n",
       "yummy          2.4\n",
       "zealot        -1.9\n",
       "zealots       -0.8\n",
       "zealous        0.5\n",
       "{:             1.8\n",
       "|-0           -1.2\n",
       "|-:           -0.8\n",
       "|-:>          -1.6\n",
       "|-o           -1.2\n",
       "|:            -0.5\n",
       "|;-)           2.2\n",
       "|=            -0.4\n",
       "|^:           -1.1\n",
       "|o:           -0.9\n",
       "||-:          -2.3\n",
       "}:            -2.1\n",
       "}:(           -2.0\n",
       "}:)            0.4\n",
       "}:-(          -2.1\n",
       "}:-)           0.3\n",
       "\n",
       "[7517 rows x 1 columns]"
      ]
     },
     "execution_count": 344,
     "metadata": {},
     "output_type": "execute_result"
    }
   ],
   "source": [
    "#sent = pd.DataFrame({'polarity':a.iloc[:,1]},index=a.iloc[:,0])\n",
    "#sent.index()=\n",
    "sent = pd.DataFrame(index=None)\n",
    "sent['polarity']=a.iloc[:,1]\n",
    "sent.index=a.iloc[:,0]\n",
    "sent"
   ]
  },
  {
   "cell_type": "code",
   "execution_count": 345,
   "metadata": {},
   "outputs": [
    {
     "data": {
      "text/plain": [
       "(7517, 1)"
      ]
     },
     "execution_count": 345,
     "metadata": {},
     "output_type": "execute_result"
    }
   ],
   "source": [
    "sent.shape"
   ]
  },
  {
   "cell_type": "code",
   "execution_count": 346,
   "metadata": {
    "tags": [
     "test",
     "q05a"
    ]
   },
   "outputs": [
    {
     "name": "stdout",
     "output_type": "stream",
     "text": [
      "~~~~~~~~~~~~~~~~~~~~~~~~~~~~~~~~~~~~~~~~~~~~~~~~~~~~~~~~~~~~~~~~~~~~~\n",
      "Running tests\n",
      "\n",
      "---------------------------------------------------------------------\n",
      "Test summary\n",
      "    Passed: 1\n",
      "    Failed: 0\n",
      "[ooooooooook] 100.0% passed\n",
      "\n"
     ]
    },
    {
     "data": {
      "application/javascript": [
       "IPython.notebook.save_checkpoint();"
      ],
      "text/plain": [
       "<IPython.core.display.Javascript object>"
      ]
     },
     "metadata": {},
     "output_type": "display_data"
    },
    {
     "data": {
      "application/javascript": [
       "IPython.notebook.save_notebook();"
      ],
      "text/plain": [
       "<IPython.core.display.Javascript object>"
      ]
     },
     "metadata": {},
     "output_type": "display_data"
    },
    {
     "name": "stdout",
     "output_type": "stream",
     "text": [
      "Saving notebook... Saved 'proj1.ipynb'.\n",
      "Submit... 100% complete\n",
      "Submission successful for user: yining.jiang@berkeley.edu\n",
      "URL: https://okpy.org/cal/ds100/fa17/proj1_part1/submissions/jRrzBY\n",
      "NOTE: this is only a backup. To submit your assignment, use:\n",
      "\tpython3 ok --submit\n",
      "\n"
     ]
    }
   ],
   "source": [
    "_ = ok.grade('q05a')\n",
    "_ = ok.backup()"
   ]
  },
  {
   "cell_type": "markdown",
   "metadata": {},
   "source": [
    "---\n",
    "<br/><br/>\n",
    "\n",
    "## Question 5b\n",
    "\n",
    "Now, let's use this lexicon to calculate the overall sentiment for each of Trump's tweets. Here's the basic idea:\n",
    "\n",
    "1. For each tweet, find the sentiment of each word.\n",
    "2. Calculate the sentiment of each tweet by taking the sum of the sentiments of its words.\n",
    "\n",
    "First, let's lowercase the text in the tweets since the lexicon is also lowercase. Set the `text` column of the `trump` DF to be the lowercased text of each tweet."
   ]
  },
  {
   "cell_type": "code",
   "execution_count": 347,
   "metadata": {},
   "outputs": [
    {
     "data": {
      "text/html": [
       "<div>\n",
       "<style>\n",
       "    .dataframe thead tr:only-child th {\n",
       "        text-align: right;\n",
       "    }\n",
       "\n",
       "    .dataframe thead th {\n",
       "        text-align: left;\n",
       "    }\n",
       "\n",
       "    .dataframe tbody tr th {\n",
       "        vertical-align: top;\n",
       "    }\n",
       "</style>\n",
       "<table border=\"1\" class=\"dataframe\">\n",
       "  <thead>\n",
       "    <tr style=\"text-align: right;\">\n",
       "      <th></th>\n",
       "      <th>retweet_count</th>\n",
       "      <th>source</th>\n",
       "      <th>text</th>\n",
       "      <th>time</th>\n",
       "      <th>est_time</th>\n",
       "      <th>hour</th>\n",
       "    </tr>\n",
       "  </thead>\n",
       "  <tbody>\n",
       "    <tr>\n",
       "      <th>910993665568526337</th>\n",
       "      <td>8769</td>\n",
       "      <td>Twitter for iPhone</td>\n",
       "      <td>A big day for the U.S. at the United Nations!</td>\n",
       "      <td>2017-09-21 22:26:29</td>\n",
       "      <td>2017-09-21 18:26:29-04:00</td>\n",
       "      <td>18</td>\n",
       "    </tr>\n",
       "    <tr>\n",
       "      <th>910992971620864004</th>\n",
       "      <td>4722</td>\n",
       "      <td>Twitter for iPhone</td>\n",
       "      <td>Senator Luther Strange has gone up a lot in th...</td>\n",
       "      <td>2017-09-21 22:23:44</td>\n",
       "      <td>2017-09-21 18:23:44-04:00</td>\n",
       "      <td>18</td>\n",
       "    </tr>\n",
       "    <tr>\n",
       "      <th>910926223684931585</th>\n",
       "      <td>13597</td>\n",
       "      <td>Media Studio</td>\n",
       "      <td>Today, I announced a new Executive Order with ...</td>\n",
       "      <td>2017-09-21 17:58:30</td>\n",
       "      <td>2017-09-21 13:58:30-04:00</td>\n",
       "      <td>13</td>\n",
       "    </tr>\n",
       "    <tr>\n",
       "      <th>910898047931912192</th>\n",
       "      <td>7231</td>\n",
       "      <td>Media Studio</td>\n",
       "      <td>It was a great privilege to meet with Presiden...</td>\n",
       "      <td>2017-09-21 16:06:32</td>\n",
       "      <td>2017-09-21 12:06:32-04:00</td>\n",
       "      <td>12</td>\n",
       "    </tr>\n",
       "    <tr>\n",
       "      <th>910885755320459264</th>\n",
       "      <td>5030</td>\n",
       "      <td>Twitter for iPhone</td>\n",
       "      <td>It was wonderful to have President Petro Poros...</td>\n",
       "      <td>2017-09-21 15:17:42</td>\n",
       "      <td>2017-09-21 11:17:42-04:00</td>\n",
       "      <td>11</td>\n",
       "    </tr>\n",
       "    <tr>\n",
       "      <th>910885156373721092</th>\n",
       "      <td>5365</td>\n",
       "      <td>Media Studio</td>\n",
       "      <td>It was a pleasure to have President Ashraf Gha...</td>\n",
       "      <td>2017-09-21 15:15:19</td>\n",
       "      <td>2017-09-21 11:15:19-04:00</td>\n",
       "      <td>11</td>\n",
       "    </tr>\n",
       "    <tr>\n",
       "      <th>910703407555600386</th>\n",
       "      <td>10422</td>\n",
       "      <td>Twitter for iPhone</td>\n",
       "      <td>Governor @RicardoRossello- \\nWe are with you a...</td>\n",
       "      <td>2017-09-21 03:13:07</td>\n",
       "      <td>2017-09-20 23:13:07-04:00</td>\n",
       "      <td>23</td>\n",
       "    </tr>\n",
       "    <tr>\n",
       "      <th>910671525543645185</th>\n",
       "      <td>10401</td>\n",
       "      <td>Twitter for iPhone</td>\n",
       "      <td>Senator (Doctor) Bill Cassidy is a class act w...</td>\n",
       "      <td>2017-09-21 01:06:25</td>\n",
       "      <td>2017-09-20 21:06:25-04:00</td>\n",
       "      <td>21</td>\n",
       "    </tr>\n",
       "    <tr>\n",
       "      <th>910665452048838661</th>\n",
       "      <td>9271</td>\n",
       "      <td>Twitter for iPhone</td>\n",
       "      <td>The NRA strongly endorses Luther Strange for S...</td>\n",
       "      <td>2017-09-21 00:42:17</td>\n",
       "      <td>2017-09-20 20:42:17-04:00</td>\n",
       "      <td>20</td>\n",
       "    </tr>\n",
       "    <tr>\n",
       "      <th>910641701064204288</th>\n",
       "      <td>16796</td>\n",
       "      <td>Twitter for iPhone</td>\n",
       "      <td>I would not sign Graham-Cassidy if it did not ...</td>\n",
       "      <td>2017-09-20 23:07:55</td>\n",
       "      <td>2017-09-20 19:07:55-04:00</td>\n",
       "      <td>19</td>\n",
       "    </tr>\n",
       "    <tr>\n",
       "      <th>910635327672512512</th>\n",
       "      <td>6923</td>\n",
       "      <td>Twitter for iPhone</td>\n",
       "      <td>Alabama is sooo lucky to have a candidate like...</td>\n",
       "      <td>2017-09-20 22:42:35</td>\n",
       "      <td>2017-09-20 18:42:35-04:00</td>\n",
       "      <td>18</td>\n",
       "    </tr>\n",
       "    <tr>\n",
       "      <th>910632095088889857</th>\n",
       "      <td>10930</td>\n",
       "      <td>Twitter for iPhone</td>\n",
       "      <td>On behalf of all Americans, I want to wish Jew...</td>\n",
       "      <td>2017-09-20 22:29:44</td>\n",
       "      <td>2017-09-20 18:29:44-04:00</td>\n",
       "      <td>18</td>\n",
       "    </tr>\n",
       "    <tr>\n",
       "      <th>910581819078316034</th>\n",
       "      <td>7374</td>\n",
       "      <td>Twitter for iPhone</td>\n",
       "      <td>RT @VP: Went to the Senate today to say @POTUS...</td>\n",
       "      <td>2017-09-20 19:09:58</td>\n",
       "      <td>2017-09-20 15:09:58-04:00</td>\n",
       "      <td>15</td>\n",
       "    </tr>\n",
       "    <tr>\n",
       "      <th>910580644597649409</th>\n",
       "      <td>8722</td>\n",
       "      <td>Twitter for iPhone</td>\n",
       "      <td>Honored to host a luncheon for African leaders...</td>\n",
       "      <td>2017-09-20 19:05:18</td>\n",
       "      <td>2017-09-20 15:05:18-04:00</td>\n",
       "      <td>15</td>\n",
       "    </tr>\n",
       "    <tr>\n",
       "      <th>910551350408241152</th>\n",
       "      <td>6458</td>\n",
       "      <td>Media Studio</td>\n",
       "      <td>Honored to meet w/ Pres Abbas from the Palesti...</td>\n",
       "      <td>2017-09-20 17:08:53</td>\n",
       "      <td>2017-09-20 13:08:53-04:00</td>\n",
       "      <td>13</td>\n",
       "    </tr>\n",
       "    <tr>\n",
       "      <th>910524897515905025</th>\n",
       "      <td>8169</td>\n",
       "      <td>Media Studio</td>\n",
       "      <td>It was a great honor to be with King Abdullah ...</td>\n",
       "      <td>2017-09-20 15:23:46</td>\n",
       "      <td>2017-09-20 11:23:46-04:00</td>\n",
       "      <td>11</td>\n",
       "    </tr>\n",
       "    <tr>\n",
       "      <th>910480918816739328</th>\n",
       "      <td>7727</td>\n",
       "      <td>Twitter for iPhone</td>\n",
       "      <td>Looking forward to Friday night in the Great S...</td>\n",
       "      <td>2017-09-20 12:29:01</td>\n",
       "      <td>2017-09-20 08:29:01-04:00</td>\n",
       "      <td>8</td>\n",
       "    </tr>\n",
       "    <tr>\n",
       "      <th>910477734635286528</th>\n",
       "      <td>12491</td>\n",
       "      <td>Twitter for iPhone</td>\n",
       "      <td>I hope Republican Senators will vote for Graha...</td>\n",
       "      <td>2017-09-20 12:16:22</td>\n",
       "      <td>2017-09-20 08:16:22-04:00</td>\n",
       "      <td>8</td>\n",
       "    </tr>\n",
       "    <tr>\n",
       "      <th>910476107287269376</th>\n",
       "      <td>9748</td>\n",
       "      <td>Twitter for iPhone</td>\n",
       "      <td>Rand Paul is a friend of mine but he is such a...</td>\n",
       "      <td>2017-09-20 12:09:54</td>\n",
       "      <td>2017-09-20 08:09:54-04:00</td>\n",
       "      <td>8</td>\n",
       "    </tr>\n",
       "    <tr>\n",
       "      <th>910459401558986752</th>\n",
       "      <td>20492</td>\n",
       "      <td>Twitter for iPhone</td>\n",
       "      <td>RT @Franklin_Graham: Join me in praying for @P...</td>\n",
       "      <td>2017-09-20 11:03:31</td>\n",
       "      <td>2017-09-20 07:03:31-04:00</td>\n",
       "      <td>7</td>\n",
       "    </tr>\n",
       "    <tr>\n",
       "      <th>910458657179086848</th>\n",
       "      <td>5640</td>\n",
       "      <td>Twitter for iPhone</td>\n",
       "      <td>Thank you  @foxandfriends - great show!</td>\n",
       "      <td>2017-09-20 11:00:34</td>\n",
       "      <td>2017-09-20 07:00:34-04:00</td>\n",
       "      <td>7</td>\n",
       "    </tr>\n",
       "    <tr>\n",
       "      <th>910455390038642688</th>\n",
       "      <td>7439</td>\n",
       "      <td>Twitter for iPhone</td>\n",
       "      <td>RT @RealEagleBites: @realDonaldTrump It is the...</td>\n",
       "      <td>2017-09-20 10:47:35</td>\n",
       "      <td>2017-09-20 06:47:35-04:00</td>\n",
       "      <td>6</td>\n",
       "    </tr>\n",
       "    <tr>\n",
       "      <th>910454516557983744</th>\n",
       "      <td>11828</td>\n",
       "      <td>Twitter for iPhone</td>\n",
       "      <td>The world is noticing, thanks! https://t.co/2N...</td>\n",
       "      <td>2017-09-20 10:44:06</td>\n",
       "      <td>2017-09-20 06:44:06-04:00</td>\n",
       "      <td>6</td>\n",
       "    </tr>\n",
       "    <tr>\n",
       "      <th>910454124696752130</th>\n",
       "      <td>10063</td>\n",
       "      <td>Twitter for iPhone</td>\n",
       "      <td>RT @DonnaWR8: @realDonaldTrump Thank you @POTU...</td>\n",
       "      <td>2017-09-20 10:42:33</td>\n",
       "      <td>2017-09-20 06:42:33-04:00</td>\n",
       "      <td>6</td>\n",
       "    </tr>\n",
       "    <tr>\n",
       "      <th>910453612630900736</th>\n",
       "      <td>21318</td>\n",
       "      <td>Twitter for iPhone</td>\n",
       "      <td>After allowing North Korea to research and bui...</td>\n",
       "      <td>2017-09-20 10:40:31</td>\n",
       "      <td>2017-09-20 06:40:31-04:00</td>\n",
       "      <td>6</td>\n",
       "    </tr>\n",
       "    <tr>\n",
       "      <th>910447064944955392</th>\n",
       "      <td>10328</td>\n",
       "      <td>Twitter for iPhone</td>\n",
       "      <td>Big meetings today at the United Nations. So m...</td>\n",
       "      <td>2017-09-20 10:14:30</td>\n",
       "      <td>2017-09-20 06:14:30-04:00</td>\n",
       "      <td>6</td>\n",
       "    </tr>\n",
       "    <tr>\n",
       "      <th>910443493511827456</th>\n",
       "      <td>9015</td>\n",
       "      <td>Twitter for iPhone</td>\n",
       "      <td>RT @Scavino45: \"The Iran deal was one of the w...</td>\n",
       "      <td>2017-09-20 10:00:18</td>\n",
       "      <td>2017-09-20 06:00:18-04:00</td>\n",
       "      <td>6</td>\n",
       "    </tr>\n",
       "    <tr>\n",
       "      <th>910443458564894720</th>\n",
       "      <td>4060</td>\n",
       "      <td>Twitter for iPhone</td>\n",
       "      <td>RT @Scavino45: #WeThePeople🇺🇸\\n#USAatUNGA #UNG...</td>\n",
       "      <td>2017-09-20 10:00:10</td>\n",
       "      <td>2017-09-20 06:00:10-04:00</td>\n",
       "      <td>6</td>\n",
       "    </tr>\n",
       "    <tr>\n",
       "      <th>910443366911037440</th>\n",
       "      <td>3708</td>\n",
       "      <td>Twitter for iPhone</td>\n",
       "      <td>RT @Scavino45: .@POTUS @realDonaldTrump and @U...</td>\n",
       "      <td>2017-09-20 09:59:48</td>\n",
       "      <td>2017-09-20 05:59:48-04:00</td>\n",
       "      <td>5</td>\n",
       "    </tr>\n",
       "    <tr>\n",
       "      <th>910332992756834304</th>\n",
       "      <td>25796</td>\n",
       "      <td>Twitter for iPhone</td>\n",
       "      <td>I was saddened to see how bad the ratings were...</td>\n",
       "      <td>2017-09-20 02:41:13</td>\n",
       "      <td>2017-09-19 22:41:13-04:00</td>\n",
       "      <td>22</td>\n",
       "    </tr>\n",
       "    <tr>\n",
       "      <th>...</th>\n",
       "      <td>...</td>\n",
       "      <td>...</td>\n",
       "      <td>...</td>\n",
       "      <td>...</td>\n",
       "      <td>...</td>\n",
       "      <td>...</td>\n",
       "    </tr>\n",
       "    <tr>\n",
       "      <th>758236300554174465</th>\n",
       "      <td>7069</td>\n",
       "      <td>Twitter for Android</td>\n",
       "      <td>Funny how the failing @nytimes is pushing Dems...</td>\n",
       "      <td>2016-07-27 09:43:16</td>\n",
       "      <td>2016-07-27 05:43:16-04:00</td>\n",
       "      <td>5</td>\n",
       "    </tr>\n",
       "    <tr>\n",
       "      <th>758233935230959617</th>\n",
       "      <td>6617</td>\n",
       "      <td>Twitter for Android</td>\n",
       "      <td>As I have been saying, Crooked Hillary will ap...</td>\n",
       "      <td>2016-07-27 09:33:52</td>\n",
       "      <td>2016-07-27 05:33:52-04:00</td>\n",
       "      <td>5</td>\n",
       "    </tr>\n",
       "    <tr>\n",
       "      <th>758135085820416000</th>\n",
       "      <td>9474</td>\n",
       "      <td>Twitter for iPhone</td>\n",
       "      <td>Just like I have warned from the beginning, Cr...</td>\n",
       "      <td>2016-07-27 03:01:04</td>\n",
       "      <td>2016-07-26 23:01:04-04:00</td>\n",
       "      <td>23</td>\n",
       "    </tr>\n",
       "    <tr>\n",
       "      <th>758122684798607360</th>\n",
       "      <td>8077</td>\n",
       "      <td>Twitter for Android</td>\n",
       "      <td>Many of Bernie's supporters have left the aren...</td>\n",
       "      <td>2016-07-27 02:11:47</td>\n",
       "      <td>2016-07-26 22:11:47-04:00</td>\n",
       "      <td>22</td>\n",
       "    </tr>\n",
       "    <tr>\n",
       "      <th>758121939365982208</th>\n",
       "      <td>9858</td>\n",
       "      <td>Twitter for Android</td>\n",
       "      <td>I hate to say it, but the Republican Conventio...</td>\n",
       "      <td>2016-07-27 02:08:50</td>\n",
       "      <td>2016-07-26 22:08:50-04:00</td>\n",
       "      <td>22</td>\n",
       "    </tr>\n",
       "    <tr>\n",
       "      <th>758120321845235712</th>\n",
       "      <td>10426</td>\n",
       "      <td>Twitter for Android</td>\n",
       "      <td>No matter what Bill Clinton says and no matter...</td>\n",
       "      <td>2016-07-27 02:02:24</td>\n",
       "      <td>2016-07-26 22:02:24-04:00</td>\n",
       "      <td>22</td>\n",
       "    </tr>\n",
       "    <tr>\n",
       "      <th>758117640200187905</th>\n",
       "      <td>12819</td>\n",
       "      <td>Twitter for Android</td>\n",
       "      <td>You have no idea what my strategy on ISIS is, ...</td>\n",
       "      <td>2016-07-27 01:51:45</td>\n",
       "      <td>2016-07-26 21:51:45-04:00</td>\n",
       "      <td>21</td>\n",
       "    </tr>\n",
       "    <tr>\n",
       "      <th>758071952498159616</th>\n",
       "      <td>11615</td>\n",
       "      <td>Twitter for Android</td>\n",
       "      <td>For the record, I have ZERO investments in Rus...</td>\n",
       "      <td>2016-07-26 22:50:12</td>\n",
       "      <td>2016-07-26 18:50:12-04:00</td>\n",
       "      <td>18</td>\n",
       "    </tr>\n",
       "    <tr>\n",
       "      <th>758071264128806912</th>\n",
       "      <td>9873</td>\n",
       "      <td>Twitter for Android</td>\n",
       "      <td>In order to try and deflect the horror and stu...</td>\n",
       "      <td>2016-07-26 22:47:28</td>\n",
       "      <td>2016-07-26 18:47:28-04:00</td>\n",
       "      <td>18</td>\n",
       "    </tr>\n",
       "    <tr>\n",
       "      <th>758026136299397120</th>\n",
       "      <td>13356</td>\n",
       "      <td>Twitter for iPhone</td>\n",
       "      <td>Dems don't want to talk ISIS b/c Hillary's for...</td>\n",
       "      <td>2016-07-26 19:48:08</td>\n",
       "      <td>2016-07-26 15:48:08-04:00</td>\n",
       "      <td>15</td>\n",
       "    </tr>\n",
       "    <tr>\n",
       "      <th>758021060503756804</th>\n",
       "      <td>6846</td>\n",
       "      <td>Twitter for iPhone</td>\n",
       "      <td>Bernie's exhausted, he just wants to shut down...</td>\n",
       "      <td>2016-07-26 19:27:58</td>\n",
       "      <td>2016-07-26 15:27:58-04:00</td>\n",
       "      <td>15</td>\n",
       "    </tr>\n",
       "    <tr>\n",
       "      <th>758020997383684096</th>\n",
       "      <td>11984</td>\n",
       "      <td>Twitter for iPhone</td>\n",
       "      <td>The invention of email has proven to be a very...</td>\n",
       "      <td>2016-07-26 19:27:43</td>\n",
       "      <td>2016-07-26 15:27:43-04:00</td>\n",
       "      <td>15</td>\n",
       "    </tr>\n",
       "    <tr>\n",
       "      <th>758004154417553409</th>\n",
       "      <td>6175</td>\n",
       "      <td>Twitter for iPhone</td>\n",
       "      <td>Thank you New Hampshire! \\n#MakeAmericaGreatAg...</td>\n",
       "      <td>2016-07-26 18:20:48</td>\n",
       "      <td>2016-07-26 14:20:48-04:00</td>\n",
       "      <td>14</td>\n",
       "    </tr>\n",
       "    <tr>\n",
       "      <th>757997327269306369</th>\n",
       "      <td>4236</td>\n",
       "      <td>Twitter for iPhone</td>\n",
       "      <td>Join us in Toledo, Ohio- tomorrow night at 8pm...</td>\n",
       "      <td>2016-07-26 17:53:40</td>\n",
       "      <td>2016-07-26 13:53:40-04:00</td>\n",
       "      <td>13</td>\n",
       "    </tr>\n",
       "    <tr>\n",
       "      <th>757994830110658560</th>\n",
       "      <td>4299</td>\n",
       "      <td>Twitter for iPhone</td>\n",
       "      <td>Join us tomorrow in Scranton, Pennsylvania at ...</td>\n",
       "      <td>2016-07-26 17:43:45</td>\n",
       "      <td>2016-07-26 13:43:45-04:00</td>\n",
       "      <td>13</td>\n",
       "    </tr>\n",
       "    <tr>\n",
       "      <th>757919034755076096</th>\n",
       "      <td>8064</td>\n",
       "      <td>Twitter for Android</td>\n",
       "      <td>Pocahontas bombed last night! Sad to watch.</td>\n",
       "      <td>2016-07-26 12:42:33</td>\n",
       "      <td>2016-07-26 08:42:33-04:00</td>\n",
       "      <td>8</td>\n",
       "    </tr>\n",
       "    <tr>\n",
       "      <th>757918002339778560</th>\n",
       "      <td>19447</td>\n",
       "      <td>Twitter for Android</td>\n",
       "      <td>Why aren't the Democrats speaking about ISIS, ...</td>\n",
       "      <td>2016-07-26 12:38:27</td>\n",
       "      <td>2016-07-26 08:38:27-04:00</td>\n",
       "      <td>8</td>\n",
       "    </tr>\n",
       "    <tr>\n",
       "      <th>757916962269704192</th>\n",
       "      <td>7585</td>\n",
       "      <td>Twitter for Android</td>\n",
       "      <td>Funny, if you listen to @FoxNews, the Democrat...</td>\n",
       "      <td>2016-07-26 12:34:19</td>\n",
       "      <td>2016-07-26 08:34:19-04:00</td>\n",
       "      <td>8</td>\n",
       "    </tr>\n",
       "    <tr>\n",
       "      <th>757777369272815617</th>\n",
       "      <td>21936</td>\n",
       "      <td>Twitter for Android</td>\n",
       "      <td>Bernie Sanders totally sold out to Crooked Hil...</td>\n",
       "      <td>2016-07-26 03:19:38</td>\n",
       "      <td>2016-07-25 23:19:38-04:00</td>\n",
       "      <td>23</td>\n",
       "    </tr>\n",
       "    <tr>\n",
       "      <th>757775689525309440</th>\n",
       "      <td>11299</td>\n",
       "      <td>Twitter for Android</td>\n",
       "      <td>Elizabeth Warren, often referred to as Pocahon...</td>\n",
       "      <td>2016-07-26 03:12:57</td>\n",
       "      <td>2016-07-25 23:12:57-04:00</td>\n",
       "      <td>23</td>\n",
       "    </tr>\n",
       "    <tr>\n",
       "      <th>757773671545044992</th>\n",
       "      <td>22344</td>\n",
       "      <td>Twitter for iPhone</td>\n",
       "      <td>Sad to watch Bernie Sanders abandon his revolu...</td>\n",
       "      <td>2016-07-26 03:04:56</td>\n",
       "      <td>2016-07-25 23:04:56-04:00</td>\n",
       "      <td>23</td>\n",
       "    </tr>\n",
       "    <tr>\n",
       "      <th>757760973419712512</th>\n",
       "      <td>10243</td>\n",
       "      <td>Twitter for iPhone</td>\n",
       "      <td>If Cory Booker is the future of the Democratic...</td>\n",
       "      <td>2016-07-26 02:14:29</td>\n",
       "      <td>2016-07-25 22:14:29-04:00</td>\n",
       "      <td>22</td>\n",
       "    </tr>\n",
       "    <tr>\n",
       "      <th>757696233427312640</th>\n",
       "      <td>8073</td>\n",
       "      <td>Twitter for Android</td>\n",
       "      <td>I was at @FoxNews and met Juan Williams in pas...</td>\n",
       "      <td>2016-07-25 21:57:14</td>\n",
       "      <td>2016-07-25 17:57:14-04:00</td>\n",
       "      <td>17</td>\n",
       "    </tr>\n",
       "    <tr>\n",
       "      <th>757693383481626624</th>\n",
       "      <td>8581</td>\n",
       "      <td>Twitter for Android</td>\n",
       "      <td>Hard to believe that Bernie Sanders has done s...</td>\n",
       "      <td>2016-07-25 21:45:54</td>\n",
       "      <td>2016-07-25 17:45:54-04:00</td>\n",
       "      <td>17</td>\n",
       "    </tr>\n",
       "    <tr>\n",
       "      <th>757690343181737984</th>\n",
       "      <td>14025</td>\n",
       "      <td>Twitter for iPhone</td>\n",
       "      <td>While Bernie has totally given up on his fight...</td>\n",
       "      <td>2016-07-25 21:33:49</td>\n",
       "      <td>2016-07-25 17:33:49-04:00</td>\n",
       "      <td>17</td>\n",
       "    </tr>\n",
       "    <tr>\n",
       "      <th>757690132111777792</th>\n",
       "      <td>8381</td>\n",
       "      <td>Twitter for iPhone</td>\n",
       "      <td>Clinton betrayed Bernie voters. Kaine supports...</td>\n",
       "      <td>2016-07-25 21:32:59</td>\n",
       "      <td>2016-07-25 17:32:59-04:00</td>\n",
       "      <td>17</td>\n",
       "    </tr>\n",
       "    <tr>\n",
       "      <th>757688331597668353</th>\n",
       "      <td>7846</td>\n",
       "      <td>Twitter for iPhone</td>\n",
       "      <td>Thank you OHIO! #TrumpPence16\\nhttps://t.co/NO...</td>\n",
       "      <td>2016-07-25 21:25:50</td>\n",
       "      <td>2016-07-25 17:25:50-04:00</td>\n",
       "      <td>17</td>\n",
       "    </tr>\n",
       "    <tr>\n",
       "      <th>757687988189065216</th>\n",
       "      <td>4206</td>\n",
       "      <td>Twitter for iPhone</td>\n",
       "      <td>Thank you Roanoke, Virginia- be back soon! #Tr...</td>\n",
       "      <td>2016-07-25 21:24:28</td>\n",
       "      <td>2016-07-25 17:24:28-04:00</td>\n",
       "      <td>17</td>\n",
       "    </tr>\n",
       "    <tr>\n",
       "      <th>757650904896139264</th>\n",
       "      <td>10296</td>\n",
       "      <td>Twitter for iPhone</td>\n",
       "      <td>MAKE AMERICA SAFE AND GREAT AGAIN! #TrumpPence...</td>\n",
       "      <td>2016-07-25 18:57:06</td>\n",
       "      <td>2016-07-25 14:57:06-04:00</td>\n",
       "      <td>14</td>\n",
       "    </tr>\n",
       "    <tr>\n",
       "      <th>757618048664829952</th>\n",
       "      <td>12696</td>\n",
       "      <td>Twitter for iPhone</td>\n",
       "      <td>#MakeAmericaGreatAgain \\nhttps://t.co/EXsoUOsE...</td>\n",
       "      <td>2016-07-25 16:46:33</td>\n",
       "      <td>2016-07-25 12:46:33-04:00</td>\n",
       "      <td>12</td>\n",
       "    </tr>\n",
       "  </tbody>\n",
       "</table>\n",
       "<p>3234 rows × 6 columns</p>\n",
       "</div>"
      ],
      "text/plain": [
       "                    retweet_count               source  \\\n",
       "910993665568526337           8769   Twitter for iPhone   \n",
       "910992971620864004           4722   Twitter for iPhone   \n",
       "910926223684931585          13597         Media Studio   \n",
       "910898047931912192           7231         Media Studio   \n",
       "910885755320459264           5030   Twitter for iPhone   \n",
       "910885156373721092           5365         Media Studio   \n",
       "910703407555600386          10422   Twitter for iPhone   \n",
       "910671525543645185          10401   Twitter for iPhone   \n",
       "910665452048838661           9271   Twitter for iPhone   \n",
       "910641701064204288          16796   Twitter for iPhone   \n",
       "910635327672512512           6923   Twitter for iPhone   \n",
       "910632095088889857          10930   Twitter for iPhone   \n",
       "910581819078316034           7374   Twitter for iPhone   \n",
       "910580644597649409           8722   Twitter for iPhone   \n",
       "910551350408241152           6458         Media Studio   \n",
       "910524897515905025           8169         Media Studio   \n",
       "910480918816739328           7727   Twitter for iPhone   \n",
       "910477734635286528          12491   Twitter for iPhone   \n",
       "910476107287269376           9748   Twitter for iPhone   \n",
       "910459401558986752          20492   Twitter for iPhone   \n",
       "910458657179086848           5640   Twitter for iPhone   \n",
       "910455390038642688           7439   Twitter for iPhone   \n",
       "910454516557983744          11828   Twitter for iPhone   \n",
       "910454124696752130          10063   Twitter for iPhone   \n",
       "910453612630900736          21318   Twitter for iPhone   \n",
       "910447064944955392          10328   Twitter for iPhone   \n",
       "910443493511827456           9015   Twitter for iPhone   \n",
       "910443458564894720           4060   Twitter for iPhone   \n",
       "910443366911037440           3708   Twitter for iPhone   \n",
       "910332992756834304          25796   Twitter for iPhone   \n",
       "...                           ...                  ...   \n",
       "758236300554174465           7069  Twitter for Android   \n",
       "758233935230959617           6617  Twitter for Android   \n",
       "758135085820416000           9474   Twitter for iPhone   \n",
       "758122684798607360           8077  Twitter for Android   \n",
       "758121939365982208           9858  Twitter for Android   \n",
       "758120321845235712          10426  Twitter for Android   \n",
       "758117640200187905          12819  Twitter for Android   \n",
       "758071952498159616          11615  Twitter for Android   \n",
       "758071264128806912           9873  Twitter for Android   \n",
       "758026136299397120          13356   Twitter for iPhone   \n",
       "758021060503756804           6846   Twitter for iPhone   \n",
       "758020997383684096          11984   Twitter for iPhone   \n",
       "758004154417553409           6175   Twitter for iPhone   \n",
       "757997327269306369           4236   Twitter for iPhone   \n",
       "757994830110658560           4299   Twitter for iPhone   \n",
       "757919034755076096           8064  Twitter for Android   \n",
       "757918002339778560          19447  Twitter for Android   \n",
       "757916962269704192           7585  Twitter for Android   \n",
       "757777369272815617          21936  Twitter for Android   \n",
       "757775689525309440          11299  Twitter for Android   \n",
       "757773671545044992          22344   Twitter for iPhone   \n",
       "757760973419712512          10243   Twitter for iPhone   \n",
       "757696233427312640           8073  Twitter for Android   \n",
       "757693383481626624           8581  Twitter for Android   \n",
       "757690343181737984          14025   Twitter for iPhone   \n",
       "757690132111777792           8381   Twitter for iPhone   \n",
       "757688331597668353           7846   Twitter for iPhone   \n",
       "757687988189065216           4206   Twitter for iPhone   \n",
       "757650904896139264          10296   Twitter for iPhone   \n",
       "757618048664829952          12696   Twitter for iPhone   \n",
       "\n",
       "                                                                 text  \\\n",
       "910993665568526337      A big day for the U.S. at the United Nations!   \n",
       "910992971620864004  Senator Luther Strange has gone up a lot in th...   \n",
       "910926223684931585  Today, I announced a new Executive Order with ...   \n",
       "910898047931912192  It was a great privilege to meet with Presiden...   \n",
       "910885755320459264  It was wonderful to have President Petro Poros...   \n",
       "910885156373721092  It was a pleasure to have President Ashraf Gha...   \n",
       "910703407555600386  Governor @RicardoRossello- \\nWe are with you a...   \n",
       "910671525543645185  Senator (Doctor) Bill Cassidy is a class act w...   \n",
       "910665452048838661  The NRA strongly endorses Luther Strange for S...   \n",
       "910641701064204288  I would not sign Graham-Cassidy if it did not ...   \n",
       "910635327672512512  Alabama is sooo lucky to have a candidate like...   \n",
       "910632095088889857  On behalf of all Americans, I want to wish Jew...   \n",
       "910581819078316034  RT @VP: Went to the Senate today to say @POTUS...   \n",
       "910580644597649409  Honored to host a luncheon for African leaders...   \n",
       "910551350408241152  Honored to meet w/ Pres Abbas from the Palesti...   \n",
       "910524897515905025  It was a great honor to be with King Abdullah ...   \n",
       "910480918816739328  Looking forward to Friday night in the Great S...   \n",
       "910477734635286528  I hope Republican Senators will vote for Graha...   \n",
       "910476107287269376  Rand Paul is a friend of mine but he is such a...   \n",
       "910459401558986752  RT @Franklin_Graham: Join me in praying for @P...   \n",
       "910458657179086848            Thank you  @foxandfriends - great show!   \n",
       "910455390038642688  RT @RealEagleBites: @realDonaldTrump It is the...   \n",
       "910454516557983744  The world is noticing, thanks! https://t.co/2N...   \n",
       "910454124696752130  RT @DonnaWR8: @realDonaldTrump Thank you @POTU...   \n",
       "910453612630900736  After allowing North Korea to research and bui...   \n",
       "910447064944955392  Big meetings today at the United Nations. So m...   \n",
       "910443493511827456  RT @Scavino45: \"The Iran deal was one of the w...   \n",
       "910443458564894720  RT @Scavino45: #WeThePeople🇺🇸\\n#USAatUNGA #UNG...   \n",
       "910443366911037440  RT @Scavino45: .@POTUS @realDonaldTrump and @U...   \n",
       "910332992756834304  I was saddened to see how bad the ratings were...   \n",
       "...                                                               ...   \n",
       "758236300554174465  Funny how the failing @nytimes is pushing Dems...   \n",
       "758233935230959617  As I have been saying, Crooked Hillary will ap...   \n",
       "758135085820416000  Just like I have warned from the beginning, Cr...   \n",
       "758122684798607360  Many of Bernie's supporters have left the aren...   \n",
       "758121939365982208  I hate to say it, but the Republican Conventio...   \n",
       "758120321845235712  No matter what Bill Clinton says and no matter...   \n",
       "758117640200187905  You have no idea what my strategy on ISIS is, ...   \n",
       "758071952498159616  For the record, I have ZERO investments in Rus...   \n",
       "758071264128806912  In order to try and deflect the horror and stu...   \n",
       "758026136299397120  Dems don't want to talk ISIS b/c Hillary's for...   \n",
       "758021060503756804  Bernie's exhausted, he just wants to shut down...   \n",
       "758020997383684096  The invention of email has proven to be a very...   \n",
       "758004154417553409  Thank you New Hampshire! \\n#MakeAmericaGreatAg...   \n",
       "757997327269306369  Join us in Toledo, Ohio- tomorrow night at 8pm...   \n",
       "757994830110658560  Join us tomorrow in Scranton, Pennsylvania at ...   \n",
       "757919034755076096        Pocahontas bombed last night! Sad to watch.   \n",
       "757918002339778560  Why aren't the Democrats speaking about ISIS, ...   \n",
       "757916962269704192  Funny, if you listen to @FoxNews, the Democrat...   \n",
       "757777369272815617  Bernie Sanders totally sold out to Crooked Hil...   \n",
       "757775689525309440  Elizabeth Warren, often referred to as Pocahon...   \n",
       "757773671545044992  Sad to watch Bernie Sanders abandon his revolu...   \n",
       "757760973419712512  If Cory Booker is the future of the Democratic...   \n",
       "757696233427312640  I was at @FoxNews and met Juan Williams in pas...   \n",
       "757693383481626624  Hard to believe that Bernie Sanders has done s...   \n",
       "757690343181737984  While Bernie has totally given up on his fight...   \n",
       "757690132111777792  Clinton betrayed Bernie voters. Kaine supports...   \n",
       "757688331597668353  Thank you OHIO! #TrumpPence16\\nhttps://t.co/NO...   \n",
       "757687988189065216  Thank you Roanoke, Virginia- be back soon! #Tr...   \n",
       "757650904896139264  MAKE AMERICA SAFE AND GREAT AGAIN! #TrumpPence...   \n",
       "757618048664829952  #MakeAmericaGreatAgain \\nhttps://t.co/EXsoUOsE...   \n",
       "\n",
       "                                  time                  est_time  hour  \n",
       "910993665568526337 2017-09-21 22:26:29 2017-09-21 18:26:29-04:00    18  \n",
       "910992971620864004 2017-09-21 22:23:44 2017-09-21 18:23:44-04:00    18  \n",
       "910926223684931585 2017-09-21 17:58:30 2017-09-21 13:58:30-04:00    13  \n",
       "910898047931912192 2017-09-21 16:06:32 2017-09-21 12:06:32-04:00    12  \n",
       "910885755320459264 2017-09-21 15:17:42 2017-09-21 11:17:42-04:00    11  \n",
       "910885156373721092 2017-09-21 15:15:19 2017-09-21 11:15:19-04:00    11  \n",
       "910703407555600386 2017-09-21 03:13:07 2017-09-20 23:13:07-04:00    23  \n",
       "910671525543645185 2017-09-21 01:06:25 2017-09-20 21:06:25-04:00    21  \n",
       "910665452048838661 2017-09-21 00:42:17 2017-09-20 20:42:17-04:00    20  \n",
       "910641701064204288 2017-09-20 23:07:55 2017-09-20 19:07:55-04:00    19  \n",
       "910635327672512512 2017-09-20 22:42:35 2017-09-20 18:42:35-04:00    18  \n",
       "910632095088889857 2017-09-20 22:29:44 2017-09-20 18:29:44-04:00    18  \n",
       "910581819078316034 2017-09-20 19:09:58 2017-09-20 15:09:58-04:00    15  \n",
       "910580644597649409 2017-09-20 19:05:18 2017-09-20 15:05:18-04:00    15  \n",
       "910551350408241152 2017-09-20 17:08:53 2017-09-20 13:08:53-04:00    13  \n",
       "910524897515905025 2017-09-20 15:23:46 2017-09-20 11:23:46-04:00    11  \n",
       "910480918816739328 2017-09-20 12:29:01 2017-09-20 08:29:01-04:00     8  \n",
       "910477734635286528 2017-09-20 12:16:22 2017-09-20 08:16:22-04:00     8  \n",
       "910476107287269376 2017-09-20 12:09:54 2017-09-20 08:09:54-04:00     8  \n",
       "910459401558986752 2017-09-20 11:03:31 2017-09-20 07:03:31-04:00     7  \n",
       "910458657179086848 2017-09-20 11:00:34 2017-09-20 07:00:34-04:00     7  \n",
       "910455390038642688 2017-09-20 10:47:35 2017-09-20 06:47:35-04:00     6  \n",
       "910454516557983744 2017-09-20 10:44:06 2017-09-20 06:44:06-04:00     6  \n",
       "910454124696752130 2017-09-20 10:42:33 2017-09-20 06:42:33-04:00     6  \n",
       "910453612630900736 2017-09-20 10:40:31 2017-09-20 06:40:31-04:00     6  \n",
       "910447064944955392 2017-09-20 10:14:30 2017-09-20 06:14:30-04:00     6  \n",
       "910443493511827456 2017-09-20 10:00:18 2017-09-20 06:00:18-04:00     6  \n",
       "910443458564894720 2017-09-20 10:00:10 2017-09-20 06:00:10-04:00     6  \n",
       "910443366911037440 2017-09-20 09:59:48 2017-09-20 05:59:48-04:00     5  \n",
       "910332992756834304 2017-09-20 02:41:13 2017-09-19 22:41:13-04:00    22  \n",
       "...                                ...                       ...   ...  \n",
       "758236300554174465 2016-07-27 09:43:16 2016-07-27 05:43:16-04:00     5  \n",
       "758233935230959617 2016-07-27 09:33:52 2016-07-27 05:33:52-04:00     5  \n",
       "758135085820416000 2016-07-27 03:01:04 2016-07-26 23:01:04-04:00    23  \n",
       "758122684798607360 2016-07-27 02:11:47 2016-07-26 22:11:47-04:00    22  \n",
       "758121939365982208 2016-07-27 02:08:50 2016-07-26 22:08:50-04:00    22  \n",
       "758120321845235712 2016-07-27 02:02:24 2016-07-26 22:02:24-04:00    22  \n",
       "758117640200187905 2016-07-27 01:51:45 2016-07-26 21:51:45-04:00    21  \n",
       "758071952498159616 2016-07-26 22:50:12 2016-07-26 18:50:12-04:00    18  \n",
       "758071264128806912 2016-07-26 22:47:28 2016-07-26 18:47:28-04:00    18  \n",
       "758026136299397120 2016-07-26 19:48:08 2016-07-26 15:48:08-04:00    15  \n",
       "758021060503756804 2016-07-26 19:27:58 2016-07-26 15:27:58-04:00    15  \n",
       "758020997383684096 2016-07-26 19:27:43 2016-07-26 15:27:43-04:00    15  \n",
       "758004154417553409 2016-07-26 18:20:48 2016-07-26 14:20:48-04:00    14  \n",
       "757997327269306369 2016-07-26 17:53:40 2016-07-26 13:53:40-04:00    13  \n",
       "757994830110658560 2016-07-26 17:43:45 2016-07-26 13:43:45-04:00    13  \n",
       "757919034755076096 2016-07-26 12:42:33 2016-07-26 08:42:33-04:00     8  \n",
       "757918002339778560 2016-07-26 12:38:27 2016-07-26 08:38:27-04:00     8  \n",
       "757916962269704192 2016-07-26 12:34:19 2016-07-26 08:34:19-04:00     8  \n",
       "757777369272815617 2016-07-26 03:19:38 2016-07-25 23:19:38-04:00    23  \n",
       "757775689525309440 2016-07-26 03:12:57 2016-07-25 23:12:57-04:00    23  \n",
       "757773671545044992 2016-07-26 03:04:56 2016-07-25 23:04:56-04:00    23  \n",
       "757760973419712512 2016-07-26 02:14:29 2016-07-25 22:14:29-04:00    22  \n",
       "757696233427312640 2016-07-25 21:57:14 2016-07-25 17:57:14-04:00    17  \n",
       "757693383481626624 2016-07-25 21:45:54 2016-07-25 17:45:54-04:00    17  \n",
       "757690343181737984 2016-07-25 21:33:49 2016-07-25 17:33:49-04:00    17  \n",
       "757690132111777792 2016-07-25 21:32:59 2016-07-25 17:32:59-04:00    17  \n",
       "757688331597668353 2016-07-25 21:25:50 2016-07-25 17:25:50-04:00    17  \n",
       "757687988189065216 2016-07-25 21:24:28 2016-07-25 17:24:28-04:00    17  \n",
       "757650904896139264 2016-07-25 18:57:06 2016-07-25 14:57:06-04:00    14  \n",
       "757618048664829952 2016-07-25 16:46:33 2016-07-25 12:46:33-04:00    12  \n",
       "\n",
       "[3234 rows x 6 columns]"
      ]
     },
     "execution_count": 347,
     "metadata": {},
     "output_type": "execute_result"
    }
   ],
   "source": [
    "trump"
   ]
  },
  {
   "cell_type": "code",
   "execution_count": 348,
   "metadata": {
    "collapsed": true,
    "tags": [
     "student"
    ]
   },
   "outputs": [],
   "source": [
    "#trump=trump['text'].str.lower()\n",
    "trump[\"text\"]=trump[\"text\"].str.lower()"
   ]
  },
  {
   "cell_type": "code",
   "execution_count": 349,
   "metadata": {
    "tags": [
     "test",
     "q05b"
    ]
   },
   "outputs": [
    {
     "name": "stdout",
     "output_type": "stream",
     "text": [
      "~~~~~~~~~~~~~~~~~~~~~~~~~~~~~~~~~~~~~~~~~~~~~~~~~~~~~~~~~~~~~~~~~~~~~\n",
      "Running tests\n",
      "\n",
      "---------------------------------------------------------------------\n",
      "Test summary\n",
      "    Passed: 1\n",
      "    Failed: 0\n",
      "[ooooooooook] 100.0% passed\n",
      "\n"
     ]
    },
    {
     "data": {
      "application/javascript": [
       "IPython.notebook.save_checkpoint();"
      ],
      "text/plain": [
       "<IPython.core.display.Javascript object>"
      ]
     },
     "metadata": {},
     "output_type": "display_data"
    },
    {
     "data": {
      "application/javascript": [
       "IPython.notebook.save_notebook();"
      ],
      "text/plain": [
       "<IPython.core.display.Javascript object>"
      ]
     },
     "metadata": {},
     "output_type": "display_data"
    },
    {
     "name": "stdout",
     "output_type": "stream",
     "text": [
      "Saving notebook... Saved 'proj1.ipynb'.\n",
      "Submit... 100% complete\n",
      "Submission successful for user: yining.jiang@berkeley.edu\n",
      "URL: https://okpy.org/cal/ds100/fa17/proj1_part1/submissions/o2zGmA\n",
      "NOTE: this is only a backup. To submit your assignment, use:\n",
      "\tpython3 ok --submit\n",
      "\n"
     ]
    }
   ],
   "source": [
    "_ = ok.grade('q05b')\n",
    "_ = ok.backup()"
   ]
  },
  {
   "cell_type": "markdown",
   "metadata": {},
   "source": [
    "---\n",
    "<br/><br/>\n",
    "\n",
    "## Question 5c\n",
    "\n",
    "Now, let's get rid of punctuation since it'll cause us to fail to match words. Create a new column called `no_punc` in the `trump` DF to be the lowercased text of each tweet with all punctuation replaced by a single space. We consider punctuation characters to be any character that isn't a Unicode word character or a whitespace character. You may want to consult the Python documentation on regexes for this problem.\n",
    "\n",
    "(Why don't we simply remove punctuation instead of replacing with a space? See if you can figure this out by looking at the tweet data.)"
   ]
  },
  {
   "cell_type": "code",
   "execution_count": 350,
   "metadata": {
    "collapsed": true,
    "tags": [
     "student"
    ]
   },
   "outputs": [],
   "source": [
    "# Save your regex in punct_re\n",
    "punct_re=r'[^0-9A-Za-z\\s]'\n",
    "trump['no_punc']=trump['text'].str.replace(punct_re,' ')"
   ]
  },
  {
   "cell_type": "code",
   "execution_count": 351,
   "metadata": {
    "tags": [
     "test",
     "q05c"
    ]
   },
   "outputs": [
    {
     "name": "stdout",
     "output_type": "stream",
     "text": [
      "~~~~~~~~~~~~~~~~~~~~~~~~~~~~~~~~~~~~~~~~~~~~~~~~~~~~~~~~~~~~~~~~~~~~~\n",
      "Running tests\n",
      "\n",
      "---------------------------------------------------------------------\n",
      "Test summary\n",
      "    Passed: 1\n",
      "    Failed: 0\n",
      "[ooooooooook] 100.0% passed\n",
      "\n"
     ]
    },
    {
     "data": {
      "application/javascript": [
       "IPython.notebook.save_checkpoint();"
      ],
      "text/plain": [
       "<IPython.core.display.Javascript object>"
      ]
     },
     "metadata": {},
     "output_type": "display_data"
    },
    {
     "data": {
      "application/javascript": [
       "IPython.notebook.save_notebook();"
      ],
      "text/plain": [
       "<IPython.core.display.Javascript object>"
      ]
     },
     "metadata": {},
     "output_type": "display_data"
    },
    {
     "name": "stdout",
     "output_type": "stream",
     "text": [
      "Saving notebook... Saved 'proj1.ipynb'.\n",
      "Submit... 100% complete\n",
      "Submission successful for user: yining.jiang@berkeley.edu\n",
      "URL: https://okpy.org/cal/ds100/fa17/proj1_part1/submissions/v20PwL\n",
      "NOTE: this is only a backup. To submit your assignment, use:\n",
      "\tpython3 ok --submit\n",
      "\n"
     ]
    }
   ],
   "source": [
    "_ = ok.grade('q05c')\n",
    "_ = ok.backup()"
   ]
  },
  {
   "cell_type": "markdown",
   "metadata": {},
   "source": [
    "---\n",
    "<br/> <br/>\n",
    "\n",
    "## Question 5d:\n",
    "\n",
    "\n",
    "Now, let's convert the tweets into what's called a *tidy format* to make the sentiments easier to calculate. Use the `no_punc` column of `trump` to create a table called `tidy_format`. The index of the table should be the IDs of the tweets, repeated once for every word in the tweet. It has two columns:\n",
    "\n",
    "1. `num`: The location of the word in the tweet. For example, if the tweet was \"i love america\", then the location of the word \"i\" is 0, \"love\" is 1, and \"america\" is 2.\n",
    "2. `word`: The individual words of each tweet.\n",
    "\n",
    "The first few rows of our `tidy_format` table look like:\n",
    "\n",
    "<table border=\"1\" class=\"dataframe\">\n",
    "  <thead>\n",
    "    <tr style=\"text-align: right;\">\n",
    "      <th></th>\n",
    "      <th>num</th>\n",
    "      <th>word</th>\n",
    "    </tr>\n",
    "  </thead>\n",
    "  <tbody>\n",
    "    <tr>\n",
    "      <th>907698529606541312</th>\n",
    "      <td>0</td>\n",
    "      <td>it</td>\n",
    "    </tr>\n",
    "    <tr>\n",
    "      <th>907698529606541312</th>\n",
    "      <td>1</td>\n",
    "      <td>was</td>\n",
    "    </tr>\n",
    "    <tr>\n",
    "      <th>907698529606541312</th>\n",
    "      <td>2</td>\n",
    "      <td>a</td>\n",
    "    </tr>\n",
    "    <tr>\n",
    "      <th>907698529606541312</th>\n",
    "      <td>3</td>\n",
    "      <td>great</td>\n",
    "    </tr>\n",
    "    <tr>\n",
    "      <th>907698529606541312</th>\n",
    "      <td>4</td>\n",
    "      <td>honor</td>\n",
    "    </tr>\n",
    "  </tbody>\n",
    "</table>\n",
    "\n",
    "**Note that you'll get different results depending on when you pulled in the tweets.** However, you can double check that your tweet with ID `907698529606541312` has the same rows as ours. Our tests don't check whether your table looks exactly like ours.\n",
    "\n",
    "This will require some rather advanced Pandas hacking, but our solution uses a chain of 5 methods on the `trump` DF.\n",
    "\n",
    "* **Hint 1:** Try looking at the `expand` argument to pandas' `str.split`.\n",
    "\n",
    "* **Hint 2:** Try looking at the `stack()` method.\n"
   ]
  },
  {
   "cell_type": "code",
   "execution_count": 352,
   "metadata": {
    "collapsed": true
   },
   "outputs": [],
   "source": [
    "tidy_format= pd.DataFrame(columns={'index','num','word'},index=None)"
   ]
  },
  {
   "cell_type": "code",
   "execution_count": 353,
   "metadata": {
    "collapsed": true
   },
   "outputs": [],
   "source": [
    "a=trump.loc[:,'no_punc']\n",
    "a=a.str.split()"
   ]
  },
  {
   "cell_type": "code",
   "execution_count": 354,
   "metadata": {
    "collapsed": true
   },
   "outputs": [],
   "source": [
    "\n",
    "for i in np.arange(3234):\n",
    "    p=pd.Series(a[i])\n",
    "    tidy_forma= pd.DataFrame(columns={'num','word'},index=None)\n",
    "    tidy_forma['word']=p\n",
    "    tidy_forma['index']=p5[i]\n",
    "    tidy_forma['num']=np.arange(len(a[i]))\n",
    "    tidy_format=tidy_format.append(tidy_forma)"
   ]
  },
  {
   "cell_type": "code",
   "execution_count": 355,
   "metadata": {
    "collapsed": true
   },
   "outputs": [],
   "source": [
    "tidy_format=tidy_format.set_index('index')"
   ]
  },
  {
   "cell_type": "code",
   "execution_count": 356,
   "metadata": {
    "tags": [
     "test",
     "q05d"
    ]
   },
   "outputs": [
    {
     "name": "stdout",
     "output_type": "stream",
     "text": [
      "~~~~~~~~~~~~~~~~~~~~~~~~~~~~~~~~~~~~~~~~~~~~~~~~~~~~~~~~~~~~~~~~~~~~~\n",
      "Running tests\n",
      "\n",
      "---------------------------------------------------------------------\n",
      "Test summary\n",
      "    Passed: 1\n",
      "    Failed: 0\n",
      "[ooooooooook] 100.0% passed\n",
      "\n"
     ]
    },
    {
     "data": {
      "application/javascript": [
       "IPython.notebook.save_checkpoint();"
      ],
      "text/plain": [
       "<IPython.core.display.Javascript object>"
      ]
     },
     "metadata": {},
     "output_type": "display_data"
    },
    {
     "data": {
      "application/javascript": [
       "IPython.notebook.save_notebook();"
      ],
      "text/plain": [
       "<IPython.core.display.Javascript object>"
      ]
     },
     "metadata": {},
     "output_type": "display_data"
    },
    {
     "name": "stdout",
     "output_type": "stream",
     "text": [
      "Saving notebook... Saved 'proj1.ipynb'.\n",
      "Submit... 100% complete\n",
      "Submission successful for user: yining.jiang@berkeley.edu\n",
      "URL: https://okpy.org/cal/ds100/fa17/proj1_part1/submissions/M8vLXP\n",
      "NOTE: this is only a backup. To submit your assignment, use:\n",
      "\tpython3 ok --submit\n",
      "\n"
     ]
    }
   ],
   "source": [
    "_ = ok.grade('q05d')\n",
    "_ = ok.backup()"
   ]
  },
  {
   "cell_type": "markdown",
   "metadata": {},
   "source": [
    "---\n",
    "<br/> <br/>\n",
    "\n",
    "\n",
    "## Question 5e:\n",
    "\n",
    "Now that we have this table in the tidy format, it becomes much easier to find the sentiment of each tweet: we can join the table with the lexicon table. Calculate a table called `polarities`. Its index should be the IDs of the tweets (one row per ID). It should have one column called `polarity` containing the summed sentiment polarity of each tweet.\n",
    "\n",
    "Here are the first couple rows of our table. Again, you may have different tweet IDs depending on when you downloaded the tweets, but make sure the format looks the same.\n",
    "\n",
    "<table border=\"1\" class=\"dataframe\">\n",
    "  <thead>\n",
    "    <tr style=\"text-align: right;\">\n",
    "      <th></th>\n",
    "      <th>polarity</th>\n",
    "    </tr>\n",
    "    <tr>\n",
    "      <th>index</th>\n",
    "      <th></th>\n",
    "    </tr>\n",
    "  </thead>\n",
    "  <tbody>\n",
    "    <tr>\n",
    "      <th>755486029742641152</th>\n",
    "      <td>0.0</td>\n",
    "    </tr>\n",
    "    <tr>\n",
    "      <th>755502053003190273</th>\n",
    "      <td>0.0</td>\n",
    "    </tr>\n",
    "    <tr>\n",
    "      <th>755525857456844800</th>\n",
    "      <td>2.2</td>\n",
    "    </tr>\n",
    "    <tr>\n",
    "      <th>755551039244341253</th>\n",
    "      <td>6.7</td>\n",
    "    </tr>\n",
    "    <tr>\n",
    "      <th>755708398537154560</th>\n",
    "      <td>7.6</td>\n",
    "    </tr>\n",
    "  </tbody>\n",
    "</table>"
   ]
  },
  {
   "cell_type": "code",
   "execution_count": 357,
   "metadata": {
    "collapsed": true
   },
   "outputs": [],
   "source": [
    "ant=tidy_format"
   ]
  },
  {
   "cell_type": "code",
   "execution_count": 358,
   "metadata": {
    "collapsed": true
   },
   "outputs": [],
   "source": [
    "aa=pd.read_table('vader_lexicon.txt',header=None)\n",
    "ent = pd.DataFrame(index=None)\n",
    "ent['polarity']=aa.iloc[:,1]\n",
    "ent['word']=aa.iloc[:,0]\n",
    "ent=ent.set_index('word')\n"
   ]
  },
  {
   "cell_type": "code",
   "execution_count": 359,
   "metadata": {
    "collapsed": true
   },
   "outputs": [],
   "source": [
    "polarities=ant.join(ent,on='word').fillna(0).iloc[:,2:3].reset_index().groupby('index').sum()"
   ]
  },
  {
   "cell_type": "code",
   "execution_count": 360,
   "metadata": {
    "tags": [
     "test",
     "q05e"
    ]
   },
   "outputs": [
    {
     "name": "stdout",
     "output_type": "stream",
     "text": [
      "~~~~~~~~~~~~~~~~~~~~~~~~~~~~~~~~~~~~~~~~~~~~~~~~~~~~~~~~~~~~~~~~~~~~~\n",
      "Running tests\n",
      "\n",
      "---------------------------------------------------------------------\n",
      "Test summary\n",
      "    Passed: 1\n",
      "    Failed: 0\n",
      "[ooooooooook] 100.0% passed\n",
      "\n"
     ]
    },
    {
     "data": {
      "application/javascript": [
       "IPython.notebook.save_checkpoint();"
      ],
      "text/plain": [
       "<IPython.core.display.Javascript object>"
      ]
     },
     "metadata": {},
     "output_type": "display_data"
    },
    {
     "data": {
      "application/javascript": [
       "IPython.notebook.save_notebook();"
      ],
      "text/plain": [
       "<IPython.core.display.Javascript object>"
      ]
     },
     "metadata": {},
     "output_type": "display_data"
    },
    {
     "name": "stdout",
     "output_type": "stream",
     "text": [
      "Saving notebook... Saved 'proj1.ipynb'.\n",
      "Submit... 100% complete\n",
      "Submission successful for user: yining.jiang@berkeley.edu\n",
      "URL: https://okpy.org/cal/ds100/fa17/proj1_part1/submissions/PNyOGy\n",
      "NOTE: this is only a backup. To submit your assignment, use:\n",
      "\tpython3 ok --submit\n",
      "\n"
     ]
    }
   ],
   "source": [
    "_ = ok.grade('q05e')\n",
    "_ = ok.backup()"
   ]
  },
  {
   "cell_type": "markdown",
   "metadata": {},
   "source": [
    "---\n",
    "<br/> <br/>\n",
    "\n",
    "\n",
    "## Question 5f:\n",
    "\n",
    "Finally, use the `polarities` and `trump` tables to create a new table called `senti` that is the `trump` table with an extra column called `polarity` containing the sentiment polarity of each tweet."
   ]
  },
  {
   "cell_type": "code",
   "execution_count": 361,
   "metadata": {
    "tags": [
     "student"
    ]
   },
   "outputs": [
    {
     "data": {
      "text/html": [
       "<div>\n",
       "<style>\n",
       "    .dataframe thead tr:only-child th {\n",
       "        text-align: right;\n",
       "    }\n",
       "\n",
       "    .dataframe thead th {\n",
       "        text-align: left;\n",
       "    }\n",
       "\n",
       "    .dataframe tbody tr th {\n",
       "        vertical-align: top;\n",
       "    }\n",
       "</style>\n",
       "<table border=\"1\" class=\"dataframe\">\n",
       "  <thead>\n",
       "    <tr style=\"text-align: right;\">\n",
       "      <th></th>\n",
       "      <th>retweet_count</th>\n",
       "      <th>source</th>\n",
       "      <th>text</th>\n",
       "      <th>time</th>\n",
       "      <th>est_time</th>\n",
       "      <th>hour</th>\n",
       "      <th>no_punc</th>\n",
       "      <th>polarity</th>\n",
       "    </tr>\n",
       "  </thead>\n",
       "  <tbody>\n",
       "    <tr>\n",
       "      <th>910993665568526337</th>\n",
       "      <td>8769</td>\n",
       "      <td>Twitter for iPhone</td>\n",
       "      <td>a big day for the u.s. at the united nations!</td>\n",
       "      <td>2017-09-21 22:26:29</td>\n",
       "      <td>2017-09-21 18:26:29-04:00</td>\n",
       "      <td>18</td>\n",
       "      <td>a big day for the u s  at the united nations</td>\n",
       "      <td>1.8</td>\n",
       "    </tr>\n",
       "    <tr>\n",
       "      <th>910992971620864004</th>\n",
       "      <td>4722</td>\n",
       "      <td>Twitter for iPhone</td>\n",
       "      <td>senator luther strange has gone up a lot in th...</td>\n",
       "      <td>2017-09-21 22:23:44</td>\n",
       "      <td>2017-09-21 18:23:44-04:00</td>\n",
       "      <td>18</td>\n",
       "      <td>senator luther strange has gone up a lot in th...</td>\n",
       "      <td>3.3</td>\n",
       "    </tr>\n",
       "    <tr>\n",
       "      <th>910926223684931585</th>\n",
       "      <td>13597</td>\n",
       "      <td>Media Studio</td>\n",
       "      <td>today, i announced a new executive order with ...</td>\n",
       "      <td>2017-09-21 17:58:30</td>\n",
       "      <td>2017-09-21 13:58:30-04:00</td>\n",
       "      <td>13</td>\n",
       "      <td>today  i announced a new executive order with ...</td>\n",
       "      <td>1.6</td>\n",
       "    </tr>\n",
       "    <tr>\n",
       "      <th>910898047931912192</th>\n",
       "      <td>7231</td>\n",
       "      <td>Media Studio</td>\n",
       "      <td>it was a great privilege to meet with presiden...</td>\n",
       "      <td>2017-09-21 16:06:32</td>\n",
       "      <td>2017-09-21 12:06:32-04:00</td>\n",
       "      <td>12</td>\n",
       "      <td>it was a great privilege to meet with presiden...</td>\n",
       "      <td>4.6</td>\n",
       "    </tr>\n",
       "    <tr>\n",
       "      <th>910885755320459264</th>\n",
       "      <td>5030</td>\n",
       "      <td>Twitter for iPhone</td>\n",
       "      <td>it was wonderful to have president petro poros...</td>\n",
       "      <td>2017-09-21 15:17:42</td>\n",
       "      <td>2017-09-21 11:17:42-04:00</td>\n",
       "      <td>11</td>\n",
       "      <td>it was wonderful to have president petro poros...</td>\n",
       "      <td>2.7</td>\n",
       "    </tr>\n",
       "    <tr>\n",
       "      <th>910885156373721092</th>\n",
       "      <td>5365</td>\n",
       "      <td>Media Studio</td>\n",
       "      <td>it was a pleasure to have president ashraf gha...</td>\n",
       "      <td>2017-09-21 15:15:19</td>\n",
       "      <td>2017-09-21 11:15:19-04:00</td>\n",
       "      <td>11</td>\n",
       "      <td>it was a pleasure to have president ashraf gha...</td>\n",
       "      <td>2.7</td>\n",
       "    </tr>\n",
       "    <tr>\n",
       "      <th>910703407555600386</th>\n",
       "      <td>10422</td>\n",
       "      <td>Twitter for iPhone</td>\n",
       "      <td>governor @ricardorossello- \\nwe are with you a...</td>\n",
       "      <td>2017-09-21 03:13:07</td>\n",
       "      <td>2017-09-20 23:13:07-04:00</td>\n",
       "      <td>23</td>\n",
       "      <td>governor  ricardorossello  \\nwe are with you a...</td>\n",
       "      <td>1.9</td>\n",
       "    </tr>\n",
       "    <tr>\n",
       "      <th>910671525543645185</th>\n",
       "      <td>10401</td>\n",
       "      <td>Twitter for iPhone</td>\n",
       "      <td>senator (doctor) bill cassidy is a class act w...</td>\n",
       "      <td>2017-09-21 01:06:25</td>\n",
       "      <td>2017-09-20 21:06:25-04:00</td>\n",
       "      <td>21</td>\n",
       "      <td>senator  doctor  bill cassidy is a class act w...</td>\n",
       "      <td>5.9</td>\n",
       "    </tr>\n",
       "    <tr>\n",
       "      <th>910665452048838661</th>\n",
       "      <td>9271</td>\n",
       "      <td>Twitter for iPhone</td>\n",
       "      <td>the nra strongly endorses luther strange for s...</td>\n",
       "      <td>2017-09-21 00:42:17</td>\n",
       "      <td>2017-09-20 20:42:17-04:00</td>\n",
       "      <td>20</td>\n",
       "      <td>the nra strongly endorses luther strange for s...</td>\n",
       "      <td>3.0</td>\n",
       "    </tr>\n",
       "    <tr>\n",
       "      <th>910641701064204288</th>\n",
       "      <td>16796</td>\n",
       "      <td>Twitter for iPhone</td>\n",
       "      <td>i would not sign graham-cassidy if it did not ...</td>\n",
       "      <td>2017-09-20 23:07:55</td>\n",
       "      <td>2017-09-20 19:07:55-04:00</td>\n",
       "      <td>19</td>\n",
       "      <td>i would not sign graham cassidy if it did not ...</td>\n",
       "      <td>3.1</td>\n",
       "    </tr>\n",
       "    <tr>\n",
       "      <th>910635327672512512</th>\n",
       "      <td>6923</td>\n",
       "      <td>Twitter for iPhone</td>\n",
       "      <td>alabama is sooo lucky to have a candidate like...</td>\n",
       "      <td>2017-09-20 22:42:35</td>\n",
       "      <td>2017-09-20 18:42:35-04:00</td>\n",
       "      <td>18</td>\n",
       "      <td>alabama is sooo lucky to have a candidate like...</td>\n",
       "      <td>3.9</td>\n",
       "    </tr>\n",
       "    <tr>\n",
       "      <th>910632095088889857</th>\n",
       "      <td>10930</td>\n",
       "      <td>Twitter for iPhone</td>\n",
       "      <td>on behalf of all americans, i want to wish jew...</td>\n",
       "      <td>2017-09-20 22:29:44</td>\n",
       "      <td>2017-09-20 18:29:44-04:00</td>\n",
       "      <td>18</td>\n",
       "      <td>on behalf of all americans  i want to wish jew...</td>\n",
       "      <td>4.5</td>\n",
       "    </tr>\n",
       "    <tr>\n",
       "      <th>910581819078316034</th>\n",
       "      <td>7374</td>\n",
       "      <td>Twitter for iPhone</td>\n",
       "      <td>rt @vp: went to the senate today to say @potus...</td>\n",
       "      <td>2017-09-20 19:09:58</td>\n",
       "      <td>2017-09-20 15:09:58-04:00</td>\n",
       "      <td>15</td>\n",
       "      <td>rt  vp  went to the senate today to say  potus...</td>\n",
       "      <td>1.7</td>\n",
       "    </tr>\n",
       "    <tr>\n",
       "      <th>910580644597649409</th>\n",
       "      <td>8722</td>\n",
       "      <td>Twitter for iPhone</td>\n",
       "      <td>honored to host a luncheon for african leaders...</td>\n",
       "      <td>2017-09-20 19:05:18</td>\n",
       "      <td>2017-09-20 15:05:18-04:00</td>\n",
       "      <td>15</td>\n",
       "      <td>honored to host a luncheon for african leaders...</td>\n",
       "      <td>7.8</td>\n",
       "    </tr>\n",
       "    <tr>\n",
       "      <th>910551350408241152</th>\n",
       "      <td>6458</td>\n",
       "      <td>Media Studio</td>\n",
       "      <td>honored to meet w/ pres abbas from the palesti...</td>\n",
       "      <td>2017-09-20 17:08:53</td>\n",
       "      <td>2017-09-20 13:08:53-04:00</td>\n",
       "      <td>13</td>\n",
       "      <td>honored to meet w  pres abbas from the palesti...</td>\n",
       "      <td>2.7</td>\n",
       "    </tr>\n",
       "    <tr>\n",
       "      <th>910524897515905025</th>\n",
       "      <td>8169</td>\n",
       "      <td>Media Studio</td>\n",
       "      <td>it was a great honor to be with king abdullah ...</td>\n",
       "      <td>2017-09-20 15:23:46</td>\n",
       "      <td>2017-09-20 11:23:46-04:00</td>\n",
       "      <td>11</td>\n",
       "      <td>it was a great honor to be with king abdullah ...</td>\n",
       "      <td>8.4</td>\n",
       "    </tr>\n",
       "    <tr>\n",
       "      <th>910480918816739328</th>\n",
       "      <td>7727</td>\n",
       "      <td>Twitter for iPhone</td>\n",
       "      <td>looking forward to friday night in the great s...</td>\n",
       "      <td>2017-09-20 12:29:01</td>\n",
       "      <td>2017-09-20 08:29:01-04:00</td>\n",
       "      <td>8</td>\n",
       "      <td>looking forward to friday night in the great s...</td>\n",
       "      <td>8.1</td>\n",
       "    </tr>\n",
       "    <tr>\n",
       "      <th>910477734635286528</th>\n",
       "      <td>12491</td>\n",
       "      <td>Twitter for iPhone</td>\n",
       "      <td>i hope republican senators will vote for graha...</td>\n",
       "      <td>2017-09-20 12:16:22</td>\n",
       "      <td>2017-09-20 08:16:22-04:00</td>\n",
       "      <td>8</td>\n",
       "      <td>i hope republican senators will vote for graha...</td>\n",
       "      <td>5.1</td>\n",
       "    </tr>\n",
       "    <tr>\n",
       "      <th>910476107287269376</th>\n",
       "      <td>9748</td>\n",
       "      <td>Twitter for iPhone</td>\n",
       "      <td>rand paul is a friend of mine but he is such a...</td>\n",
       "      <td>2017-09-20 12:09:54</td>\n",
       "      <td>2017-09-20 08:09:54-04:00</td>\n",
       "      <td>8</td>\n",
       "      <td>rand paul is a friend of mine but he is such a...</td>\n",
       "      <td>2.6</td>\n",
       "    </tr>\n",
       "    <tr>\n",
       "      <th>910459401558986752</th>\n",
       "      <td>20492</td>\n",
       "      <td>Twitter for iPhone</td>\n",
       "      <td>rt @franklin_graham: join me in praying for @p...</td>\n",
       "      <td>2017-09-20 11:03:31</td>\n",
       "      <td>2017-09-20 07:03:31-04:00</td>\n",
       "      <td>7</td>\n",
       "      <td>rt  franklin graham  join me in praying for  p...</td>\n",
       "      <td>-3.8</td>\n",
       "    </tr>\n",
       "    <tr>\n",
       "      <th>910458657179086848</th>\n",
       "      <td>5640</td>\n",
       "      <td>Twitter for iPhone</td>\n",
       "      <td>thank you  @foxandfriends - great show!</td>\n",
       "      <td>2017-09-20 11:00:34</td>\n",
       "      <td>2017-09-20 07:00:34-04:00</td>\n",
       "      <td>7</td>\n",
       "      <td>thank you   foxandfriends   great show</td>\n",
       "      <td>4.6</td>\n",
       "    </tr>\n",
       "    <tr>\n",
       "      <th>910455390038642688</th>\n",
       "      <td>7439</td>\n",
       "      <td>Twitter for iPhone</td>\n",
       "      <td>rt @realeaglebites: @realdonaldtrump it is the...</td>\n",
       "      <td>2017-09-20 10:47:35</td>\n",
       "      <td>2017-09-20 06:47:35-04:00</td>\n",
       "      <td>6</td>\n",
       "      <td>rt  realeaglebites   realdonaldtrump it is the...</td>\n",
       "      <td>-1.9</td>\n",
       "    </tr>\n",
       "    <tr>\n",
       "      <th>910454516557983744</th>\n",
       "      <td>11828</td>\n",
       "      <td>Twitter for iPhone</td>\n",
       "      <td>the world is noticing, thanks! https://t.co/2n...</td>\n",
       "      <td>2017-09-20 10:44:06</td>\n",
       "      <td>2017-09-20 06:44:06-04:00</td>\n",
       "      <td>6</td>\n",
       "      <td>the world is noticing  thanks  https   t co 2n...</td>\n",
       "      <td>1.9</td>\n",
       "    </tr>\n",
       "    <tr>\n",
       "      <th>910454124696752130</th>\n",
       "      <td>10063</td>\n",
       "      <td>Twitter for iPhone</td>\n",
       "      <td>rt @donnawr8: @realdonaldtrump thank you @potu...</td>\n",
       "      <td>2017-09-20 10:42:33</td>\n",
       "      <td>2017-09-20 06:42:33-04:00</td>\n",
       "      <td>6</td>\n",
       "      <td>rt  donnawr8   realdonaldtrump thank you  potu...</td>\n",
       "      <td>3.0</td>\n",
       "    </tr>\n",
       "    <tr>\n",
       "      <th>910453612630900736</th>\n",
       "      <td>21318</td>\n",
       "      <td>Twitter for iPhone</td>\n",
       "      <td>after allowing north korea to research and bui...</td>\n",
       "      <td>2017-09-20 10:40:31</td>\n",
       "      <td>2017-09-20 06:40:31-04:00</td>\n",
       "      <td>6</td>\n",
       "      <td>after allowing north korea to research and bui...</td>\n",
       "      <td>-1.4</td>\n",
       "    </tr>\n",
       "    <tr>\n",
       "      <th>910447064944955392</th>\n",
       "      <td>10328</td>\n",
       "      <td>Twitter for iPhone</td>\n",
       "      <td>big meetings today at the united nations. so m...</td>\n",
       "      <td>2017-09-20 10:14:30</td>\n",
       "      <td>2017-09-20 06:14:30-04:00</td>\n",
       "      <td>6</td>\n",
       "      <td>big meetings today at the united nations  so m...</td>\n",
       "      <td>6.6</td>\n",
       "    </tr>\n",
       "    <tr>\n",
       "      <th>910443493511827456</th>\n",
       "      <td>9015</td>\n",
       "      <td>Twitter for iPhone</td>\n",
       "      <td>rt @scavino45: \"the iran deal was one of the w...</td>\n",
       "      <td>2017-09-20 10:00:18</td>\n",
       "      <td>2017-09-20 06:00:18-04:00</td>\n",
       "      <td>6</td>\n",
       "      <td>rt  scavino45   the iran deal was one of the w...</td>\n",
       "      <td>-1.3</td>\n",
       "    </tr>\n",
       "    <tr>\n",
       "      <th>910443458564894720</th>\n",
       "      <td>4060</td>\n",
       "      <td>Twitter for iPhone</td>\n",
       "      <td>rt @scavino45: #wethepeople🇺🇸\\n#usaatunga #ung...</td>\n",
       "      <td>2017-09-20 10:00:10</td>\n",
       "      <td>2017-09-20 06:00:10-04:00</td>\n",
       "      <td>6</td>\n",
       "      <td>rt  scavino45   wethepeople  \\n usaatunga  ung...</td>\n",
       "      <td>0.0</td>\n",
       "    </tr>\n",
       "    <tr>\n",
       "      <th>910443366911037440</th>\n",
       "      <td>3708</td>\n",
       "      <td>Twitter for iPhone</td>\n",
       "      <td>rt @scavino45: .@potus @realdonaldtrump and @u...</td>\n",
       "      <td>2017-09-20 09:59:48</td>\n",
       "      <td>2017-09-20 05:59:48-04:00</td>\n",
       "      <td>5</td>\n",
       "      <td>rt  scavino45    potus  realdonaldtrump and  u...</td>\n",
       "      <td>0.0</td>\n",
       "    </tr>\n",
       "    <tr>\n",
       "      <th>910332992756834304</th>\n",
       "      <td>25796</td>\n",
       "      <td>Twitter for iPhone</td>\n",
       "      <td>i was saddened to see how bad the ratings were...</td>\n",
       "      <td>2017-09-20 02:41:13</td>\n",
       "      <td>2017-09-19 22:41:13-04:00</td>\n",
       "      <td>22</td>\n",
       "      <td>i was saddened to see how bad the ratings were...</td>\n",
       "      <td>-5.0</td>\n",
       "    </tr>\n",
       "    <tr>\n",
       "      <th>...</th>\n",
       "      <td>...</td>\n",
       "      <td>...</td>\n",
       "      <td>...</td>\n",
       "      <td>...</td>\n",
       "      <td>...</td>\n",
       "      <td>...</td>\n",
       "      <td>...</td>\n",
       "      <td>...</td>\n",
       "    </tr>\n",
       "    <tr>\n",
       "      <th>758236300554174465</th>\n",
       "      <td>7069</td>\n",
       "      <td>Twitter for Android</td>\n",
       "      <td>funny how the failing @nytimes is pushing dems...</td>\n",
       "      <td>2016-07-27 09:43:16</td>\n",
       "      <td>2016-07-27 05:43:16-04:00</td>\n",
       "      <td>5</td>\n",
       "      <td>funny how the failing  nytimes is pushing dems...</td>\n",
       "      <td>-0.4</td>\n",
       "    </tr>\n",
       "    <tr>\n",
       "      <th>758233935230959617</th>\n",
       "      <td>6617</td>\n",
       "      <td>Twitter for Android</td>\n",
       "      <td>as i have been saying, crooked hillary will ap...</td>\n",
       "      <td>2016-07-27 09:33:52</td>\n",
       "      <td>2016-07-27 05:33:52-04:00</td>\n",
       "      <td>5</td>\n",
       "      <td>as i have been saying  crooked hillary will ap...</td>\n",
       "      <td>-2.6</td>\n",
       "    </tr>\n",
       "    <tr>\n",
       "      <th>758135085820416000</th>\n",
       "      <td>9474</td>\n",
       "      <td>Twitter for iPhone</td>\n",
       "      <td>just like i have warned from the beginning, cr...</td>\n",
       "      <td>2016-07-27 03:01:04</td>\n",
       "      <td>2016-07-26 23:01:04-04:00</td>\n",
       "      <td>23</td>\n",
       "      <td>just like i have warned from the beginning  cr...</td>\n",
       "      <td>-2.8</td>\n",
       "    </tr>\n",
       "    <tr>\n",
       "      <th>758122684798607360</th>\n",
       "      <td>8077</td>\n",
       "      <td>Twitter for Android</td>\n",
       "      <td>many of bernie's supporters have left the aren...</td>\n",
       "      <td>2016-07-27 02:11:47</td>\n",
       "      <td>2016-07-26 22:11:47-04:00</td>\n",
       "      <td>22</td>\n",
       "      <td>many of bernie s supporters have left the aren...</td>\n",
       "      <td>1.9</td>\n",
       "    </tr>\n",
       "    <tr>\n",
       "      <th>758121939365982208</th>\n",
       "      <td>9858</td>\n",
       "      <td>Twitter for Android</td>\n",
       "      <td>i hate to say it, but the republican conventio...</td>\n",
       "      <td>2016-07-27 02:08:50</td>\n",
       "      <td>2016-07-26 22:08:50-04:00</td>\n",
       "      <td>22</td>\n",
       "      <td>i hate to say it  but the republican conventio...</td>\n",
       "      <td>1.9</td>\n",
       "    </tr>\n",
       "    <tr>\n",
       "      <th>758120321845235712</th>\n",
       "      <td>10426</td>\n",
       "      <td>Twitter for Android</td>\n",
       "      <td>no matter what bill clinton says and no matter...</td>\n",
       "      <td>2016-07-27 02:02:24</td>\n",
       "      <td>2016-07-26 22:02:24-04:00</td>\n",
       "      <td>22</td>\n",
       "      <td>no matter what bill clinton says and no matter...</td>\n",
       "      <td>-1.1</td>\n",
       "    </tr>\n",
       "    <tr>\n",
       "      <th>758117640200187905</th>\n",
       "      <td>12819</td>\n",
       "      <td>Twitter for Android</td>\n",
       "      <td>you have no idea what my strategy on isis is, ...</td>\n",
       "      <td>2016-07-27 01:51:45</td>\n",
       "      <td>2016-07-26 21:51:45-04:00</td>\n",
       "      <td>21</td>\n",
       "      <td>you have no idea what my strategy on isis is  ...</td>\n",
       "      <td>4.8</td>\n",
       "    </tr>\n",
       "    <tr>\n",
       "      <th>758071952498159616</th>\n",
       "      <td>11615</td>\n",
       "      <td>Twitter for Android</td>\n",
       "      <td>for the record, i have zero investments in rus...</td>\n",
       "      <td>2016-07-26 22:50:12</td>\n",
       "      <td>2016-07-26 18:50:12-04:00</td>\n",
       "      <td>18</td>\n",
       "      <td>for the record  i have zero investments in rus...</td>\n",
       "      <td>0.0</td>\n",
       "    </tr>\n",
       "    <tr>\n",
       "      <th>758071264128806912</th>\n",
       "      <td>9873</td>\n",
       "      <td>Twitter for Android</td>\n",
       "      <td>in order to try and deflect the horror and stu...</td>\n",
       "      <td>2016-07-26 22:47:28</td>\n",
       "      <td>2016-07-26 18:47:28-04:00</td>\n",
       "      <td>18</td>\n",
       "      <td>in order to try and deflect the horror and stu...</td>\n",
       "      <td>-9.1</td>\n",
       "    </tr>\n",
       "    <tr>\n",
       "      <th>758026136299397120</th>\n",
       "      <td>13356</td>\n",
       "      <td>Twitter for iPhone</td>\n",
       "      <td>dems don't want to talk isis b/c hillary's for...</td>\n",
       "      <td>2016-07-26 19:48:08</td>\n",
       "      <td>2016-07-26 15:48:08-04:00</td>\n",
       "      <td>15</td>\n",
       "      <td>dems don t want to talk isis b c hillary s for...</td>\n",
       "      <td>2.1</td>\n",
       "    </tr>\n",
       "    <tr>\n",
       "      <th>758021060503756804</th>\n",
       "      <td>6846</td>\n",
       "      <td>Twitter for iPhone</td>\n",
       "      <td>bernie's exhausted, he just wants to shut down...</td>\n",
       "      <td>2016-07-26 19:27:58</td>\n",
       "      <td>2016-07-26 15:27:58-04:00</td>\n",
       "      <td>15</td>\n",
       "      <td>bernie s exhausted  he just wants to shut down...</td>\n",
       "      <td>-1.5</td>\n",
       "    </tr>\n",
       "    <tr>\n",
       "      <th>758020997383684096</th>\n",
       "      <td>11984</td>\n",
       "      <td>Twitter for iPhone</td>\n",
       "      <td>the invention of email has proven to be a very...</td>\n",
       "      <td>2016-07-26 19:27:43</td>\n",
       "      <td>2016-07-26 15:27:43-04:00</td>\n",
       "      <td>15</td>\n",
       "      <td>the invention of email has proven to be a very...</td>\n",
       "      <td>-6.9</td>\n",
       "    </tr>\n",
       "    <tr>\n",
       "      <th>758004154417553409</th>\n",
       "      <td>6175</td>\n",
       "      <td>Twitter for iPhone</td>\n",
       "      <td>thank you new hampshire! \\n#makeamericagreatag...</td>\n",
       "      <td>2016-07-26 18:20:48</td>\n",
       "      <td>2016-07-26 14:20:48-04:00</td>\n",
       "      <td>14</td>\n",
       "      <td>thank you new hampshire  \\n makeamericagreatag...</td>\n",
       "      <td>1.5</td>\n",
       "    </tr>\n",
       "    <tr>\n",
       "      <th>757997327269306369</th>\n",
       "      <td>4236</td>\n",
       "      <td>Twitter for iPhone</td>\n",
       "      <td>join us in toledo, ohio- tomorrow night at 8pm...</td>\n",
       "      <td>2016-07-26 17:53:40</td>\n",
       "      <td>2016-07-26 13:53:40-04:00</td>\n",
       "      <td>13</td>\n",
       "      <td>join us in toledo  ohio  tomorrow night at 8pm...</td>\n",
       "      <td>1.2</td>\n",
       "    </tr>\n",
       "    <tr>\n",
       "      <th>757994830110658560</th>\n",
       "      <td>4299</td>\n",
       "      <td>Twitter for iPhone</td>\n",
       "      <td>join us tomorrow in scranton, pennsylvania at ...</td>\n",
       "      <td>2016-07-26 17:43:45</td>\n",
       "      <td>2016-07-26 13:43:45-04:00</td>\n",
       "      <td>13</td>\n",
       "      <td>join us tomorrow in scranton  pennsylvania at ...</td>\n",
       "      <td>1.2</td>\n",
       "    </tr>\n",
       "    <tr>\n",
       "      <th>757919034755076096</th>\n",
       "      <td>8064</td>\n",
       "      <td>Twitter for Android</td>\n",
       "      <td>pocahontas bombed last night! sad to watch.</td>\n",
       "      <td>2016-07-26 12:42:33</td>\n",
       "      <td>2016-07-26 08:42:33-04:00</td>\n",
       "      <td>8</td>\n",
       "      <td>pocahontas bombed last night  sad to watch</td>\n",
       "      <td>-2.1</td>\n",
       "    </tr>\n",
       "    <tr>\n",
       "      <th>757918002339778560</th>\n",
       "      <td>19447</td>\n",
       "      <td>Twitter for Android</td>\n",
       "      <td>why aren't the democrats speaking about isis, ...</td>\n",
       "      <td>2016-07-26 12:38:27</td>\n",
       "      <td>2016-07-26 08:38:27-04:00</td>\n",
       "      <td>8</td>\n",
       "      <td>why aren t the democrats speaking about isis  ...</td>\n",
       "      <td>-1.5</td>\n",
       "    </tr>\n",
       "    <tr>\n",
       "      <th>757916962269704192</th>\n",
       "      <td>7585</td>\n",
       "      <td>Twitter for Android</td>\n",
       "      <td>funny, if you listen to @foxnews, the democrat...</td>\n",
       "      <td>2016-07-26 12:34:19</td>\n",
       "      <td>2016-07-26 08:34:19-04:00</td>\n",
       "      <td>8</td>\n",
       "      <td>funny  if you listen to  foxnews  the democrat...</td>\n",
       "      <td>3.8</td>\n",
       "    </tr>\n",
       "    <tr>\n",
       "      <th>757777369272815617</th>\n",
       "      <td>21936</td>\n",
       "      <td>Twitter for Android</td>\n",
       "      <td>bernie sanders totally sold out to crooked hil...</td>\n",
       "      <td>2016-07-26 03:19:38</td>\n",
       "      <td>2016-07-25 23:19:38-04:00</td>\n",
       "      <td>23</td>\n",
       "      <td>bernie sanders totally sold out to crooked hil...</td>\n",
       "      <td>-0.7</td>\n",
       "    </tr>\n",
       "    <tr>\n",
       "      <th>757775689525309440</th>\n",
       "      <td>11299</td>\n",
       "      <td>Twitter for Android</td>\n",
       "      <td>elizabeth warren, often referred to as pocahon...</td>\n",
       "      <td>2016-07-26 03:12:57</td>\n",
       "      <td>2016-07-25 23:12:57-04:00</td>\n",
       "      <td>23</td>\n",
       "      <td>elizabeth warren  often referred to as pocahon...</td>\n",
       "      <td>-3.2</td>\n",
       "    </tr>\n",
       "    <tr>\n",
       "      <th>757773671545044992</th>\n",
       "      <td>22344</td>\n",
       "      <td>Twitter for iPhone</td>\n",
       "      <td>sad to watch bernie sanders abandon his revolu...</td>\n",
       "      <td>2016-07-26 03:04:56</td>\n",
       "      <td>2016-07-25 23:04:56-04:00</td>\n",
       "      <td>23</td>\n",
       "      <td>sad to watch bernie sanders abandon his revolu...</td>\n",
       "      <td>-3.2</td>\n",
       "    </tr>\n",
       "    <tr>\n",
       "      <th>757760973419712512</th>\n",
       "      <td>10243</td>\n",
       "      <td>Twitter for iPhone</td>\n",
       "      <td>if cory booker is the future of the democratic...</td>\n",
       "      <td>2016-07-26 02:14:29</td>\n",
       "      <td>2016-07-25 22:14:29-04:00</td>\n",
       "      <td>22</td>\n",
       "      <td>if cory booker is the future of the democratic...</td>\n",
       "      <td>0.5</td>\n",
       "    </tr>\n",
       "    <tr>\n",
       "      <th>757696233427312640</th>\n",
       "      <td>8073</td>\n",
       "      <td>Twitter for Android</td>\n",
       "      <td>i was at @foxnews and met juan williams in pas...</td>\n",
       "      <td>2016-07-25 21:57:14</td>\n",
       "      <td>2016-07-25 17:57:14-04:00</td>\n",
       "      <td>17</td>\n",
       "      <td>i was at  foxnews and met juan williams in pas...</td>\n",
       "      <td>0.8</td>\n",
       "    </tr>\n",
       "    <tr>\n",
       "      <th>757693383481626624</th>\n",
       "      <td>8581</td>\n",
       "      <td>Twitter for Android</td>\n",
       "      <td>hard to believe that bernie sanders has done s...</td>\n",
       "      <td>2016-07-25 21:45:54</td>\n",
       "      <td>2016-07-25 17:45:54-04:00</td>\n",
       "      <td>17</td>\n",
       "      <td>hard to believe that bernie sanders has done s...</td>\n",
       "      <td>1.9</td>\n",
       "    </tr>\n",
       "    <tr>\n",
       "      <th>757690343181737984</th>\n",
       "      <td>14025</td>\n",
       "      <td>Twitter for iPhone</td>\n",
       "      <td>while bernie has totally given up on his fight...</td>\n",
       "      <td>2016-07-25 21:33:49</td>\n",
       "      <td>2016-07-25 17:33:49-04:00</td>\n",
       "      <td>17</td>\n",
       "      <td>while bernie has totally given up on his fight...</td>\n",
       "      <td>2.6</td>\n",
       "    </tr>\n",
       "    <tr>\n",
       "      <th>757690132111777792</th>\n",
       "      <td>8381</td>\n",
       "      <td>Twitter for iPhone</td>\n",
       "      <td>clinton betrayed bernie voters. kaine supports...</td>\n",
       "      <td>2016-07-25 21:32:59</td>\n",
       "      <td>2016-07-25 17:32:59-04:00</td>\n",
       "      <td>17</td>\n",
       "      <td>clinton betrayed bernie voters  kaine supports...</td>\n",
       "      <td>-4.3</td>\n",
       "    </tr>\n",
       "    <tr>\n",
       "      <th>757688331597668353</th>\n",
       "      <td>7846</td>\n",
       "      <td>Twitter for iPhone</td>\n",
       "      <td>thank you ohio! #trumppence16\\nhttps://t.co/no...</td>\n",
       "      <td>2016-07-25 21:25:50</td>\n",
       "      <td>2016-07-25 17:25:50-04:00</td>\n",
       "      <td>17</td>\n",
       "      <td>thank you ohio   trumppence16\\nhttps   t co no...</td>\n",
       "      <td>1.5</td>\n",
       "    </tr>\n",
       "    <tr>\n",
       "      <th>757687988189065216</th>\n",
       "      <td>4206</td>\n",
       "      <td>Twitter for iPhone</td>\n",
       "      <td>thank you roanoke, virginia- be back soon! #tr...</td>\n",
       "      <td>2016-07-25 21:24:28</td>\n",
       "      <td>2016-07-25 17:24:28-04:00</td>\n",
       "      <td>17</td>\n",
       "      <td>thank you roanoke  virginia  be back soon   tr...</td>\n",
       "      <td>1.5</td>\n",
       "    </tr>\n",
       "    <tr>\n",
       "      <th>757650904896139264</th>\n",
       "      <td>10296</td>\n",
       "      <td>Twitter for iPhone</td>\n",
       "      <td>make america safe and great again! #trumppence...</td>\n",
       "      <td>2016-07-25 18:57:06</td>\n",
       "      <td>2016-07-25 14:57:06-04:00</td>\n",
       "      <td>14</td>\n",
       "      <td>make america safe and great again   trumppence...</td>\n",
       "      <td>5.0</td>\n",
       "    </tr>\n",
       "    <tr>\n",
       "      <th>757618048664829952</th>\n",
       "      <td>12696</td>\n",
       "      <td>Twitter for iPhone</td>\n",
       "      <td>#makeamericagreatagain \\nhttps://t.co/exsouose...</td>\n",
       "      <td>2016-07-25 16:46:33</td>\n",
       "      <td>2016-07-25 12:46:33-04:00</td>\n",
       "      <td>12</td>\n",
       "      <td>makeamericagreatagain \\nhttps   t co exsouose...</td>\n",
       "      <td>0.0</td>\n",
       "    </tr>\n",
       "  </tbody>\n",
       "</table>\n",
       "<p>3234 rows × 8 columns</p>\n",
       "</div>"
      ],
      "text/plain": [
       "                    retweet_count               source  \\\n",
       "910993665568526337           8769   Twitter for iPhone   \n",
       "910992971620864004           4722   Twitter for iPhone   \n",
       "910926223684931585          13597         Media Studio   \n",
       "910898047931912192           7231         Media Studio   \n",
       "910885755320459264           5030   Twitter for iPhone   \n",
       "910885156373721092           5365         Media Studio   \n",
       "910703407555600386          10422   Twitter for iPhone   \n",
       "910671525543645185          10401   Twitter for iPhone   \n",
       "910665452048838661           9271   Twitter for iPhone   \n",
       "910641701064204288          16796   Twitter for iPhone   \n",
       "910635327672512512           6923   Twitter for iPhone   \n",
       "910632095088889857          10930   Twitter for iPhone   \n",
       "910581819078316034           7374   Twitter for iPhone   \n",
       "910580644597649409           8722   Twitter for iPhone   \n",
       "910551350408241152           6458         Media Studio   \n",
       "910524897515905025           8169         Media Studio   \n",
       "910480918816739328           7727   Twitter for iPhone   \n",
       "910477734635286528          12491   Twitter for iPhone   \n",
       "910476107287269376           9748   Twitter for iPhone   \n",
       "910459401558986752          20492   Twitter for iPhone   \n",
       "910458657179086848           5640   Twitter for iPhone   \n",
       "910455390038642688           7439   Twitter for iPhone   \n",
       "910454516557983744          11828   Twitter for iPhone   \n",
       "910454124696752130          10063   Twitter for iPhone   \n",
       "910453612630900736          21318   Twitter for iPhone   \n",
       "910447064944955392          10328   Twitter for iPhone   \n",
       "910443493511827456           9015   Twitter for iPhone   \n",
       "910443458564894720           4060   Twitter for iPhone   \n",
       "910443366911037440           3708   Twitter for iPhone   \n",
       "910332992756834304          25796   Twitter for iPhone   \n",
       "...                           ...                  ...   \n",
       "758236300554174465           7069  Twitter for Android   \n",
       "758233935230959617           6617  Twitter for Android   \n",
       "758135085820416000           9474   Twitter for iPhone   \n",
       "758122684798607360           8077  Twitter for Android   \n",
       "758121939365982208           9858  Twitter for Android   \n",
       "758120321845235712          10426  Twitter for Android   \n",
       "758117640200187905          12819  Twitter for Android   \n",
       "758071952498159616          11615  Twitter for Android   \n",
       "758071264128806912           9873  Twitter for Android   \n",
       "758026136299397120          13356   Twitter for iPhone   \n",
       "758021060503756804           6846   Twitter for iPhone   \n",
       "758020997383684096          11984   Twitter for iPhone   \n",
       "758004154417553409           6175   Twitter for iPhone   \n",
       "757997327269306369           4236   Twitter for iPhone   \n",
       "757994830110658560           4299   Twitter for iPhone   \n",
       "757919034755076096           8064  Twitter for Android   \n",
       "757918002339778560          19447  Twitter for Android   \n",
       "757916962269704192           7585  Twitter for Android   \n",
       "757777369272815617          21936  Twitter for Android   \n",
       "757775689525309440          11299  Twitter for Android   \n",
       "757773671545044992          22344   Twitter for iPhone   \n",
       "757760973419712512          10243   Twitter for iPhone   \n",
       "757696233427312640           8073  Twitter for Android   \n",
       "757693383481626624           8581  Twitter for Android   \n",
       "757690343181737984          14025   Twitter for iPhone   \n",
       "757690132111777792           8381   Twitter for iPhone   \n",
       "757688331597668353           7846   Twitter for iPhone   \n",
       "757687988189065216           4206   Twitter for iPhone   \n",
       "757650904896139264          10296   Twitter for iPhone   \n",
       "757618048664829952          12696   Twitter for iPhone   \n",
       "\n",
       "                                                                 text  \\\n",
       "910993665568526337      a big day for the u.s. at the united nations!   \n",
       "910992971620864004  senator luther strange has gone up a lot in th...   \n",
       "910926223684931585  today, i announced a new executive order with ...   \n",
       "910898047931912192  it was a great privilege to meet with presiden...   \n",
       "910885755320459264  it was wonderful to have president petro poros...   \n",
       "910885156373721092  it was a pleasure to have president ashraf gha...   \n",
       "910703407555600386  governor @ricardorossello- \\nwe are with you a...   \n",
       "910671525543645185  senator (doctor) bill cassidy is a class act w...   \n",
       "910665452048838661  the nra strongly endorses luther strange for s...   \n",
       "910641701064204288  i would not sign graham-cassidy if it did not ...   \n",
       "910635327672512512  alabama is sooo lucky to have a candidate like...   \n",
       "910632095088889857  on behalf of all americans, i want to wish jew...   \n",
       "910581819078316034  rt @vp: went to the senate today to say @potus...   \n",
       "910580644597649409  honored to host a luncheon for african leaders...   \n",
       "910551350408241152  honored to meet w/ pres abbas from the palesti...   \n",
       "910524897515905025  it was a great honor to be with king abdullah ...   \n",
       "910480918816739328  looking forward to friday night in the great s...   \n",
       "910477734635286528  i hope republican senators will vote for graha...   \n",
       "910476107287269376  rand paul is a friend of mine but he is such a...   \n",
       "910459401558986752  rt @franklin_graham: join me in praying for @p...   \n",
       "910458657179086848            thank you  @foxandfriends - great show!   \n",
       "910455390038642688  rt @realeaglebites: @realdonaldtrump it is the...   \n",
       "910454516557983744  the world is noticing, thanks! https://t.co/2n...   \n",
       "910454124696752130  rt @donnawr8: @realdonaldtrump thank you @potu...   \n",
       "910453612630900736  after allowing north korea to research and bui...   \n",
       "910447064944955392  big meetings today at the united nations. so m...   \n",
       "910443493511827456  rt @scavino45: \"the iran deal was one of the w...   \n",
       "910443458564894720  rt @scavino45: #wethepeople🇺🇸\\n#usaatunga #ung...   \n",
       "910443366911037440  rt @scavino45: .@potus @realdonaldtrump and @u...   \n",
       "910332992756834304  i was saddened to see how bad the ratings were...   \n",
       "...                                                               ...   \n",
       "758236300554174465  funny how the failing @nytimes is pushing dems...   \n",
       "758233935230959617  as i have been saying, crooked hillary will ap...   \n",
       "758135085820416000  just like i have warned from the beginning, cr...   \n",
       "758122684798607360  many of bernie's supporters have left the aren...   \n",
       "758121939365982208  i hate to say it, but the republican conventio...   \n",
       "758120321845235712  no matter what bill clinton says and no matter...   \n",
       "758117640200187905  you have no idea what my strategy on isis is, ...   \n",
       "758071952498159616  for the record, i have zero investments in rus...   \n",
       "758071264128806912  in order to try and deflect the horror and stu...   \n",
       "758026136299397120  dems don't want to talk isis b/c hillary's for...   \n",
       "758021060503756804  bernie's exhausted, he just wants to shut down...   \n",
       "758020997383684096  the invention of email has proven to be a very...   \n",
       "758004154417553409  thank you new hampshire! \\n#makeamericagreatag...   \n",
       "757997327269306369  join us in toledo, ohio- tomorrow night at 8pm...   \n",
       "757994830110658560  join us tomorrow in scranton, pennsylvania at ...   \n",
       "757919034755076096        pocahontas bombed last night! sad to watch.   \n",
       "757918002339778560  why aren't the democrats speaking about isis, ...   \n",
       "757916962269704192  funny, if you listen to @foxnews, the democrat...   \n",
       "757777369272815617  bernie sanders totally sold out to crooked hil...   \n",
       "757775689525309440  elizabeth warren, often referred to as pocahon...   \n",
       "757773671545044992  sad to watch bernie sanders abandon his revolu...   \n",
       "757760973419712512  if cory booker is the future of the democratic...   \n",
       "757696233427312640  i was at @foxnews and met juan williams in pas...   \n",
       "757693383481626624  hard to believe that bernie sanders has done s...   \n",
       "757690343181737984  while bernie has totally given up on his fight...   \n",
       "757690132111777792  clinton betrayed bernie voters. kaine supports...   \n",
       "757688331597668353  thank you ohio! #trumppence16\\nhttps://t.co/no...   \n",
       "757687988189065216  thank you roanoke, virginia- be back soon! #tr...   \n",
       "757650904896139264  make america safe and great again! #trumppence...   \n",
       "757618048664829952  #makeamericagreatagain \\nhttps://t.co/exsouose...   \n",
       "\n",
       "                                  time                  est_time  hour  \\\n",
       "910993665568526337 2017-09-21 22:26:29 2017-09-21 18:26:29-04:00    18   \n",
       "910992971620864004 2017-09-21 22:23:44 2017-09-21 18:23:44-04:00    18   \n",
       "910926223684931585 2017-09-21 17:58:30 2017-09-21 13:58:30-04:00    13   \n",
       "910898047931912192 2017-09-21 16:06:32 2017-09-21 12:06:32-04:00    12   \n",
       "910885755320459264 2017-09-21 15:17:42 2017-09-21 11:17:42-04:00    11   \n",
       "910885156373721092 2017-09-21 15:15:19 2017-09-21 11:15:19-04:00    11   \n",
       "910703407555600386 2017-09-21 03:13:07 2017-09-20 23:13:07-04:00    23   \n",
       "910671525543645185 2017-09-21 01:06:25 2017-09-20 21:06:25-04:00    21   \n",
       "910665452048838661 2017-09-21 00:42:17 2017-09-20 20:42:17-04:00    20   \n",
       "910641701064204288 2017-09-20 23:07:55 2017-09-20 19:07:55-04:00    19   \n",
       "910635327672512512 2017-09-20 22:42:35 2017-09-20 18:42:35-04:00    18   \n",
       "910632095088889857 2017-09-20 22:29:44 2017-09-20 18:29:44-04:00    18   \n",
       "910581819078316034 2017-09-20 19:09:58 2017-09-20 15:09:58-04:00    15   \n",
       "910580644597649409 2017-09-20 19:05:18 2017-09-20 15:05:18-04:00    15   \n",
       "910551350408241152 2017-09-20 17:08:53 2017-09-20 13:08:53-04:00    13   \n",
       "910524897515905025 2017-09-20 15:23:46 2017-09-20 11:23:46-04:00    11   \n",
       "910480918816739328 2017-09-20 12:29:01 2017-09-20 08:29:01-04:00     8   \n",
       "910477734635286528 2017-09-20 12:16:22 2017-09-20 08:16:22-04:00     8   \n",
       "910476107287269376 2017-09-20 12:09:54 2017-09-20 08:09:54-04:00     8   \n",
       "910459401558986752 2017-09-20 11:03:31 2017-09-20 07:03:31-04:00     7   \n",
       "910458657179086848 2017-09-20 11:00:34 2017-09-20 07:00:34-04:00     7   \n",
       "910455390038642688 2017-09-20 10:47:35 2017-09-20 06:47:35-04:00     6   \n",
       "910454516557983744 2017-09-20 10:44:06 2017-09-20 06:44:06-04:00     6   \n",
       "910454124696752130 2017-09-20 10:42:33 2017-09-20 06:42:33-04:00     6   \n",
       "910453612630900736 2017-09-20 10:40:31 2017-09-20 06:40:31-04:00     6   \n",
       "910447064944955392 2017-09-20 10:14:30 2017-09-20 06:14:30-04:00     6   \n",
       "910443493511827456 2017-09-20 10:00:18 2017-09-20 06:00:18-04:00     6   \n",
       "910443458564894720 2017-09-20 10:00:10 2017-09-20 06:00:10-04:00     6   \n",
       "910443366911037440 2017-09-20 09:59:48 2017-09-20 05:59:48-04:00     5   \n",
       "910332992756834304 2017-09-20 02:41:13 2017-09-19 22:41:13-04:00    22   \n",
       "...                                ...                       ...   ...   \n",
       "758236300554174465 2016-07-27 09:43:16 2016-07-27 05:43:16-04:00     5   \n",
       "758233935230959617 2016-07-27 09:33:52 2016-07-27 05:33:52-04:00     5   \n",
       "758135085820416000 2016-07-27 03:01:04 2016-07-26 23:01:04-04:00    23   \n",
       "758122684798607360 2016-07-27 02:11:47 2016-07-26 22:11:47-04:00    22   \n",
       "758121939365982208 2016-07-27 02:08:50 2016-07-26 22:08:50-04:00    22   \n",
       "758120321845235712 2016-07-27 02:02:24 2016-07-26 22:02:24-04:00    22   \n",
       "758117640200187905 2016-07-27 01:51:45 2016-07-26 21:51:45-04:00    21   \n",
       "758071952498159616 2016-07-26 22:50:12 2016-07-26 18:50:12-04:00    18   \n",
       "758071264128806912 2016-07-26 22:47:28 2016-07-26 18:47:28-04:00    18   \n",
       "758026136299397120 2016-07-26 19:48:08 2016-07-26 15:48:08-04:00    15   \n",
       "758021060503756804 2016-07-26 19:27:58 2016-07-26 15:27:58-04:00    15   \n",
       "758020997383684096 2016-07-26 19:27:43 2016-07-26 15:27:43-04:00    15   \n",
       "758004154417553409 2016-07-26 18:20:48 2016-07-26 14:20:48-04:00    14   \n",
       "757997327269306369 2016-07-26 17:53:40 2016-07-26 13:53:40-04:00    13   \n",
       "757994830110658560 2016-07-26 17:43:45 2016-07-26 13:43:45-04:00    13   \n",
       "757919034755076096 2016-07-26 12:42:33 2016-07-26 08:42:33-04:00     8   \n",
       "757918002339778560 2016-07-26 12:38:27 2016-07-26 08:38:27-04:00     8   \n",
       "757916962269704192 2016-07-26 12:34:19 2016-07-26 08:34:19-04:00     8   \n",
       "757777369272815617 2016-07-26 03:19:38 2016-07-25 23:19:38-04:00    23   \n",
       "757775689525309440 2016-07-26 03:12:57 2016-07-25 23:12:57-04:00    23   \n",
       "757773671545044992 2016-07-26 03:04:56 2016-07-25 23:04:56-04:00    23   \n",
       "757760973419712512 2016-07-26 02:14:29 2016-07-25 22:14:29-04:00    22   \n",
       "757696233427312640 2016-07-25 21:57:14 2016-07-25 17:57:14-04:00    17   \n",
       "757693383481626624 2016-07-25 21:45:54 2016-07-25 17:45:54-04:00    17   \n",
       "757690343181737984 2016-07-25 21:33:49 2016-07-25 17:33:49-04:00    17   \n",
       "757690132111777792 2016-07-25 21:32:59 2016-07-25 17:32:59-04:00    17   \n",
       "757688331597668353 2016-07-25 21:25:50 2016-07-25 17:25:50-04:00    17   \n",
       "757687988189065216 2016-07-25 21:24:28 2016-07-25 17:24:28-04:00    17   \n",
       "757650904896139264 2016-07-25 18:57:06 2016-07-25 14:57:06-04:00    14   \n",
       "757618048664829952 2016-07-25 16:46:33 2016-07-25 12:46:33-04:00    12   \n",
       "\n",
       "                                                              no_punc  \\\n",
       "910993665568526337      a big day for the u s  at the united nations    \n",
       "910992971620864004  senator luther strange has gone up a lot in th...   \n",
       "910926223684931585  today  i announced a new executive order with ...   \n",
       "910898047931912192  it was a great privilege to meet with presiden...   \n",
       "910885755320459264  it was wonderful to have president petro poros...   \n",
       "910885156373721092  it was a pleasure to have president ashraf gha...   \n",
       "910703407555600386  governor  ricardorossello  \\nwe are with you a...   \n",
       "910671525543645185  senator  doctor  bill cassidy is a class act w...   \n",
       "910665452048838661  the nra strongly endorses luther strange for s...   \n",
       "910641701064204288  i would not sign graham cassidy if it did not ...   \n",
       "910635327672512512  alabama is sooo lucky to have a candidate like...   \n",
       "910632095088889857  on behalf of all americans  i want to wish jew...   \n",
       "910581819078316034  rt  vp  went to the senate today to say  potus...   \n",
       "910580644597649409  honored to host a luncheon for african leaders...   \n",
       "910551350408241152  honored to meet w  pres abbas from the palesti...   \n",
       "910524897515905025  it was a great honor to be with king abdullah ...   \n",
       "910480918816739328  looking forward to friday night in the great s...   \n",
       "910477734635286528  i hope republican senators will vote for graha...   \n",
       "910476107287269376  rand paul is a friend of mine but he is such a...   \n",
       "910459401558986752  rt  franklin graham  join me in praying for  p...   \n",
       "910458657179086848            thank you   foxandfriends   great show    \n",
       "910455390038642688  rt  realeaglebites   realdonaldtrump it is the...   \n",
       "910454516557983744  the world is noticing  thanks  https   t co 2n...   \n",
       "910454124696752130  rt  donnawr8   realdonaldtrump thank you  potu...   \n",
       "910453612630900736  after allowing north korea to research and bui...   \n",
       "910447064944955392  big meetings today at the united nations  so m...   \n",
       "910443493511827456  rt  scavino45   the iran deal was one of the w...   \n",
       "910443458564894720  rt  scavino45   wethepeople  \\n usaatunga  ung...   \n",
       "910443366911037440  rt  scavino45    potus  realdonaldtrump and  u...   \n",
       "910332992756834304  i was saddened to see how bad the ratings were...   \n",
       "...                                                               ...   \n",
       "758236300554174465  funny how the failing  nytimes is pushing dems...   \n",
       "758233935230959617  as i have been saying  crooked hillary will ap...   \n",
       "758135085820416000  just like i have warned from the beginning  cr...   \n",
       "758122684798607360  many of bernie s supporters have left the aren...   \n",
       "758121939365982208  i hate to say it  but the republican conventio...   \n",
       "758120321845235712  no matter what bill clinton says and no matter...   \n",
       "758117640200187905  you have no idea what my strategy on isis is  ...   \n",
       "758071952498159616  for the record  i have zero investments in rus...   \n",
       "758071264128806912  in order to try and deflect the horror and stu...   \n",
       "758026136299397120  dems don t want to talk isis b c hillary s for...   \n",
       "758021060503756804  bernie s exhausted  he just wants to shut down...   \n",
       "758020997383684096  the invention of email has proven to be a very...   \n",
       "758004154417553409  thank you new hampshire  \\n makeamericagreatag...   \n",
       "757997327269306369  join us in toledo  ohio  tomorrow night at 8pm...   \n",
       "757994830110658560  join us tomorrow in scranton  pennsylvania at ...   \n",
       "757919034755076096        pocahontas bombed last night  sad to watch    \n",
       "757918002339778560  why aren t the democrats speaking about isis  ...   \n",
       "757916962269704192  funny  if you listen to  foxnews  the democrat...   \n",
       "757777369272815617  bernie sanders totally sold out to crooked hil...   \n",
       "757775689525309440  elizabeth warren  often referred to as pocahon...   \n",
       "757773671545044992  sad to watch bernie sanders abandon his revolu...   \n",
       "757760973419712512  if cory booker is the future of the democratic...   \n",
       "757696233427312640  i was at  foxnews and met juan williams in pas...   \n",
       "757693383481626624  hard to believe that bernie sanders has done s...   \n",
       "757690343181737984  while bernie has totally given up on his fight...   \n",
       "757690132111777792  clinton betrayed bernie voters  kaine supports...   \n",
       "757688331597668353  thank you ohio   trumppence16\\nhttps   t co no...   \n",
       "757687988189065216  thank you roanoke  virginia  be back soon   tr...   \n",
       "757650904896139264  make america safe and great again   trumppence...   \n",
       "757618048664829952   makeamericagreatagain \\nhttps   t co exsouose...   \n",
       "\n",
       "                    polarity  \n",
       "910993665568526337       1.8  \n",
       "910992971620864004       3.3  \n",
       "910926223684931585       1.6  \n",
       "910898047931912192       4.6  \n",
       "910885755320459264       2.7  \n",
       "910885156373721092       2.7  \n",
       "910703407555600386       1.9  \n",
       "910671525543645185       5.9  \n",
       "910665452048838661       3.0  \n",
       "910641701064204288       3.1  \n",
       "910635327672512512       3.9  \n",
       "910632095088889857       4.5  \n",
       "910581819078316034       1.7  \n",
       "910580644597649409       7.8  \n",
       "910551350408241152       2.7  \n",
       "910524897515905025       8.4  \n",
       "910480918816739328       8.1  \n",
       "910477734635286528       5.1  \n",
       "910476107287269376       2.6  \n",
       "910459401558986752      -3.8  \n",
       "910458657179086848       4.6  \n",
       "910455390038642688      -1.9  \n",
       "910454516557983744       1.9  \n",
       "910454124696752130       3.0  \n",
       "910453612630900736      -1.4  \n",
       "910447064944955392       6.6  \n",
       "910443493511827456      -1.3  \n",
       "910443458564894720       0.0  \n",
       "910443366911037440       0.0  \n",
       "910332992756834304      -5.0  \n",
       "...                      ...  \n",
       "758236300554174465      -0.4  \n",
       "758233935230959617      -2.6  \n",
       "758135085820416000      -2.8  \n",
       "758122684798607360       1.9  \n",
       "758121939365982208       1.9  \n",
       "758120321845235712      -1.1  \n",
       "758117640200187905       4.8  \n",
       "758071952498159616       0.0  \n",
       "758071264128806912      -9.1  \n",
       "758026136299397120       2.1  \n",
       "758021060503756804      -1.5  \n",
       "758020997383684096      -6.9  \n",
       "758004154417553409       1.5  \n",
       "757997327269306369       1.2  \n",
       "757994830110658560       1.2  \n",
       "757919034755076096      -2.1  \n",
       "757918002339778560      -1.5  \n",
       "757916962269704192       3.8  \n",
       "757777369272815617      -0.7  \n",
       "757775689525309440      -3.2  \n",
       "757773671545044992      -3.2  \n",
       "757760973419712512       0.5  \n",
       "757696233427312640       0.8  \n",
       "757693383481626624       1.9  \n",
       "757690343181737984       2.6  \n",
       "757690132111777792      -4.3  \n",
       "757688331597668353       1.5  \n",
       "757687988189065216       1.5  \n",
       "757650904896139264       5.0  \n",
       "757618048664829952       0.0  \n",
       "\n",
       "[3234 rows x 8 columns]"
      ]
     },
     "execution_count": 361,
     "metadata": {},
     "output_type": "execute_result"
    }
   ],
   "source": [
    "senti = trump.join(polarities)\n",
    "senti"
   ]
  },
  {
   "cell_type": "code",
   "execution_count": 362,
   "metadata": {
    "tags": [
     "test",
     "q05f"
    ]
   },
   "outputs": [
    {
     "name": "stdout",
     "output_type": "stream",
     "text": [
      "~~~~~~~~~~~~~~~~~~~~~~~~~~~~~~~~~~~~~~~~~~~~~~~~~~~~~~~~~~~~~~~~~~~~~\n",
      "Running tests\n",
      "\n",
      "---------------------------------------------------------------------\n",
      "Test summary\n",
      "    Passed: 1\n",
      "    Failed: 0\n",
      "[ooooooooook] 100.0% passed\n",
      "\n"
     ]
    },
    {
     "data": {
      "application/javascript": [
       "IPython.notebook.save_checkpoint();"
      ],
      "text/plain": [
       "<IPython.core.display.Javascript object>"
      ]
     },
     "metadata": {},
     "output_type": "display_data"
    },
    {
     "data": {
      "application/javascript": [
       "IPython.notebook.save_notebook();"
      ],
      "text/plain": [
       "<IPython.core.display.Javascript object>"
      ]
     },
     "metadata": {},
     "output_type": "display_data"
    },
    {
     "name": "stdout",
     "output_type": "stream",
     "text": [
      "Saving notebook... Saved 'proj1.ipynb'.\n",
      "Submit... 100% complete\n",
      "Submission successful for user: yining.jiang@berkeley.edu\n",
      "URL: https://okpy.org/cal/ds100/fa17/proj1_part1/submissions/W6JY14\n",
      "NOTE: this is only a backup. To submit your assignment, use:\n",
      "\tpython3 ok --submit\n",
      "\n"
     ]
    }
   ],
   "source": [
    "_ = ok.grade('q05f')\n",
    "_ = ok.backup()"
   ]
  },
  {
   "cell_type": "markdown",
   "metadata": {},
   "source": [
    "Now we have a measure of the sentiment of each of his tweets! Note that this calculation is rather basic; you can read over the VADER readme to understand a more robust sentiment analysis.\n",
    "\n",
    "Now, run the cells below to see the most positive and most negative tweets from Trump in your dataset:"
   ]
  },
  {
   "cell_type": "code",
   "execution_count": 363,
   "metadata": {},
   "outputs": [
    {
     "name": "stdout",
     "output_type": "stream",
     "text": [
      "Most negative tweets:\n",
      "   \"@fiiibuster: @jeffzeleny pathetic - you have no sufficient evidence that donald trump did not suffer from voter fraud, shame! bad reporter.\n",
      "   democrat jon ossoff would be a disaster in congress. very weak on crime and illegal immigration, bad for jobs and wants higher taxes. say no\n",
      "   rt @seanspicer: .@timkaine wants to tough on crime - fails to talk about defending rapists and murders #vpdebate\n",
      "   the fake news media has never been so wrong or so dirty. purposely incorrect stories and phony sources to meet their agenda of hate. sad!\n",
      "   the failing new york times foiled u.s. attempt to kill the single most wanted terrorist,al-baghdadi.their sick agenda over national security\n"
     ]
    }
   ],
   "source": [
    "print('Most negative tweets:')\n",
    "for t in senti.sort_values('polarity').head()['text']:\n",
    "    print('  ', t)"
   ]
  },
  {
   "cell_type": "code",
   "execution_count": 364,
   "metadata": {
    "scrolled": true
   },
   "outputs": [
    {
     "name": "stdout",
     "output_type": "stream",
     "text": [
      "Most positive tweets:\n",
      "   thank you to linda bean of l.l.bean for your great support and courage. people will support you even more now. buy l.l.bean. @lbperfectmaine\n",
      "   rt @ivankatrump: 2016 has been one of the most eventful and exciting years of my life. i wish you peace, joy, love and laughter. happy new…\n",
      "   \"@pauladuvall2: we're all enjoying you, as well, mr. t.! you've inspired hope and a positive spirit throughout america! god bless you!\" nice\n",
      "   great honor to be endorsed by popular &amp; successful @gov_gilmore of va. a state that i very much want to win-thx jim! https://t.co/x4y1tafhvn\n",
      "   hope you like my nomination of judge neil gorsuch for the united states supreme court. he is a good and brilliant man, respected by all.\n"
     ]
    }
   ],
   "source": [
    "print('Most positive tweets:')\n",
    "for t in senti.sort_values('polarity', ascending=False).head()['text']:\n",
    "    print('  ', t)"
   ]
  },
  {
   "cell_type": "markdown",
   "metadata": {},
   "source": [
    "---\n",
    "<br></br>\n",
    "\n",
    "## Question 5g\n",
    "\n",
    "Use seaborn to create a `distplot` of the sentiments. What do you notice? (You don't have to write this down in the notebook.)"
   ]
  },
  {
   "cell_type": "code",
   "execution_count": 365,
   "metadata": {
    "tags": [
     "student"
    ]
   },
   "outputs": [
    {
     "data": {
      "text/plain": [
       "<matplotlib.axes._subplots.AxesSubplot at 0x10e87fbe0>"
      ]
     },
     "execution_count": 365,
     "metadata": {},
     "output_type": "execute_result"
    },
    {
     "data": {
      "image/png": "[encoded data removed]",
      "text/plain": [
       "<matplotlib.figure.Figure at 0x10e86af28>"
      ]
     },
     "metadata": {},
     "output_type": "display_data"
    }
   ],
   "source": [
    "### make your plot here\n",
    "sns.distplot(polarities)"
   ]
  },
  {
   "cell_type": "markdown",
   "metadata": {},
   "source": [
    "---\n",
    "<br></br>\n",
    "\n",
    "## Question 5h\n",
    "Create a line plot of the sentiment of Trump's tweets over time. Plot the mean sentiment of two weeks' of his tweets over time. Then, plot vertical lines corresponding to his election and inauguration dates. Your final plot should look like:\n",
    "\n",
    "![](senti_time.png)\n",
    "\n",
    "Then, describe what you notice and save your result in the variable `senti_time_answer`."
   ]
  },
  {
   "cell_type": "code",
   "execution_count": 366,
   "metadata": {
    "collapsed": true
   },
   "outputs": [],
   "source": [
    "enti=senti.loc[:,['est_time','polarity']].set_index('est_time').resample('M', label='right').mean()"
   ]
  },
  {
   "cell_type": "code",
   "execution_count": 367,
   "metadata": {
    "tags": [
     "student",
     "written"
    ]
   },
   "outputs": [
    {
     "data": {
      "text/markdown": [
       "\n",
       "\n",
       "During the period of election,Trump seems to be especially positive,while around the period of inauguration,he became more and more sensitive.\n",
       "He has adapted to being a president and feel more and more confident recently.\n",
       "\n"
      ],
      "text/plain": [
       "<IPython.core.display.Markdown object>"
      ]
     },
     "metadata": {},
     "output_type": "display_data"
    },
    {
     "data": {
      "image/png": "[encoded data removed]",
      "text/plain": [
       "<matplotlib.figure.Figure at 0x10ee39e80>"
      ]
     },
     "metadata": {},
     "output_type": "display_data"
    }
   ],
   "source": [
    "# Create your plot here...\n",
    "enti.plot()\n",
    "plt.xlabel('time')\n",
    "plt.axvline(enti.reset_index()['est_time'][4],color='r',linestyle='--')\n",
    "plt.axvline(enti.reset_index()['est_time'][6],color='r',linestyle='--')\n",
    "# ...then write your takeaways here.\n",
    "senti_time_answer = '''\n",
    "\n",
    "During the period of election,Trump seems to be especially positive,while around the period of inauguration,he became more and more sensitive.\n",
    "He has adapted to being a president and feel more and more confident recently.\n",
    "\n",
    "'''\n",
    "display(Markdown(senti_time_answer))"
   ]
  },
  {
   "cell_type": "markdown",
   "metadata": {},
   "source": [
    "## Question 6: Hashtags\n",
    "\n",
    "Let's return now to the problem of determining which tweets were from Trump and which were from his aides. As a reminder, most analysts agree that tweets that came from an Android device were likely from Trump himself, not one of his aides ([example](http://didtrumptweetit.com/machine-learning-tweet-prediction/)).\n",
    "\n",
    "In addition, browsing his Twitter shows that some tweets that sound more \"official\" often have a hashtag, link, or a picture:\n",
    "\n",
    "![](aide.png)\n",
    "\n",
    "Whereas tweets that sound like Trump himself usually don't have a hashtag, link, or picture:\n",
    "\n",
    "![](trump.png)\n",
    "\n",
    "So, we can hypothesize that if a tweet has a hashtag, link, or picture it came from one of Trump's aides, not Trump himself. Let's see if this idea is backed up by the data."
   ]
  },
  {
   "cell_type": "markdown",
   "metadata": {},
   "source": [
    "---\n",
    "<br></br>\n",
    "\n",
    "## Question 6a\n",
    "\n",
    "Create a DF called `hash_or_link` that contains only the rows from the `senti` table where the tweet isn't a retweet and contains a hashtag, link, or picture. We say that:\n",
    "\n",
    "- A tweet is a retweet if it has the string 'rt' anywhere in the tweet if it is preceeded and followed by a non-word character (the start and end of the string count as non-word characters).\n",
    "- A tweet has a hashtag if it has the character '#' anywhere in the tweet followed by a letter.\n",
    "- A tweet contains a link or a picture if it has the word `http` anywhere in the tweet\n",
    "\n",
    "(You can check out Trump's Twitter for why these criteria are true)."
   ]
  },
  {
   "cell_type": "code",
   "execution_count": 368,
   "metadata": {
    "tags": [
     "student"
    ]
   },
   "outputs": [
    {
     "name": "stderr",
     "output_type": "stream",
     "text": [
      "/anaconda/lib/python3.6/site-packages/ipykernel_launcher.py:5: UserWarning: This pattern has match groups. To actually get the groups, use str.extract.\n",
      "  \"\"\"\n"
     ]
    }
   ],
   "source": [
    "# You must save your regex for retweets in this variable\n",
    "rt_re = r'((\\Wrt\\W)|(^rt)|(rt$))'\n",
    "# You must save your regex for hashtags, links, or pictures in this variable\n",
    "hash_re = r'#[a-zA-Z]|http'\n",
    "hash_or_link = senti[(senti['text'].str.contains(rt_re)==False)&(senti['text'].str.contains(hash_re))]"
   ]
  },
  {
   "cell_type": "code",
   "execution_count": 369,
   "metadata": {
    "tags": [
     "test",
     "q06a"
    ]
   },
   "outputs": [
    {
     "name": "stdout",
     "output_type": "stream",
     "text": [
      "~~~~~~~~~~~~~~~~~~~~~~~~~~~~~~~~~~~~~~~~~~~~~~~~~~~~~~~~~~~~~~~~~~~~~\n",
      "Running tests\n",
      "\n",
      "---------------------------------------------------------------------\n",
      "Test summary\n",
      "    Passed: 1\n",
      "    Failed: 0\n",
      "[ooooooooook] 100.0% passed\n",
      "\n"
     ]
    },
    {
     "data": {
      "application/javascript": [
       "IPython.notebook.save_checkpoint();"
      ],
      "text/plain": [
       "<IPython.core.display.Javascript object>"
      ]
     },
     "metadata": {},
     "output_type": "display_data"
    },
    {
     "data": {
      "application/javascript": [
       "IPython.notebook.save_notebook();"
      ],
      "text/plain": [
       "<IPython.core.display.Javascript object>"
      ]
     },
     "metadata": {},
     "output_type": "display_data"
    },
    {
     "name": "stdout",
     "output_type": "stream",
     "text": [
      "Saving notebook... Saved 'proj1.ipynb'.\n",
      "Submit... 100% complete\n",
      "Submission successful for user: yining.jiang@berkeley.edu\n",
      "URL: https://okpy.org/cal/ds100/fa17/proj1_part1/submissions/5yZ2Mq\n",
      "NOTE: this is only a backup. To submit your assignment, use:\n",
      "\tpython3 ok --submit\n",
      "\n"
     ]
    }
   ],
   "source": [
    "_ = ok.grade('q06a')\n",
    "_ = ok.backup()"
   ]
  },
  {
   "cell_type": "markdown",
   "metadata": {},
   "source": [
    "--- \n",
    "<br></br>\n",
    "\n",
    "## Question 6b\n",
    "\n",
    "Create a line plot of the number of tweets containing a hashtag, link, or picture from each tweet device.\n",
    "\n",
    "If a device doesn't have at least 20 tweets in a particular year, don't include the tweets from that device for that year. (Eg. if there are 100 tweets from Twitter Ads in 2016 but only 10 in 2017, plot the counts for Twitter Ads in 2016 but not 2017.)\n",
    "\n",
    "Aggregate the counts for each two week period. Your final plot should look like:\n",
    "\n",
    "![](hashtag_by_device.png)\n",
    "\n",
    "*Hint:* If you can get a table in the following format, you can just call `.plot()` on it to generate the plot.\n",
    "\n",
    "<table border=\"1\" class=\"dataframe\">\n",
    "  <thead>\n",
    "    <tr style=\"text-align: right;\">\n",
    "      <th>source</th>\n",
    "      <th>Media Studio</th>\n",
    "      <th>Twitter Ads</th>\n",
    "      <th>Twitter Web Client</th>\n",
    "      <th>Twitter for Android</th>\n",
    "      <th>Twitter for iPhone</th>\n",
    "    </tr>\n",
    "    <tr>\n",
    "      <th>time</th>\n",
    "      <th></th>\n",
    "      <th></th>\n",
    "      <th></th>\n",
    "      <th></th>\n",
    "      <th></th>\n",
    "    </tr>\n",
    "  </thead>\n",
    "  <tbody>\n",
    "    <tr>\n",
    "      <th>2016-07-24</th>\n",
    "      <td>NaN</td>\n",
    "      <td>NaN</td>\n",
    "      <td>4.0</td>\n",
    "      <td>10.0</td>\n",
    "      <td>14.0</td>\n",
    "    </tr>\n",
    "    <tr>\n",
    "      <th>2016-08-07</th>\n",
    "      <td>NaN</td>\n",
    "      <td>NaN</td>\n",
    "      <td>5.0</td>\n",
    "      <td>15.0</td>\n",
    "      <td>91.0</td>\n",
    "    </tr>\n",
    "    <tr>\n",
    "      <th>2016-08-21</th>\n",
    "      <td>NaN</td>\n",
    "      <td>NaN</td>\n",
    "      <td>9.0</td>\n",
    "      <td>10.0</td>\n",
    "      <td>44.0</td>\n",
    "    </tr>\n",
    "    <tr>\n",
    "      <th>2016-09-04</th>\n",
    "      <td>NaN</td>\n",
    "      <td>NaN</td>\n",
    "      <td>0.0</td>\n",
    "      <td>20.0</td>\n",
    "      <td>51.0</td>\n",
    "    </tr>\n",
    "    <tr>\n",
    "      <th>2016-09-18</th>\n",
    "      <td>NaN</td>\n",
    "      <td>NaN</td>\n",
    "      <td>1.0</td>\n",
    "      <td>12.0</td>\n",
    "      <td>59.0</td>\n",
    "    </tr>\n",
    "  </tbody>\n",
    "</table>\n",
    "\n",
    "What conclusions can you draw from this plot? Does this plot allow us to say whether a tweet containing a hashtag/link/picture likely came from Trump himself? Write your takeaways in `hashtag_answer` variable."
   ]
  },
  {
   "cell_type": "code",
   "execution_count": 370,
   "metadata": {},
   "outputs": [
    {
     "name": "stderr",
     "output_type": "stream",
     "text": [
      "/anaconda/lib/python3.6/site-packages/ipykernel_launcher.py:1: SettingWithCopyWarning: \n",
      "A value is trying to be set on a copy of a slice from a DataFrame.\n",
      "Try using .loc[row_indexer,col_indexer] = value instead\n",
      "\n",
      "See the caveats in the documentation: http://pandas.pydata.org/pandas-docs/stable/indexing.html#indexing-view-versus-copy\n",
      "  \"\"\"Entry point for launching an IPython kernel.\n"
     ]
    }
   ],
   "source": [
    "hash_or_link['year']=pd.to_datetime(hash_or_link[\"time\"], format='%Y%m%d', errors='ignore').dt.year"
   ]
  },
  {
   "cell_type": "code",
   "execution_count": 371,
   "metadata": {
    "collapsed": true
   },
   "outputs": [],
   "source": [
    "hash=hash_or_link.groupby(['year','source']).filter(lambda x:len(x)>=20)"
   ]
  },
  {
   "cell_type": "code",
   "execution_count": 372,
   "metadata": {
    "tags": [
     "student",
     "written"
    ]
   },
   "outputs": [
    {
     "data": {
      "text/markdown": [
       "\n",
       "\n",
       "It is highly possible  that a tweet containing a hashtag/link/picture likely came from Trump himself,because it is shown in the plot that since\n",
       "trump use iPhone,the tweets seldom contain a hashtag/link/picture.As we have proved above,the tweets were sent by himself since he had iphone.\n"
      ],
      "text/plain": [
       "<IPython.core.display.Markdown object>"
      ]
     },
     "metadata": {},
     "output_type": "display_data"
    },
    {
     "data": {
      "image/png": "[encoded data removed]",
      "text/plain": [
       "<matplotlib.figure.Figure at 0x10e9ce9e8>"
      ]
     },
     "metadata": {},
     "output_type": "display_data"
    }
   ],
   "source": [
    "# Create your plot here...\n",
    "(hash.loc[:,['time','source']].set_index('time').groupby('source').resample('W').size().unstack(level=0).plot())\n",
    "\n",
    "# ...then write your takeaways here.\n",
    "hashtag_answer = '''\n",
    "\n",
    "It is highly possible  that a tweet containing a hashtag/link/picture likely came from Trump himself,because it is shown in the plot that since\n",
    "trump use iPhone,the tweets seldom contain a hashtag/link/picture.As we have proved above,the tweets were sent by himself since he had iphone.\n",
    "'''\n",
    "display(Markdown(hashtag_answer))"
   ]
  },
  {
   "cell_type": "markdown",
   "metadata": {},
   "source": [
    "--- \n",
    "<br></br>\n",
    "\n",
    "## Question 6c \n",
    "\n",
    "Now, let's see whether there's a difference in sentiment for tweets with hashtags and those without.\n",
    "\n",
    "Create a line plot of the sentiment of Trump's non-retweet tweets over time, taking the mean sentiment for every two week period. Plot one line for tweets with hashtags and one for tweets without. Then, draw two vertical lines for the election date and inauguration date. Draw a horizontal line for y=0. Your plot should look like:\n",
    "\n",
    "![](hash_senti.png)\n",
    "\n",
    "What do you notice about the plot? What conclusions can you draw? Write your answers in `hash_senti_answer`.\n",
    "\n",
    "Hint 1: You'll want to start use your `senti` table, not your `hash_or_link` table. Try adding a column to `senti` containing True if the tweet has a hashtag/link/picture.\n",
    "\n",
    "Hint 2: You shouldn't use your `no_punc` column. Think about why not."
   ]
  },
  {
   "cell_type": "code",
   "execution_count": 373,
   "metadata": {
    "collapsed": true
   },
   "outputs": [],
   "source": [
    "senti['hash']=senti['text'].str.contains(hash_re)"
   ]
  },
  {
   "cell_type": "code",
   "execution_count": 374,
   "metadata": {
    "collapsed": true
   },
   "outputs": [],
   "source": [
    "strue=senti[senti['hash']==True].loc[:,['time','polarity']].set_index('time').resample('M', label='right').mean()\n",
    "sfalse=senti[senti['hash']==False].loc[:,['time','polarity']].set_index('time').resample('M', label='right').mean()"
   ]
  },
  {
   "cell_type": "code",
   "execution_count": 375,
   "metadata": {
    "collapsed": true
   },
   "outputs": [],
   "source": [
    "strue=strue.rename(columns={'polarity':'True'})\n",
    "sfalse=sfalse.rename(columns={'polarity':'False'})"
   ]
  },
  {
   "cell_type": "code",
   "execution_count": 376,
   "metadata": {
    "collapsed": true
   },
   "outputs": [],
   "source": [
    "sfalse=sfalse.join(strue)"
   ]
  },
  {
   "cell_type": "code",
   "execution_count": 377,
   "metadata": {
    "tags": [
     "student",
     "written"
    ]
   },
   "outputs": [
    {
     "data": {
      "text/markdown": [
       "\n",
       "\n",
       " Tweets with hashtags tend to have higher sentiments.It shows that the tweets which were sent by trump contain much more negative sentiments \n",
       ".\n",
       "\n",
       "\n"
      ],
      "text/plain": [
       "<IPython.core.display.Markdown object>"
      ]
     },
     "metadata": {},
     "output_type": "display_data"
    },
    {
     "data": {
      "image/png": "[encoded data removed]",
      "text/plain": [
       "<matplotlib.figure.Figure at 0x10ef58978>"
      ]
     },
     "metadata": {},
     "output_type": "display_data"
    }
   ],
   "source": [
    "# Create your plot here...est_\n",
    "sfalse.plot()\n",
    "plt.legend(loc=\"upper right\")\n",
    "plt.axvline('2016-11',color='r',linestyle='--')\n",
    "plt.axvline('2017-01',color='r',linestyle='--')\n",
    "plt.axhline(0.0,color='black',linestyle='-')\n",
    "# ...then write your takeaways here.\n",
    "hash_senti_answer = '''\n",
    "\n",
    " Tweets with hashtags tend to have higher sentiments.It shows that the tweets which were sent by trump contain much more negative sentiments \n",
    ".\n",
    "\n",
    "\n",
    "'''\n",
    "display(Markdown(hash_senti_answer))"
   ]
  },
  {
   "cell_type": "markdown",
   "metadata": {},
   "source": [
    "--- \n",
    "\n",
    "## Question 7: Engagement\n",
    "\n",
    "---\n",
    "<br></br>\n",
    "## Question 7a\n",
    "\n",
    "Which of Trump's tweets had the most retweets? Were there certain words that often led to more retweets?\n",
    "\n",
    "We can find this out by using our `tidy_format` DataFrame. For each word in the `tidy_format` DF, find out the number of retweets that its tweet got. Filter out words that didn't appear in at least 25 tweets, find out the median number of retweets each word got, and save the top 20 most retweeted words into a DataFrame called `top_20`. Your `top_20` table should have this format:\n",
    "\n",
    "<table border=\"1\" class=\"dataframe\">\n",
    "  <thead>\n",
    "    <tr style=\"text-align: right;\">\n",
    "      <th></th>\n",
    "      <th>retweet_count</th>\n",
    "    </tr>\n",
    "    <tr>\n",
    "      <th>word</th>\n",
    "      <th></th>\n",
    "    </tr>\n",
    "  </thead>\n",
    "  <tbody>\n",
    "    <tr>\n",
    "      <th>fake</th>\n",
    "      <td>22963.0</td>\n",
    "    </tr>\n",
    "    <tr>\n",
    "      <th>news</th>\n",
    "      <td>20463.0</td>\n",
    "    </tr>\n",
    "    <tr>\n",
    "      <th>ds100</th>\n",
    "      <td>20432.0</td>\n",
    "    </tr>\n",
    "    <tr>\n",
    "      <th>great</th>\n",
    "      <td>20159.0</td>\n",
    "    </tr>\n",
    "    <tr>\n",
    "      <th>class</th>\n",
    "      <td>20121.0</td>\n",
    "    </tr>\n",
    "  </tbody>\n",
    "</table>"
   ]
  },
  {
   "cell_type": "code",
   "execution_count": 378,
   "metadata": {
    "collapsed": true
   },
   "outputs": [],
   "source": [
    "abb=tidy_format"
   ]
  },
  {
   "cell_type": "code",
   "execution_count": 379,
   "metadata": {
    "collapsed": true
   },
   "outputs": [],
   "source": [
    "abb['count']=1"
   ]
  },
  {
   "cell_type": "code",
   "execution_count": 380,
   "metadata": {
    "collapsed": true
   },
   "outputs": [],
   "source": [
    "tidy_format=tidy_format.loc[:,'num':'word']"
   ]
  },
  {
   "cell_type": "code",
   "execution_count": 381,
   "metadata": {
    "collapsed": true
   },
   "outputs": [],
   "source": [
    "tid=abb.join(trump).groupby('word').aggregate({'count':sum,'retweet_count':np.median})"
   ]
  },
  {
   "cell_type": "code",
   "execution_count": 382,
   "metadata": {
    "collapsed": true
   },
   "outputs": [],
   "source": [
    "top_20 = tid[tid['count']>24].reset_index().sort_values(by='retweet_count',ascending=False)#."
   ]
  },
  {
   "cell_type": "code",
   "execution_count": 383,
   "metadata": {
    "collapsed": true
   },
   "outputs": [],
   "source": [
    "top_20=top_20.iloc[0:19,[0,2]].set_index('word')"
   ]
  },
  {
   "cell_type": "code",
   "execution_count": 384,
   "metadata": {
    "tags": [
     "test",
     "q07a"
    ]
   },
   "outputs": [
    {
     "name": "stdout",
     "output_type": "stream",
     "text": [
      "~~~~~~~~~~~~~~~~~~~~~~~~~~~~~~~~~~~~~~~~~~~~~~~~~~~~~~~~~~~~~~~~~~~~~\n",
      "Running tests\n",
      "\n",
      "---------------------------------------------------------------------\n",
      "Test summary\n",
      "    Passed: 1\n",
      "    Failed: 0\n",
      "[ooooooooook] 100.0% passed\n",
      "\n"
     ]
    },
    {
     "data": {
      "application/javascript": [
       "IPython.notebook.save_checkpoint();"
      ],
      "text/plain": [
       "<IPython.core.display.Javascript object>"
      ]
     },
     "metadata": {},
     "output_type": "display_data"
    },
    {
     "data": {
      "application/javascript": [
       "IPython.notebook.save_notebook();"
      ],
      "text/plain": [
       "<IPython.core.display.Javascript object>"
      ]
     },
     "metadata": {},
     "output_type": "display_data"
    },
    {
     "name": "stdout",
     "output_type": "stream",
     "text": [
      "Saving notebook... Saved 'proj1.ipynb'.\n",
      "Submit... 100% complete\n",
      "Submission successful for user: yining.jiang@berkeley.edu\n",
      "URL: https://okpy.org/cal/ds100/fa17/proj1_part1/submissions/gJowKZ\n",
      "NOTE: this is only a backup. To submit your assignment, use:\n",
      "\tpython3 ok --submit\n",
      "\n"
     ]
    }
   ],
   "source": [
    "_ = ok.grade('q07a')\n",
    "_ = ok.backup()"
   ]
  },
  {
   "cell_type": "markdown",
   "metadata": {},
   "source": [
    "Here's a bar chart of your results:"
   ]
  },
  {
   "cell_type": "code",
   "execution_count": 385,
   "metadata": {},
   "outputs": [
    {
     "data": {
      "text/plain": [
       "<matplotlib.axes._subplots.AxesSubplot at 0x1173b5710>"
      ]
     },
     "execution_count": 385,
     "metadata": {},
     "output_type": "execute_result"
    },
    {
     "data": {
      "image/png": "[encoded data removed]",
      "text/plain": [
       "<matplotlib.figure.Figure at 0x10efe09b0>"
      ]
     },
     "metadata": {},
     "output_type": "display_data"
    }
   ],
   "source": [
    "top_20['retweet_count'].sort_values().plot.barh(figsize=(10, 8))"
   ]
  },
  {
   "cell_type": "markdown",
   "metadata": {},
   "source": [
    "---\n",
    "<br></br>\n",
    "\n",
    "## Question 7b\n",
    "\n",
    "The phrase \"fake news\" is apparently really popular! We can conclude that Trump's tweets containing \"fake\" and/or \"news\" result in the most retweets relative to words his other tweets. Or can we?\n",
    "\n",
    "Consider each of the statements about possible confounding factors below. State whether each statement is true or false and explain. If the statement is true, state whether the confounding factor could have made \"fake\" and/or \"news\" higher on our list than they should be.\n",
    "\n",
    "1. We didn't restrict our word list to nouns, so we have unhelpful words like \"let\" and \"any\" in our result.\n",
    "1. We didn't remove hashtags in our text, so we have duplicate words (eg. #great and great).\n",
    "1. We didn't account for the fact that Trump's follower count has increased over time."
   ]
  },
  {
   "cell_type": "code",
   "execution_count": 386,
   "metadata": {
    "tags": [
     "student",
     "written"
    ]
   },
   "outputs": [
    {
     "data": {
      "text/markdown": [
       "\n",
       "\n",
       "1. False,these word are not related to 'fake news'\n",
       "2. True,duplicated words can increase the number of 'fake news'\n",
       "3. True.The more followers there are，the more retweets there might be.\n",
       "\n"
      ],
      "text/plain": [
       "<IPython.core.display.Markdown object>"
      ]
     },
     "metadata": {},
     "output_type": "display_data"
    }
   ],
   "source": [
    "engagement_answer = '''\n",
    "\n",
    "1. False,these word are not related to 'fake news'\n",
    "2. True,duplicated words can increase the number of 'fake news'\n",
    "3. True.The more followers there are，the more retweets there might be.\n",
    "\n",
    "'''\n",
    "display(Markdown(engagement_answer))"
   ]
  },
  {
   "cell_type": "markdown",
   "metadata": {},
   "source": [
    "---\n",
    "## Question 8: Fake News\n",
    "\n",
    "---\n",
    "<br></br>\n",
    "## Question 8a \n",
    "\n",
    "Let's investigate the term \"fake news\" a bit more. Create a table called `fake_counts` that has two columns:\n",
    "\n",
    "1. `fake_news`: The number of tweets containing the term \"fake news\".\n",
    "1. `total`: The total number of tweets for the time period.\n",
    "\n",
    "The index of the table should be datetimes for each two-week period in the data.\n",
    "\n",
    "The resulting table should look like:\n",
    "\n",
    "<table border=\"1\" class=\"dataframe\">\n",
    "  <thead>\n",
    "    <tr style=\"text-align: right;\">\n",
    "      <th></th>\n",
    "      <th>fake_news</th>\n",
    "      <th>total</th>\n",
    "    </tr>\n",
    "    <tr>\n",
    "      <th>time</th>\n",
    "      <th></th>\n",
    "      <th></th>\n",
    "    </tr>\n",
    "  </thead>\n",
    "  <tbody>\n",
    "    <tr>\n",
    "      <th>2016-07-31</th>\n",
    "      <td>0</td>\n",
    "      <td>79</td>\n",
    "    </tr>\n",
    "    <tr>\n",
    "      <th>2016-08-14</th>\n",
    "      <td>0</td>\n",
    "      <td>143</td>\n",
    "    </tr>\n",
    "    <tr>\n",
    "      <th>2016-08-28</th>\n",
    "      <td>0</td>\n",
    "      <td>118</td>\n",
    "    </tr>\n",
    "    <tr>\n",
    "      <th>2016-09-11</th>\n",
    "      <td>0</td>\n",
    "      <td>121</td>\n",
    "    </tr>\n",
    "    <tr>\n",
    "      <th>2016-09-25</th>\n",
    "      <td>0</td>\n",
    "      <td>111</td>\n",
    "    </tr>\n",
    "  </tbody>\n",
    "</table>"
   ]
  },
  {
   "cell_type": "code",
   "execution_count": 387,
   "metadata": {
    "collapsed": true
   },
   "outputs": [],
   "source": [
    "def ha(a):\n",
    "    if a==False:\n",
    "        return 0\n",
    "    else:\n",
    "        return 1"
   ]
  },
  {
   "cell_type": "code",
   "execution_count": 388,
   "metadata": {
    "collapsed": true
   },
   "outputs": [],
   "source": [
    "fake_counts=pd.DataFrame()\n",
    "fake=trump\n",
    "fake['news']=fake['text'].str.contains(r'fake news')\n",
    "fake['fake_news']=fake['news'].apply(ha)\n",
    "fake['total']=1"
   ]
  },
  {
   "cell_type": "code",
   "execution_count": 389,
   "metadata": {
    "collapsed": true
   },
   "outputs": [],
   "source": [
    "fake_counts = fake.loc[:,['time','fake_news','total']].set_index('time').resample('M', label='right').sum()"
   ]
  },
  {
   "cell_type": "code",
   "execution_count": 390,
   "metadata": {
    "tags": [
     "test",
     "q08a"
    ]
   },
   "outputs": [
    {
     "name": "stdout",
     "output_type": "stream",
     "text": [
      "~~~~~~~~~~~~~~~~~~~~~~~~~~~~~~~~~~~~~~~~~~~~~~~~~~~~~~~~~~~~~~~~~~~~~\n",
      "Running tests\n",
      "\n",
      "---------------------------------------------------------------------\n",
      "Test summary\n",
      "    Passed: 1\n",
      "    Failed: 0\n",
      "[ooooooooook] 100.0% passed\n",
      "\n"
     ]
    },
    {
     "data": {
      "application/javascript": [
       "IPython.notebook.save_checkpoint();"
      ],
      "text/plain": [
       "<IPython.core.display.Javascript object>"
      ]
     },
     "metadata": {},
     "output_type": "display_data"
    },
    {
     "data": {
      "application/javascript": [
       "IPython.notebook.save_notebook();"
      ],
      "text/plain": [
       "<IPython.core.display.Javascript object>"
      ]
     },
     "metadata": {},
     "output_type": "display_data"
    },
    {
     "name": "stdout",
     "output_type": "stream",
     "text": [
      "Saving notebook... Saved 'proj1.ipynb'.\n",
      "Submit... 100% complete\n",
      "Submission successful for user: yining.jiang@berkeley.edu\n",
      "URL: https://okpy.org/cal/ds100/fa17/proj1_part1/submissions/mZxD6E\n",
      "NOTE: this is only a backup. To submit your assignment, use:\n",
      "\tpython3 ok --submit\n",
      "\n"
     ]
    }
   ],
   "source": [
    "_ = ok.grade('q08a')\n",
    "_ = ok.backup()"
   ]
  },
  {
   "cell_type": "markdown",
   "metadata": {},
   "source": [
    "--- \n",
    "<br></br>\n",
    "\n",
    "## Question 8b\n",
    "\n",
    "Now, create a line plot showing the proportion of tweets containing the term \"fake news\" over time. Then, draw two vertical lines corresponding to the election and inauguration dates.\n",
    "\n",
    "What do you notice? Write your conclusions in `fake_news_answer`."
   ]
  },
  {
   "cell_type": "code",
   "execution_count": 391,
   "metadata": {},
   "outputs": [
    {
     "data": {
      "text/html": [
       "<div>\n",
       "<style>\n",
       "    .dataframe thead tr:only-child th {\n",
       "        text-align: right;\n",
       "    }\n",
       "\n",
       "    .dataframe thead th {\n",
       "        text-align: left;\n",
       "    }\n",
       "\n",
       "    .dataframe tbody tr th {\n",
       "        vertical-align: top;\n",
       "    }\n",
       "</style>\n",
       "<table border=\"1\" class=\"dataframe\">\n",
       "  <thead>\n",
       "    <tr style=\"text-align: right;\">\n",
       "      <th></th>\n",
       "      <th>fake_news</th>\n",
       "      <th>total</th>\n",
       "    </tr>\n",
       "    <tr>\n",
       "      <th>time</th>\n",
       "      <th></th>\n",
       "      <th></th>\n",
       "    </tr>\n",
       "  </thead>\n",
       "  <tbody>\n",
       "    <tr>\n",
       "      <th>2016-07-31</th>\n",
       "      <td>0</td>\n",
       "      <td>118</td>\n",
       "    </tr>\n",
       "    <tr>\n",
       "      <th>2016-08-31</th>\n",
       "      <td>0</td>\n",
       "      <td>283</td>\n",
       "    </tr>\n",
       "    <tr>\n",
       "      <th>2016-09-30</th>\n",
       "      <td>0</td>\n",
       "      <td>296</td>\n",
       "    </tr>\n",
       "    <tr>\n",
       "      <th>2016-10-31</th>\n",
       "      <td>0</td>\n",
       "      <td>530</td>\n",
       "    </tr>\n",
       "    <tr>\n",
       "      <th>2016-11-30</th>\n",
       "      <td>0</td>\n",
       "      <td>192</td>\n",
       "    </tr>\n",
       "    <tr>\n",
       "      <th>2016-12-31</th>\n",
       "      <td>1</td>\n",
       "      <td>137</td>\n",
       "    </tr>\n",
       "    <tr>\n",
       "      <th>2017-01-31</th>\n",
       "      <td>11</td>\n",
       "      <td>212</td>\n",
       "    </tr>\n",
       "    <tr>\n",
       "      <th>2017-02-28</th>\n",
       "      <td>17</td>\n",
       "      <td>147</td>\n",
       "    </tr>\n",
       "    <tr>\n",
       "      <th>2017-03-31</th>\n",
       "      <td>7</td>\n",
       "      <td>143</td>\n",
       "    </tr>\n",
       "    <tr>\n",
       "      <th>2017-04-30</th>\n",
       "      <td>3</td>\n",
       "      <td>150</td>\n",
       "    </tr>\n",
       "    <tr>\n",
       "      <th>2017-05-31</th>\n",
       "      <td>10</td>\n",
       "      <td>146</td>\n",
       "    </tr>\n",
       "    <tr>\n",
       "      <th>2017-06-30</th>\n",
       "      <td>12</td>\n",
       "      <td>208</td>\n",
       "    </tr>\n",
       "    <tr>\n",
       "      <th>2017-07-31</th>\n",
       "      <td>16</td>\n",
       "      <td>242</td>\n",
       "    </tr>\n",
       "    <tr>\n",
       "      <th>2017-08-31</th>\n",
       "      <td>17</td>\n",
       "      <td>256</td>\n",
       "    </tr>\n",
       "    <tr>\n",
       "      <th>2017-09-30</th>\n",
       "      <td>1</td>\n",
       "      <td>174</td>\n",
       "    </tr>\n",
       "  </tbody>\n",
       "</table>\n",
       "</div>"
      ],
      "text/plain": [
       "            fake_news  total\n",
       "time                        \n",
       "2016-07-31          0    118\n",
       "2016-08-31          0    283\n",
       "2016-09-30          0    296\n",
       "2016-10-31          0    530\n",
       "2016-11-30          0    192\n",
       "2016-12-31          1    137\n",
       "2017-01-31         11    212\n",
       "2017-02-28         17    147\n",
       "2017-03-31          7    143\n",
       "2017-04-30          3    150\n",
       "2017-05-31         10    146\n",
       "2017-06-30         12    208\n",
       "2017-07-31         16    242\n",
       "2017-08-31         17    256\n",
       "2017-09-30          1    174"
      ]
     },
     "execution_count": 391,
     "metadata": {},
     "output_type": "execute_result"
    }
   ],
   "source": [
    "fake_counts"
   ]
  },
  {
   "cell_type": "code",
   "execution_count": 392,
   "metadata": {
    "collapsed": true
   },
   "outputs": [],
   "source": [
    "fake_counts['proportion']=(fake_counts['fake_news'])/(fake_counts['total'])"
   ]
  },
  {
   "cell_type": "code",
   "execution_count": 393,
   "metadata": {
    "tags": [
     "student",
     "written"
    ]
   },
   "outputs": [
    {
     "data": {
      "text/markdown": [
       "\n",
       "\n",
       "An increasing proportion of his tweets were related to the denying of news during Trump‘s election.\n",
       "\n"
      ],
      "text/plain": [
       "<IPython.core.display.Markdown object>"
      ]
     },
     "metadata": {},
     "output_type": "display_data"
    },
    {
     "data": {
      "image/png": "[encoded data removed]",
      "text/plain": [
       "<matplotlib.figure.Figure at 0x10e68fb38>"
      ]
     },
     "metadata": {},
     "output_type": "display_data"
    }
   ],
   "source": [
    "# Create your plot here...\n",
    "\n",
    "fake_counts.loc[:,'proportion'].plot(label='proportion')\n",
    "plt.axvline(fake_counts.reset_index()['time'][4],color='r',linestyle='--')\n",
    "plt.axvline(fake_counts.reset_index()['time'][6],color='r',linestyle='--')\n",
    "plt.legend()\n",
    "# ...then write your takeaways here.\n",
    "fake_news_answer = '''\n",
    "\n",
    "An increasing proportion of his tweets were related to the denying of news during Trump‘s election.\n",
    "\n",
    "'''\n",
    "display(Markdown(fake_news_answer))"
   ]
  },
  {
   "cell_type": "markdown",
   "metadata": {},
   "source": [
    "## Submission\n",
    "\n",
    "Congrats, you just finished Project 1!\n",
    "\n",
    "Run the cell below to run all the OkPy tests at once:"
   ]
  },
  {
   "cell_type": "code",
   "execution_count": 394,
   "metadata": {
    "scrolled": false
   },
   "outputs": [
    {
     "name": "stdout",
     "output_type": "stream",
     "text": [
      "Running all tests...\n",
      "~~~~~~~~~~~~~~~~~~~~~~~~~~~~~~~~~~~~~~~~~~~~~~~~~~~~~~~~~~~~~~~~~~~~~\n",
      "Running tests\n",
      "\n",
      "---------------------------------------------------------------------\n",
      "Test summary\n",
      "    Passed: 1\n",
      "    Failed: 0\n",
      "[ooooooooook] 100.0% passed\n",
      "\n",
      "~~~~~~~~~~~~~~~~~~~~~~~~~~~~~~~~~~~~~~~~~~~~~~~~~~~~~~~~~~~~~~~~~~~~~\n",
      "Running tests\n",
      "\n",
      "---------------------------------------------------------------------\n",
      "Test summary\n",
      "    Passed: 1\n",
      "    Failed: 0\n",
      "[ooooooooook] 100.0% passed\n",
      "\n",
      "~~~~~~~~~~~~~~~~~~~~~~~~~~~~~~~~~~~~~~~~~~~~~~~~~~~~~~~~~~~~~~~~~~~~~\n",
      "Running tests\n",
      "\n",
      "---------------------------------------------------------------------\n",
      "Test summary\n",
      "    Passed: 1\n",
      "    Failed: 0\n",
      "[ooooooooook] 100.0% passed\n",
      "\n",
      "~~~~~~~~~~~~~~~~~~~~~~~~~~~~~~~~~~~~~~~~~~~~~~~~~~~~~~~~~~~~~~~~~~~~~\n",
      "Running tests\n",
      "\n",
      "---------------------------------------------------------------------\n",
      "Test summary\n",
      "    Passed: 1\n",
      "    Failed: 0\n",
      "[ooooooooook] 100.0% passed\n",
      "\n",
      "~~~~~~~~~~~~~~~~~~~~~~~~~~~~~~~~~~~~~~~~~~~~~~~~~~~~~~~~~~~~~~~~~~~~~\n",
      "Running tests\n",
      "\n",
      "---------------------------------------------------------------------\n",
      "Test summary\n",
      "    Passed: 1\n",
      "    Failed: 0\n",
      "[ooooooooook] 100.0% passed\n",
      "\n",
      "~~~~~~~~~~~~~~~~~~~~~~~~~~~~~~~~~~~~~~~~~~~~~~~~~~~~~~~~~~~~~~~~~~~~~\n",
      "Running tests\n",
      "\n",
      "---------------------------------------------------------------------\n",
      "Test summary\n",
      "    Passed: 1\n",
      "    Failed: 0\n",
      "[ooooooooook] 100.0% passed\n",
      "\n",
      "~~~~~~~~~~~~~~~~~~~~~~~~~~~~~~~~~~~~~~~~~~~~~~~~~~~~~~~~~~~~~~~~~~~~~\n",
      "Running tests\n",
      "\n",
      "---------------------------------------------------------------------\n",
      "Test summary\n",
      "    Passed: 1\n",
      "    Failed: 0\n",
      "[ooooooooook] 100.0% passed\n",
      "\n",
      "~~~~~~~~~~~~~~~~~~~~~~~~~~~~~~~~~~~~~~~~~~~~~~~~~~~~~~~~~~~~~~~~~~~~~\n",
      "Running tests\n",
      "\n",
      "---------------------------------------------------------------------\n",
      "Test summary\n",
      "    Passed: 1\n",
      "    Failed: 0\n",
      "[ooooooooook] 100.0% passed\n",
      "\n",
      "~~~~~~~~~~~~~~~~~~~~~~~~~~~~~~~~~~~~~~~~~~~~~~~~~~~~~~~~~~~~~~~~~~~~~\n",
      "Running tests\n",
      "\n",
      "---------------------------------------------------------------------\n",
      "Test summary\n",
      "    Passed: 1\n",
      "    Failed: 0\n",
      "[ooooooooook] 100.0% passed\n",
      "\n",
      "~~~~~~~~~~~~~~~~~~~~~~~~~~~~~~~~~~~~~~~~~~~~~~~~~~~~~~~~~~~~~~~~~~~~~\n",
      "Running tests\n",
      "\n",
      "---------------------------------------------------------------------\n",
      "Test summary\n",
      "    Passed: 1\n",
      "    Failed: 0\n",
      "[ooooooooook] 100.0% passed\n",
      "\n",
      "~~~~~~~~~~~~~~~~~~~~~~~~~~~~~~~~~~~~~~~~~~~~~~~~~~~~~~~~~~~~~~~~~~~~~\n",
      "Running tests\n",
      "\n",
      "---------------------------------------------------------------------\n",
      "Test summary\n",
      "    Passed: 1\n",
      "    Failed: 0\n",
      "[ooooooooook] 100.0% passed\n",
      "\n"
     ]
    }
   ],
   "source": [
    "import os\n",
    "print(\"Running all tests...\")\n",
    "_ = [ok.grade(q[:-3]) for q in os.listdir(\"ok_tests\") if q.startswith('q')]"
   ]
  },
  {
   "cell_type": "markdown",
   "metadata": {},
   "source": [
    "Now, run the cell below to submit your assignment to OkPy. The autograder should email you shortly with your autograded score. The autograder will only run once every 30 minutes.\n",
    "\n",
    "**If you're failing tests on the autograder but pass them locally**, you should simulate the autograder by doing the following:\n",
    "\n",
    "1. In the top menu, click Kernel -> Restart and Run all.\n",
    "2. Run the cell above to run each OkPy test.\n",
    "\n",
    "**You must make sure that you pass all the tests when running steps 1 and 2 in order.** If you are still failing autograder tests, you should double check your results."
   ]
  },
  {
   "cell_type": "code",
   "execution_count": 395,
   "metadata": {},
   "outputs": [
    {
     "data": {
      "application/javascript": [
       "IPython.notebook.save_checkpoint();"
      ],
      "text/plain": [
       "<IPython.core.display.Javascript object>"
      ]
     },
     "metadata": {},
     "output_type": "display_data"
    },
    {
     "data": {
      "application/javascript": [
       "IPython.notebook.save_notebook();"
      ],
      "text/plain": [
       "<IPython.core.display.Javascript object>"
      ]
     },
     "metadata": {},
     "output_type": "display_data"
    },
    {
     "name": "stdout",
     "output_type": "stream",
     "text": [
      "Saving notebook... Saved 'proj1.ipynb'.\n",
      "Submit... 100% complete\n",
      "Submission successful for user: yining.jiang@berkeley.edu\n",
      "URL: https://okpy.org/cal/ds100/fa17/proj1_part1/submissions/wpLQ5g\n",
      "NOTE: this is only a backup. To submit your assignment, use:\n",
      "\tpython3 ok --submit\n",
      "\n"
     ]
    }
   ],
   "source": [
    "_ = ok.submit()"
   ]
  },
  {
   "cell_type": "code",
   "execution_count": null,
   "metadata": {
    "collapsed": true
   },
   "outputs": [],
   "source": []
  }
 ],
 "metadata": {
  "kernelspec": {
   "display_name": "Python 3",
   "language": "python",
   "name": "python3"
  },
  "language_info": {
   "codemirror_mode": {
    "name": "ipython",
    "version": 3
   },
   "file_extension": ".py",
   "mimetype": "text/x-python",
   "name": "python",
   "nbconvert_exporter": "python",
   "pygments_lexer": "ipython3",
   "version": "3.6.1"
  }
 },
 "nbformat": 4,
 "nbformat_minor": 2
}
