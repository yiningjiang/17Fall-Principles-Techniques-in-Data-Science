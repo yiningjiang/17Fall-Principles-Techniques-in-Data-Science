{
 "cells": [
  {
   "cell_type": "markdown",
   "metadata": {},
   "source": [
    "# Lab 13: Scraping and Parsing Data \n",
    "\n",
    "In this lab, you will get exposure to some basic tools for manipulating hierarchical data structures pulled from the web."
   ]
  },
  {
   "cell_type": "code",
   "execution_count": 4,
   "metadata": {},
   "outputs": [
    {
     "name": "stdout",
     "output_type": "stream",
     "text": [
      "=====================================================================\n",
      "Assignment: Lab 13\n",
      "OK, version v1.13.9\n",
      "=====================================================================\n",
      "\n"
     ]
    }
   ],
   "source": [
    "# Run this cell to set up your notebook\n",
    "import pandas as pd\n",
    "import matplotlib.pyplot as plt\n",
    "%matplotlib inline\n",
    "\n",
    "from IPython.display import display, Latex, Markdown, HTML, Javascript\n",
    "from client.api.notebook import Notebook\n",
    "ok = Notebook('lab13.ok')"
   ]
  },
  {
   "cell_type": "code",
   "execution_count": 6,
   "metadata": {},
   "outputs": [
    {
     "name": "stdout",
     "output_type": "stream",
     "text": [
      "Successfully logged in as yining.jiang@berkeley.edu\n"
     ]
    }
   ],
   "source": [
    "# Log into OkPy.\n",
    "# You might need to change this to ok.auth(force=True) if you get an error\n",
    "ok.auth()"
   ]
  },
  {
   "cell_type": "markdown",
   "metadata": {},
   "source": [
    "## Question 1\n",
    "\n",
    "The standard-library module `ElementTree XML` supports some of the key capabilities of an XPath selector. See the [documentation](https://docs.python.org/2/library/xml.etree.elementtree.html#supported-xpath-syntax) for a refresher on the syntax. In this question we work with a string containing mock XML data to get practice with writing XPath expressions."
   ]
  },
  {
   "cell_type": "code",
   "execution_count": 7,
   "metadata": {},
   "outputs": [
    {
     "data": {
      "text/plain": [
       "'Bloodroot'"
      ]
     },
     "execution_count": 7,
     "metadata": {},
     "output_type": "execute_result"
    }
   ],
   "source": [
    "import xml.etree.ElementTree as ET\n",
    "\n",
    "# string containing XML data\n",
    "plantData = '''\n",
    "<CATALOG YEAR=\"2017\">\n",
    "    <PLANT>\n",
    "        <COMMON>Bloodroot</COMMON>\n",
    "        <BOTANICAL>Sanguinaria canadensis</BOTANICAL>\n",
    "        <ZONE>4</ZONE>\n",
    "        <LIGHT>Mostly Shady</LIGHT>\n",
    "        <PRICE CURRENCY=\"dollar\">2.44</PRICE>\n",
    "        <AVAILABILITY>031599</AVAILABILITY>\n",
    "    </PLANT>\n",
    "    <PLANT>\n",
    "        <COMMON>Columbine</COMMON>\n",
    "        <BOTANICAL>Aquilegia canadensis</BOTANICAL>\n",
    "        <ZONE>3</ZONE>\n",
    "        <LIGHT>Mostly Shady</LIGHT>\n",
    "        <PRICE CURRENCY=\"dollar\">9.37</PRICE>\n",
    "        <AVAILABILITY>030699</AVAILABILITY>\n",
    "    </PLANT>\n",
    "    <PLANT>\n",
    "        <COMMON>Goatsbeard</COMMON>\n",
    "        <BOTANICAL>Tragopogon porrifolius</BOTANICAL>\n",
    "        <ZONE>4</ZONE>\n",
    "        <LIGHT>Full Shade</LIGHT>\n",
    "        <PRICE CURRENCY=\"euro\">6.31</PRICE>\n",
    "        <AVAILABILITY>080399</AVAILABILITY>\n",
    "    </PLANT>\n",
    "</CATALOG>'''\n",
    "\n",
    "# parse the data into an ElementTree\n",
    "tree1 = ET.fromstring(plantData)\n",
    "\n",
    "# find the common name of the first plant \n",
    "# in the catalog needing mostly shade\n",
    "commonName = tree1.findall(\"./PLANT[LIGHT='Mostly Shady']/COMMON\")[0]\n",
    "commonName.text"
   ]
  },
  {
   "cell_type": "markdown",
   "metadata": {},
   "source": [
    "### Question 1a\n",
    "\n",
    "Find all the botanical names of every plant in the catalog."
   ]
  },
  {
   "cell_type": "code",
   "execution_count": 23,
   "metadata": {
    "tags": [
     "student"
    ]
   },
   "outputs": [
    {
     "data": {
      "text/plain": [
       "['Sanguinaria canadensis', 'Aquilegia canadensis', 'Tragopogon porrifolius']"
      ]
     },
     "execution_count": 23,
     "metadata": {},
     "output_type": "execute_result"
    }
   ],
   "source": [
    "botanicalNames = [tree1.findall(\"./PLANT/BOTANICAL\")[0].text,tree1.findall(\"./PLANT/BOTANICAL\")[1].text,tree1.findall(\"./PLANT/BOTANICAL\")[2].text]\n",
    "botanicalNames"
   ]
  },
  {
   "cell_type": "code",
   "execution_count": 24,
   "metadata": {
    "tags": [
     "test",
     "q01a"
    ]
   },
   "outputs": [
    {
     "name": "stdout",
     "output_type": "stream",
     "text": [
      "~~~~~~~~~~~~~~~~~~~~~~~~~~~~~~~~~~~~~~~~~~~~~~~~~~~~~~~~~~~~~~~~~~~~~\n",
      "Running tests\n",
      "\n",
      "---------------------------------------------------------------------\n",
      "Test summary\n",
      "    Passed: 1\n",
      "    Failed: 0\n",
      "[ooooooooook] 100.0% passed\n",
      "\n"
     ]
    },
    {
     "data": {
      "application/javascript": [
       "IPython.notebook.save_checkpoint();"
      ],
      "text/plain": [
       "<IPython.core.display.Javascript object>"
      ]
     },
     "metadata": {},
     "output_type": "display_data"
    },
    {
     "data": {
      "application/javascript": [
       "IPython.notebook.save_notebook();"
      ],
      "text/plain": [
       "<IPython.core.display.Javascript object>"
      ]
     },
     "metadata": {},
     "output_type": "display_data"
    },
    {
     "name": "stdout",
     "output_type": "stream",
     "text": [
      "Saving notebook... Saved 'lab13.ipynb'.\n",
      "Backup... 100% complete\n",
      "Backup successful for user: yining.jiang@berkeley.edu\n",
      "URL: https://okpy.org/cal/ds100/fa17/lab13/backups/qj2WJG\n",
      "NOTE: this is only a backup. To submit your assignment, use:\n",
      "\tpython3 ok --submit\n",
      "\n"
     ]
    }
   ],
   "source": [
    "_ = ok.grade('q01a')\n",
    "_ = ok.backup()"
   ]
  },
  {
   "cell_type": "markdown",
   "metadata": {},
   "source": [
    "### Question 1b\n",
    "\n",
    "Find all the common names of every plant in zone 4."
   ]
  },
  {
   "cell_type": "code",
   "execution_count": 25,
   "metadata": {
    "tags": [
     "student"
    ]
   },
   "outputs": [],
   "source": [
    "commonNamesZone4 = [tree1.findall(\"./PLANT[ZONE='4']/COMMON\")[0].text,tree1.findall(\"./PLANT[ZONE='4']/COMMON\")[1].text]"
   ]
  },
  {
   "cell_type": "code",
   "execution_count": 26,
   "metadata": {},
   "outputs": [
    {
     "data": {
      "text/plain": [
       "'Bloodroot'"
      ]
     },
     "execution_count": 26,
     "metadata": {},
     "output_type": "execute_result"
    }
   ],
   "source": [
    "tree1.findall(\"./PLANT[ZONE='4']/COMMON\")[0].text"
   ]
  },
  {
   "cell_type": "code",
   "execution_count": 27,
   "metadata": {
    "tags": [
     "test",
     "q01b"
    ]
   },
   "outputs": [
    {
     "name": "stdout",
     "output_type": "stream",
     "text": [
      "~~~~~~~~~~~~~~~~~~~~~~~~~~~~~~~~~~~~~~~~~~~~~~~~~~~~~~~~~~~~~~~~~~~~~\n",
      "Running tests\n",
      "\n",
      "---------------------------------------------------------------------\n",
      "Test summary\n",
      "    Passed: 1\n",
      "    Failed: 0\n",
      "[ooooooooook] 100.0% passed\n",
      "\n"
     ]
    },
    {
     "data": {
      "application/javascript": [
       "IPython.notebook.save_checkpoint();"
      ],
      "text/plain": [
       "<IPython.core.display.Javascript object>"
      ]
     },
     "metadata": {},
     "output_type": "display_data"
    },
    {
     "data": {
      "application/javascript": [
       "IPython.notebook.save_notebook();"
      ],
      "text/plain": [
       "<IPython.core.display.Javascript object>"
      ]
     },
     "metadata": {},
     "output_type": "display_data"
    },
    {
     "name": "stdout",
     "output_type": "stream",
     "text": [
      "Saving notebook... Saved 'lab13.ipynb'.\n",
      "Backup... 100% complete\n",
      "Backup successful for user: yining.jiang@berkeley.edu\n",
      "URL: https://okpy.org/cal/ds100/fa17/lab13/backups/wjk6PM\n",
      "NOTE: this is only a backup. To submit your assignment, use:\n",
      "\tpython3 ok --submit\n",
      "\n"
     ]
    }
   ],
   "source": [
    "_ = ok.grade('q01b')\n",
    "_ = ok.backup()"
   ]
  },
  {
   "cell_type": "markdown",
   "metadata": {},
   "source": [
    "### Question 1c\n",
    "\n",
    "Find the price of every plant that is listed in dollars (your answer should be a list of *floats*)."
   ]
  },
  {
   "cell_type": "code",
   "execution_count": null,
   "metadata": {
    "collapsed": true,
    "tags": [
     "student"
    ]
   },
   "outputs": [],
   "source": [
    "priceInDollars = ..."
   ]
  },
  {
   "cell_type": "code",
   "execution_count": null,
   "metadata": {
    "collapsed": true,
    "tags": [
     "test",
     "q01c"
    ]
   },
   "outputs": [],
   "source": [
    "_ = ok.grade('q01c')\n",
    "_ = ok.backup()"
   ]
  },
  {
   "cell_type": "markdown",
   "metadata": {},
   "source": [
    "## Question 2\n",
    "\n",
    "We can use the `lxml` module for richer and more efficient processing of XML. The syntax for XPath queries is comparable to `ElementTree XML`, except we use `tree.xpath` instead of `tree.findall`. For example, here is how we recover the `commonName` from Question 1:"
   ]
  },
  {
   "cell_type": "code",
   "execution_count": 28,
   "metadata": {},
   "outputs": [
    {
     "data": {
      "text/plain": [
       "'Bloodroot'"
      ]
     },
     "execution_count": 28,
     "metadata": {},
     "output_type": "execute_result"
    }
   ],
   "source": [
    "from lxml import etree\n",
    "\n",
    "# parse the data string\n",
    "tree_example = etree.fromstring(plantData)\n",
    "\n",
    "# find the common name of the first plant \n",
    "# in the catalog needing mostly shade\n",
    "commonName = tree_example.xpath(\"./PLANT[LIGHT='Mostly Shady']/COMMON/text()\")[0]\n",
    "commonName"
   ]
  },
  {
   "cell_type": "markdown",
   "metadata": {},
   "source": [
    "### Question 2a\n",
    "\n",
    "XPath expressions for parsing html become complicated quickly. Below we collect the html for the wikipedia page on [Lists of Lists of Lists](https://en.wikipedia.org/wiki/List_of_lists_of_lists). The [Chrome web browser](https://www.google.com/chrome/browser/desktop/index.html) allows you to inspect any html element on the page (*N.B. other browsers usually allow you to inspect element as well, but you may have to change your preferences or look up how to do it*). A sidebar pops up on the right side of the browser, and you can right click the element of interest to copy a path. See the image below to walk through the two steps:\n",
    "\n",
    "\n",
    "\n",
    "<img src=\"copypathfull.png\" alt=\"getting XPath expression from browser\"> \n",
    "\n",
    "\n",
    "\n",
    "Write or get an XPath expression `expr` that will return the *Lists of unsolved problems* element. Note that we can then get the corresponding link with `tree.xpath(expr)[0].get(\"href\")`."
   ]
  },
  {
   "cell_type": "code",
   "execution_count": 37,
   "metadata": {
    "tags": [
     "student"
    ]
   },
   "outputs": [],
   "source": [
    "import requests\n",
    "from lxml import html\n",
    "\n",
    "page = requests.get('https://en.wikipedia.org/wiki/List_of_lists_of_lists')\n",
    "tree2 = html.fromstring(page.content)\n",
    "#''\n",
    "expr ='//*[@id=\"mw-content-text\"]/div/ul[1]/li[3]/a'"
   ]
  },
  {
   "cell_type": "code",
   "execution_count": 38,
   "metadata": {
    "tags": [
     "test",
     "q02a"
    ]
   },
   "outputs": [
    {
     "name": "stdout",
     "output_type": "stream",
     "text": [
      "~~~~~~~~~~~~~~~~~~~~~~~~~~~~~~~~~~~~~~~~~~~~~~~~~~~~~~~~~~~~~~~~~~~~~\n",
      "Running tests\n",
      "\n",
      "---------------------------------------------------------------------\n",
      "Test summary\n",
      "    Passed: 1\n",
      "    Failed: 0\n",
      "[ooooooooook] 100.0% passed\n",
      "\n"
     ]
    },
    {
     "data": {
      "application/javascript": [
       "IPython.notebook.save_checkpoint();"
      ],
      "text/plain": [
       "<IPython.core.display.Javascript object>"
      ]
     },
     "metadata": {},
     "output_type": "display_data"
    },
    {
     "data": {
      "application/javascript": [
       "IPython.notebook.save_notebook();"
      ],
      "text/plain": [
       "<IPython.core.display.Javascript object>"
      ]
     },
     "metadata": {},
     "output_type": "display_data"
    },
    {
     "name": "stdout",
     "output_type": "stream",
     "text": [
      "Saving notebook... Saved 'lab13.ipynb'.\n",
      "Backup... 100% complete\n",
      "Backup successful for user: yining.jiang@berkeley.edu\n",
      "URL: https://okpy.org/cal/ds100/fa17/lab13/backups/X6MBmA\n",
      "NOTE: this is only a backup. To submit your assignment, use:\n",
      "\tpython3 ok --submit\n",
      "\n"
     ]
    }
   ],
   "source": [
    "_ = ok.grade('q02a')\n",
    "_ = ok.backup()"
   ]
  },
  {
   "cell_type": "markdown",
   "metadata": {},
   "source": [
    "### Question 2b\n",
    "\n",
    "Below we collect the html for the wikipedia page on [List of female Olympic gymnastics medalists](https://en.wikipedia.org/wiki/List_of_Olympic_medalists_in_gymnastics_%28women%29). Write an XPath expression that `expr` such that `tree.xpath(expr)` returns a list of all of the female Olympic medalists in gymnastics. **Hint:** You can get an expression that is very close by using \"inspect element\" as in question 2a."
   ]
  },
  {
   "cell_type": "code",
   "execution_count": null,
   "metadata": {
    "collapsed": true,
    "tags": [
     "student"
    ]
   },
   "outputs": [],
   "source": [
    "page = requests.get('https://en.wikipedia.org/wiki/List_of_Olympic_medalists_in_gymnastics_(women)')\n",
    "tree2 = html.fromstring(page.content)\n",
    "\n",
    "# write XPath expression here\n",
    "expr = ''\n",
    "medalists = tree2.xpath(expr)"
   ]
  },
  {
   "cell_type": "markdown",
   "metadata": {},
   "source": [
    "### Question 2c\n",
    "\n",
    "Create a dictionary or series called `medalCounts` counting the number of Olympic medals for each gymnast. How many Olympic medals does Simone Biles have? Does your finding agree with her [wikipedia page](https://en.wikipedia.org/wiki/Simone_Biles)?"
   ]
  },
  {
   "cell_type": "code",
   "execution_count": null,
   "metadata": {
    "collapsed": true,
    "tags": [
     "student"
    ]
   },
   "outputs": [],
   "source": [
    "medalCounts = ..."
   ]
  },
  {
   "cell_type": "code",
   "execution_count": null,
   "metadata": {
    "collapsed": true,
    "tags": [
     "test",
     "q02c"
    ]
   },
   "outputs": [],
   "source": [
    "_ = ok.grade('q02c')\n",
    "_ = ok.backup()"
   ]
  },
  {
   "cell_type": "markdown",
   "metadata": {},
   "source": [
    "## Question 3\n",
    "\n",
    "We will use the `lxml` module to read exchange rates (against the euro) from the European Central Bank and create a time series plot showing how the rates for four different currencies–the British pound (GBP), the US dollar (USD), the Canadian dollar (CAD), and the Japanese yen (JPY)–have changed over time.\n",
    "\n",
    "Before jumping to the code portion, visit this URL: [European Central Bank XML Format](http://www.ecb.europa.eu/stats/eurofxref/eurofxref-daily.xml?167971e0f5d2192a5dc29404b0261986).\n",
    "\n",
    "This URL provides an example of the structure of the XML document with the exchange rates. Where do you see the currency and rate? What about the time? How deep is the tree?\n",
    "\n",
    "\n",
    "### Question 3a\n",
    "\n",
    "The above link provides the daily conversion rates. Below we provide the `url` of the recorded history, over 4,800 days. Read in the XML file using `etree`."
   ]
  },
  {
   "cell_type": "code",
   "execution_count": null,
   "metadata": {
    "collapsed": true,
    "tags": [
     "student"
    ]
   },
   "outputs": [],
   "source": [
    "# backup link: http://www.stat.berkeley.edu/~nolan/data/ECB2016.xml\n",
    "url  = 'http://www.ecb.europa.eu/stats/eurofxref/eurofxref-hist.xml'\n",
    "tree3 = ...\n",
    "\n",
    "print(tree3.tag)"
   ]
  },
  {
   "cell_type": "code",
   "execution_count": null,
   "metadata": {
    "collapsed": true,
    "tags": [
     "test",
     "q03a"
    ]
   },
   "outputs": [],
   "source": [
    "_ = ok.grade('q03a')\n",
    "_ = ok.backup()"
   ]
  },
  {
   "cell_type": "markdown",
   "metadata": {},
   "source": [
    "### Question 3b\n",
    "\n",
    "Notice that the `Envelope` tag comes with a link in brackets {...}. If you look back at the URL at the start of this question, the `Envelope` tag has an attribute called `xmlns`. This refers to the *namespace*, an unique identifier for the element. The namespace in this case is a reference to `gesmes`, an international standard for the exchange of time series information. Here is how we specify the namespace of an element in XPath:"
   ]
  },
  {
   "cell_type": "code",
   "execution_count": null,
   "metadata": {
    "collapsed": true
   },
   "outputs": [],
   "source": [
    "rates = tree3.xpath('.//x:Cube[@currency = \"GBP\"]/@rate', \n",
    "                   namespaces = {'x':'http://www.ecb.int/vocabulary/2002-08-01/eurofxref'})"
   ]
  },
  {
   "cell_type": "markdown",
   "metadata": {},
   "source": [
    "The result of `rates` contains a list the daily exchange rates for British Pounds to Euros. Write an XPath query to get the list of dates. It should be return a list of the same length as `rates`."
   ]
  },
  {
   "cell_type": "code",
   "execution_count": null,
   "metadata": {
    "collapsed": true,
    "tags": [
     "student"
    ]
   },
   "outputs": [],
   "source": [
    "dates = ..."
   ]
  },
  {
   "cell_type": "code",
   "execution_count": null,
   "metadata": {
    "collapsed": true,
    "tags": [
     "test",
     "q03b"
    ]
   },
   "outputs": [],
   "source": [
    "_ = ok.grade('q03b')\n",
    "_ = ok.backup()"
   ]
  },
  {
   "cell_type": "markdown",
   "metadata": {},
   "source": [
    "### Question 3c\n",
    "\n",
    "Plot the exchange rate for three currencies---GBP, USD, and CAD---over time."
   ]
  },
  {
   "cell_type": "code",
   "execution_count": null,
   "metadata": {
    "collapsed": true,
    "tags": [
     "student"
    ]
   },
   "outputs": [],
   "source": [
    "# make plot here!"
   ]
  },
  {
   "cell_type": "markdown",
   "metadata": {},
   "source": [
    "## Submission\n",
    "\n",
    "Run the cell below to run all the OkPy tests at once:"
   ]
  },
  {
   "cell_type": "code",
   "execution_count": null,
   "metadata": {
    "collapsed": true
   },
   "outputs": [],
   "source": [
    "import os\n",
    "print(\"Running all tests...\")\n",
    "_ = ok.grade_all()"
   ]
  },
  {
   "cell_type": "markdown",
   "metadata": {},
   "source": [
    "Now, run the cell below to submit your assignment to OkPy. The autograder should email you shortly with your autograded score. The autograder will only run once every 30 minutes.\n",
    "\n",
    "**If you're failing tests on the autograder but pass them locally**, you should simulate the autograder by doing the following:\n",
    "\n",
    "1. In the top menu, click Kernel -> Restart and Run all.\n",
    "2. Run the cell above to run each OkPy test.\n",
    "\n",
    "**You must make sure that you pass all the tests when running steps 1 and 2 in order.** If you are still failing autograder tests, you should double check your results."
   ]
  },
  {
   "cell_type": "code",
   "execution_count": null,
   "metadata": {
    "collapsed": true
   },
   "outputs": [],
   "source": [
    "_ = ok.submit()"
   ]
  },
  {
   "cell_type": "markdown",
   "metadata": {},
   "source": [
    "Now, run this cell to create a PDF to upload to Gradescope."
   ]
  },
  {
   "cell_type": "code",
   "execution_count": null,
   "metadata": {
    "collapsed": true,
    "tags": [
     "student",
     "no-ok"
    ]
   },
   "outputs": [],
   "source": [
    "!pip install -U gs100\n",
    "from gs100 import convert\n",
    "# If your output font size is small, increase the zoom argument. Setting zoom=2\n",
    "# makes everything twice as big.\n",
    "convert('lab13.ipynb', zoom=1)"
   ]
  },
  {
   "cell_type": "markdown",
   "metadata": {},
   "source": [
    "Make sure to upload your PDF now. Otherwise, your written questions won't be graded."
   ]
  }
 ],
 "metadata": {
  "kernelspec": {
   "display_name": "Python 3",
   "language": "python",
   "name": "python3"
  },
  "language_info": {
   "codemirror_mode": {
    "name": "ipython",
    "version": 3
   },
   "file_extension": ".py",
   "mimetype": "text/x-python",
   "name": "python",
   "nbconvert_exporter": "python",
   "pygments_lexer": "ipython3",
   "version": "3.6.1"
  }
 },
 "nbformat": 4,
 "nbformat_minor": 2
}
