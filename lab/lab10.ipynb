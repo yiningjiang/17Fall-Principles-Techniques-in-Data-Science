{
 "cells": [
  {
   "cell_type": "markdown",
   "metadata": {},
   "source": [
    "# Lab 10: Introduction to Least Squares Regression and the Normal Equations\n",
    "\n",
    "\n",
    "In this lab you will implement the normal equations to estimate the parameters of a least squares regression model.  This lab will also help prepare you for the homework this week."
   ]
  },
  {
   "cell_type": "code",
   "execution_count": 1,
   "metadata": {},
   "outputs": [
    {
     "name": "stdout",
     "output_type": "stream",
     "text": [
      "=====================================================================\n",
      "Assignment: lab10\n",
      "OK, version v1.13.9\n",
      "=====================================================================\n",
      "\n"
     ]
    }
   ],
   "source": [
    "# Run this cell to set up your notebook\n",
    "import numpy as np\n",
    "import pandas as pd\n",
    "import seaborn as sns\n",
    "import matplotlib.pyplot as plt\n",
    "\n",
    "%matplotlib notebook\n",
    "\n",
    "from client.api.notebook import Notebook\n",
    "ok = Notebook('lab10.ok')"
   ]
  },
  {
   "cell_type": "code",
   "execution_count": 2,
   "metadata": {
    "collapsed": true
   },
   "outputs": [],
   "source": [
    "np.set_printoptions(16)\n",
    "# For instructor use only. Call this function to force refresh okpy tests\n",
    "def refresh():\n",
    "    import sys\n",
    "    keys = [k for k in sys.modules.keys() if 'ok_tests' in k]\n",
    "    for k in keys:\n",
    "        del sys.modules[k]\n",
    "    global ok\n",
    "    ok = Notebook('lab09.ok')"
   ]
  },
  {
   "cell_type": "code",
   "execution_count": 4,
   "metadata": {},
   "outputs": [
    {
     "name": "stdout",
     "output_type": "stream",
     "text": [
      "\n",
      "Open the following URL:\n",
      "\n",
      "https://okpy.org/client/login/\n",
      "\n",
      "After logging in, copy the code from the web page and paste it into the box.\n",
      "Then press the \"Enter\" key on your keyboard.\n",
      "\n",
      "Paste your code here: 3PRWsVvkcH2F4SVE7SLILswr9Y8iKd\n",
      "Successfully logged in as yining.jiang@berkeley.edu\n"
     ]
    }
   ],
   "source": [
    "ok.auth(force=True) # Change False to True if you are getting errors authenticating"
   ]
  },
  {
   "cell_type": "markdown",
   "metadata": {},
   "source": [
    "### Creating the Data\n",
    "\n",
    "Before we implement least squares linear regression in the cloud, let's first try implementing it within this notebook.\n",
    "\n",
    "The following code downloads and plots a small toy dataset."
   ]
  },
  {
   "cell_type": "code",
   "execution_count": 5,
   "metadata": {
    "collapsed": true
   },
   "outputs": [],
   "source": [
    "n = 100\n",
    "p = 2\n",
    "theta_true = np.array([-2.2, 1.0])\n",
    "intercept = 4.0 \n",
    "np.random.seed(42)\n",
    "X = np.random.rand(n, p)*2.0 - 1.0\n",
    "Y =  X @ theta_true + intercept + np.random.randn(n) * 0.2 "
   ]
  },
  {
   "cell_type": "markdown",
   "metadata": {},
   "source": [
    "Take the following plot for a spin (literally).  Drag across the plot to spin it. Notice that we added the origin in red."
   ]
  },
  {
   "cell_type": "code",
   "execution_count": 6,
   "metadata": {},
   "outputs": [
    {
     "data": {
      "application/javascript": [
       "/* Put everything inside the global mpl namespace */\n",
       "window.mpl = {};\n",
       "\n",
       "\n",
       "mpl.get_websocket_type = function() {\n",
       "    if (typeof(WebSocket) !== 'undefined') {\n",
       "        return WebSocket;\n",
       "    } else if (typeof(MozWebSocket) !== 'undefined') {\n",
       "        return MozWebSocket;\n",
       "    } else {\n",
       "        alert('Your browser does not have WebSocket support.' +\n",
       "              'Please try Chrome, Safari or Firefox ≥ 6. ' +\n",
       "              'Firefox 4 and 5 are also supported but you ' +\n",
       "              'have to enable WebSockets in about:config.');\n",
       "    };\n",
       "}\n",
       "\n",
       "mpl.figure = function(figure_id, websocket, ondownload, parent_element) {\n",
       "    this.id = figure_id;\n",
       "\n",
       "    this.ws = websocket;\n",
       "\n",
       "    this.supports_binary = (this.ws.binaryType != undefined);\n",
       "\n",
       "    if (!this.supports_binary) {\n",
       "        var warnings = document.getElementById(\"mpl-warnings\");\n",
       "        if (warnings) {\n",
       "            warnings.style.display = 'block';\n",
       "            warnings.textContent = (\n",
       "                \"This browser does not support binary websocket messages. \" +\n",
       "                    \"Performance may be slow.\");\n",
       "        }\n",
       "    }\n",
       "\n",
       "    this.imageObj = new Image();\n",
       "\n",
       "    this.context = undefined;\n",
       "    this.message = undefined;\n",
       "    this.canvas = undefined;\n",
       "    this.rubberband_canvas = undefined;\n",
       "    this.rubberband_context = undefined;\n",
       "    this.format_dropdown = undefined;\n",
       "\n",
       "    this.image_mode = 'full';\n",
       "\n",
       "    this.root = $('<div/>');\n",
       "    this._root_extra_style(this.root)\n",
       "    this.root.attr('style', 'display: inline-block');\n",
       "\n",
       "    $(parent_element).append(this.root);\n",
       "\n",
       "    this._init_header(this);\n",
       "    this._init_canvas(this);\n",
       "    this._init_toolbar(this);\n",
       "\n",
       "    var fig = this;\n",
       "\n",
       "    this.waiting = false;\n",
       "\n",
       "    this.ws.onopen =  function () {\n",
       "            fig.send_message(\"supports_binary\", {value: fig.supports_binary});\n",
       "            fig.send_message(\"send_image_mode\", {});\n",
       "            if (mpl.ratio != 1) {\n",
       "                fig.send_message(\"set_dpi_ratio\", {'dpi_ratio': mpl.ratio});\n",
       "            }\n",
       "            fig.send_message(\"refresh\", {});\n",
       "        }\n",
       "\n",
       "    this.imageObj.onload = function() {\n",
       "            if (fig.image_mode == 'full') {\n",
       "                // Full images could contain transparency (where diff images\n",
       "                // almost always do), so we need to clear the canvas so that\n",
       "                // there is no ghosting.\n",
       "                fig.context.clearRect(0, 0, fig.canvas.width, fig.canvas.height);\n",
       "            }\n",
       "            fig.context.drawImage(fig.imageObj, 0, 0);\n",
       "        };\n",
       "\n",
       "    this.imageObj.onunload = function() {\n",
       "        this.ws.close();\n",
       "    }\n",
       "\n",
       "    this.ws.onmessage = this._make_on_message_function(this);\n",
       "\n",
       "    this.ondownload = ondownload;\n",
       "}\n",
       "\n",
       "mpl.figure.prototype._init_header = function() {\n",
       "    var titlebar = $(\n",
       "        '<div class=\"ui-dialog-titlebar ui-widget-header ui-corner-all ' +\n",
       "        'ui-helper-clearfix\"/>');\n",
       "    var titletext = $(\n",
       "        '<div class=\"ui-dialog-title\" style=\"width: 100%; ' +\n",
       "        'text-align: center; padding: 3px;\"/>');\n",
       "    titlebar.append(titletext)\n",
       "    this.root.append(titlebar);\n",
       "    this.header = titletext[0];\n",
       "}\n",
       "\n",
       "\n",
       "\n",
       "mpl.figure.prototype._canvas_extra_style = function(canvas_div) {\n",
       "\n",
       "}\n",
       "\n",
       "\n",
       "mpl.figure.prototype._root_extra_style = function(canvas_div) {\n",
       "\n",
       "}\n",
       "\n",
       "mpl.figure.prototype._init_canvas = function() {\n",
       "    var fig = this;\n",
       "\n",
       "    var canvas_div = $('<div/>');\n",
       "\n",
       "    canvas_div.attr('style', 'position: relative; clear: both; outline: 0');\n",
       "\n",
       "    function canvas_keyboard_event(event) {\n",
       "        return fig.key_event(event, event['data']);\n",
       "    }\n",
       "\n",
       "    canvas_div.keydown('key_press', canvas_keyboard_event);\n",
       "    canvas_div.keyup('key_release', canvas_keyboard_event);\n",
       "    this.canvas_div = canvas_div\n",
       "    this._canvas_extra_style(canvas_div)\n",
       "    this.root.append(canvas_div);\n",
       "\n",
       "    var canvas = $('<canvas/>');\n",
       "    canvas.addClass('mpl-canvas');\n",
       "    canvas.attr('style', \"left: 0; top: 0; z-index: 0; outline: 0\")\n",
       "\n",
       "    this.canvas = canvas[0];\n",
       "    this.context = canvas[0].getContext(\"2d\");\n",
       "\n",
       "    var backingStore = this.context.backingStorePixelRatio ||\n",
       "\tthis.context.webkitBackingStorePixelRatio ||\n",
       "\tthis.context.mozBackingStorePixelRatio ||\n",
       "\tthis.context.msBackingStorePixelRatio ||\n",
       "\tthis.context.oBackingStorePixelRatio ||\n",
       "\tthis.context.backingStorePixelRatio || 1;\n",
       "\n",
       "    mpl.ratio = (window.devicePixelRatio || 1) / backingStore;\n",
       "\n",
       "    var rubberband = $('<canvas/>');\n",
       "    rubberband.attr('style', \"position: absolute; left: 0; top: 0; z-index: 1;\")\n",
       "\n",
       "    var pass_mouse_events = true;\n",
       "\n",
       "    canvas_div.resizable({\n",
       "        start: function(event, ui) {\n",
       "            pass_mouse_events = false;\n",
       "        },\n",
       "        resize: function(event, ui) {\n",
       "            fig.request_resize(ui.size.width, ui.size.height);\n",
       "        },\n",
       "        stop: function(event, ui) {\n",
       "            pass_mouse_events = true;\n",
       "            fig.request_resize(ui.size.width, ui.size.height);\n",
       "        },\n",
       "    });\n",
       "\n",
       "    function mouse_event_fn(event) {\n",
       "        if (pass_mouse_events)\n",
       "            return fig.mouse_event(event, event['data']);\n",
       "    }\n",
       "\n",
       "    rubberband.mousedown('button_press', mouse_event_fn);\n",
       "    rubberband.mouseup('button_release', mouse_event_fn);\n",
       "    // Throttle sequential mouse events to 1 every 20ms.\n",
       "    rubberband.mousemove('motion_notify', mouse_event_fn);\n",
       "\n",
       "    rubberband.mouseenter('figure_enter', mouse_event_fn);\n",
       "    rubberband.mouseleave('figure_leave', mouse_event_fn);\n",
       "\n",
       "    canvas_div.on(\"wheel\", function (event) {\n",
       "        event = event.originalEvent;\n",
       "        event['data'] = 'scroll'\n",
       "        if (event.deltaY < 0) {\n",
       "            event.step = 1;\n",
       "        } else {\n",
       "            event.step = -1;\n",
       "        }\n",
       "        mouse_event_fn(event);\n",
       "    });\n",
       "\n",
       "    canvas_div.append(canvas);\n",
       "    canvas_div.append(rubberband);\n",
       "\n",
       "    this.rubberband = rubberband;\n",
       "    this.rubberband_canvas = rubberband[0];\n",
       "    this.rubberband_context = rubberband[0].getContext(\"2d\");\n",
       "    this.rubberband_context.strokeStyle = \"#000000\";\n",
       "\n",
       "    this._resize_canvas = function(width, height) {\n",
       "        // Keep the size of the canvas, canvas container, and rubber band\n",
       "        // canvas in synch.\n",
       "        canvas_div.css('width', width)\n",
       "        canvas_div.css('height', height)\n",
       "\n",
       "        canvas.attr('width', width * mpl.ratio);\n",
       "        canvas.attr('height', height * mpl.ratio);\n",
       "        canvas.attr('style', 'width: ' + width + 'px; height: ' + height + 'px;');\n",
       "\n",
       "        rubberband.attr('width', width);\n",
       "        rubberband.attr('height', height);\n",
       "    }\n",
       "\n",
       "    // Set the figure to an initial 600x600px, this will subsequently be updated\n",
       "    // upon first draw.\n",
       "    this._resize_canvas(600, 600);\n",
       "\n",
       "    // Disable right mouse context menu.\n",
       "    $(this.rubberband_canvas).bind(\"contextmenu\",function(e){\n",
       "        return false;\n",
       "    });\n",
       "\n",
       "    function set_focus () {\n",
       "        canvas.focus();\n",
       "        canvas_div.focus();\n",
       "    }\n",
       "\n",
       "    window.setTimeout(set_focus, 100);\n",
       "}\n",
       "\n",
       "mpl.figure.prototype._init_toolbar = function() {\n",
       "    var fig = this;\n",
       "\n",
       "    var nav_element = $('<div/>')\n",
       "    nav_element.attr('style', 'width: 100%');\n",
       "    this.root.append(nav_element);\n",
       "\n",
       "    // Define a callback function for later on.\n",
       "    function toolbar_event(event) {\n",
       "        return fig.toolbar_button_onclick(event['data']);\n",
       "    }\n",
       "    function toolbar_mouse_event(event) {\n",
       "        return fig.toolbar_button_onmouseover(event['data']);\n",
       "    }\n",
       "\n",
       "    for(var toolbar_ind in mpl.toolbar_items) {\n",
       "        var name = mpl.toolbar_items[toolbar_ind][0];\n",
       "        var tooltip = mpl.toolbar_items[toolbar_ind][1];\n",
       "        var image = mpl.toolbar_items[toolbar_ind][2];\n",
       "        var method_name = mpl.toolbar_items[toolbar_ind][3];\n",
       "\n",
       "        if (!name) {\n",
       "            // put a spacer in here.\n",
       "            continue;\n",
       "        }\n",
       "        var button = $('<button/>');\n",
       "        button.addClass('ui-button ui-widget ui-state-default ui-corner-all ' +\n",
       "                        'ui-button-icon-only');\n",
       "        button.attr('role', 'button');\n",
       "        button.attr('aria-disabled', 'false');\n",
       "        button.click(method_name, toolbar_event);\n",
       "        button.mouseover(tooltip, toolbar_mouse_event);\n",
       "\n",
       "        var icon_img = $('<span/>');\n",
       "        icon_img.addClass('ui-button-icon-primary ui-icon');\n",
       "        icon_img.addClass(image);\n",
       "        icon_img.addClass('ui-corner-all');\n",
       "\n",
       "        var tooltip_span = $('<span/>');\n",
       "        tooltip_span.addClass('ui-button-text');\n",
       "        tooltip_span.html(tooltip);\n",
       "\n",
       "        button.append(icon_img);\n",
       "        button.append(tooltip_span);\n",
       "\n",
       "        nav_element.append(button);\n",
       "    }\n",
       "\n",
       "    var fmt_picker_span = $('<span/>');\n",
       "\n",
       "    var fmt_picker = $('<select/>');\n",
       "    fmt_picker.addClass('mpl-toolbar-option ui-widget ui-widget-content');\n",
       "    fmt_picker_span.append(fmt_picker);\n",
       "    nav_element.append(fmt_picker_span);\n",
       "    this.format_dropdown = fmt_picker[0];\n",
       "\n",
       "    for (var ind in mpl.extensions) {\n",
       "        var fmt = mpl.extensions[ind];\n",
       "        var option = $(\n",
       "            '<option/>', {selected: fmt === mpl.default_extension}).html(fmt);\n",
       "        fmt_picker.append(option)\n",
       "    }\n",
       "\n",
       "    // Add hover states to the ui-buttons\n",
       "    $( \".ui-button\" ).hover(\n",
       "        function() { $(this).addClass(\"ui-state-hover\");},\n",
       "        function() { $(this).removeClass(\"ui-state-hover\");}\n",
       "    );\n",
       "\n",
       "    var status_bar = $('<span class=\"mpl-message\"/>');\n",
       "    nav_element.append(status_bar);\n",
       "    this.message = status_bar[0];\n",
       "}\n",
       "\n",
       "mpl.figure.prototype.request_resize = function(x_pixels, y_pixels) {\n",
       "    // Request matplotlib to resize the figure. Matplotlib will then trigger a resize in the client,\n",
       "    // which will in turn request a refresh of the image.\n",
       "    this.send_message('resize', {'width': x_pixels, 'height': y_pixels});\n",
       "}\n",
       "\n",
       "mpl.figure.prototype.send_message = function(type, properties) {\n",
       "    properties['type'] = type;\n",
       "    properties['figure_id'] = this.id;\n",
       "    this.ws.send(JSON.stringify(properties));\n",
       "}\n",
       "\n",
       "mpl.figure.prototype.send_draw_message = function() {\n",
       "    if (!this.waiting) {\n",
       "        this.waiting = true;\n",
       "        this.ws.send(JSON.stringify({type: \"draw\", figure_id: this.id}));\n",
       "    }\n",
       "}\n",
       "\n",
       "\n",
       "mpl.figure.prototype.handle_save = function(fig, msg) {\n",
       "    var format_dropdown = fig.format_dropdown;\n",
       "    var format = format_dropdown.options[format_dropdown.selectedIndex].value;\n",
       "    fig.ondownload(fig, format);\n",
       "}\n",
       "\n",
       "\n",
       "mpl.figure.prototype.handle_resize = function(fig, msg) {\n",
       "    var size = msg['size'];\n",
       "    if (size[0] != fig.canvas.width || size[1] != fig.canvas.height) {\n",
       "        fig._resize_canvas(size[0], size[1]);\n",
       "        fig.send_message(\"refresh\", {});\n",
       "    };\n",
       "}\n",
       "\n",
       "mpl.figure.prototype.handle_rubberband = function(fig, msg) {\n",
       "    var x0 = msg['x0'] / mpl.ratio;\n",
       "    var y0 = (fig.canvas.height - msg['y0']) / mpl.ratio;\n",
       "    var x1 = msg['x1'] / mpl.ratio;\n",
       "    var y1 = (fig.canvas.height - msg['y1']) / mpl.ratio;\n",
       "    x0 = Math.floor(x0) + 0.5;\n",
       "    y0 = Math.floor(y0) + 0.5;\n",
       "    x1 = Math.floor(x1) + 0.5;\n",
       "    y1 = Math.floor(y1) + 0.5;\n",
       "    var min_x = Math.min(x0, x1);\n",
       "    var min_y = Math.min(y0, y1);\n",
       "    var width = Math.abs(x1 - x0);\n",
       "    var height = Math.abs(y1 - y0);\n",
       "\n",
       "    fig.rubberband_context.clearRect(\n",
       "        0, 0, fig.canvas.width, fig.canvas.height);\n",
       "\n",
       "    fig.rubberband_context.strokeRect(min_x, min_y, width, height);\n",
       "}\n",
       "\n",
       "mpl.figure.prototype.handle_figure_label = function(fig, msg) {\n",
       "    // Updates the figure title.\n",
       "    fig.header.textContent = msg['label'];\n",
       "}\n",
       "\n",
       "mpl.figure.prototype.handle_cursor = function(fig, msg) {\n",
       "    var cursor = msg['cursor'];\n",
       "    switch(cursor)\n",
       "    {\n",
       "    case 0:\n",
       "        cursor = 'pointer';\n",
       "        break;\n",
       "    case 1:\n",
       "        cursor = 'default';\n",
       "        break;\n",
       "    case 2:\n",
       "        cursor = 'crosshair';\n",
       "        break;\n",
       "    case 3:\n",
       "        cursor = 'move';\n",
       "        break;\n",
       "    }\n",
       "    fig.rubberband_canvas.style.cursor = cursor;\n",
       "}\n",
       "\n",
       "mpl.figure.prototype.handle_message = function(fig, msg) {\n",
       "    fig.message.textContent = msg['message'];\n",
       "}\n",
       "\n",
       "mpl.figure.prototype.handle_draw = function(fig, msg) {\n",
       "    // Request the server to send over a new figure.\n",
       "    fig.send_draw_message();\n",
       "}\n",
       "\n",
       "mpl.figure.prototype.handle_image_mode = function(fig, msg) {\n",
       "    fig.image_mode = msg['mode'];\n",
       "}\n",
       "\n",
       "mpl.figure.prototype.updated_canvas_event = function() {\n",
       "    // Called whenever the canvas gets updated.\n",
       "    this.send_message(\"ack\", {});\n",
       "}\n",
       "\n",
       "// A function to construct a web socket function for onmessage handling.\n",
       "// Called in the figure constructor.\n",
       "mpl.figure.prototype._make_on_message_function = function(fig) {\n",
       "    return function socket_on_message(evt) {\n",
       "        if (evt.data instanceof Blob) {\n",
       "            /* FIXME: We get \"Resource interpreted as Image but\n",
       "             * transferred with MIME type text/plain:\" errors on\n",
       "             * Chrome.  But how to set the MIME type?  It doesn't seem\n",
       "             * to be part of the websocket stream */\n",
       "            evt.data.type = \"image/png\";\n",
       "\n",
       "            /* Free the memory for the previous frames */\n",
       "            if (fig.imageObj.src) {\n",
       "                (window.URL || window.webkitURL).revokeObjectURL(\n",
       "                    fig.imageObj.src);\n",
       "            }\n",
       "\n",
       "            fig.imageObj.src = (window.URL || window.webkitURL).createObjectURL(\n",
       "                evt.data);\n",
       "            fig.updated_canvas_event();\n",
       "            fig.waiting = false;\n",
       "            return;\n",
       "        }\n",
       "        else if (typeof evt.data === 'string' && evt.data.slice(0, 21) == \"data:image/png;base64\") {\n",
       "            fig.imageObj.src = evt.data;\n",
       "            fig.updated_canvas_event();\n",
       "            fig.waiting = false;\n",
       "            return;\n",
       "        }\n",
       "\n",
       "        var msg = JSON.parse(evt.data);\n",
       "        var msg_type = msg['type'];\n",
       "\n",
       "        // Call the  \"handle_{type}\" callback, which takes\n",
       "        // the figure and JSON message as its only arguments.\n",
       "        try {\n",
       "            var callback = fig[\"handle_\" + msg_type];\n",
       "        } catch (e) {\n",
       "            console.log(\"No handler for the '\" + msg_type + \"' message type: \", msg);\n",
       "            return;\n",
       "        }\n",
       "\n",
       "        if (callback) {\n",
       "            try {\n",
       "                // console.log(\"Handling '\" + msg_type + \"' message: \", msg);\n",
       "                callback(fig, msg);\n",
       "            } catch (e) {\n",
       "                console.log(\"Exception inside the 'handler_\" + msg_type + \"' callback:\", e, e.stack, msg);\n",
       "            }\n",
       "        }\n",
       "    };\n",
       "}\n",
       "\n",
       "// from http://stackoverflow.com/questions/1114465/getting-mouse-location-in-canvas\n",
       "mpl.findpos = function(e) {\n",
       "    //this section is from http://www.quirksmode.org/js/events_properties.html\n",
       "    var targ;\n",
       "    if (!e)\n",
       "        e = window.event;\n",
       "    if (e.target)\n",
       "        targ = e.target;\n",
       "    else if (e.srcElement)\n",
       "        targ = e.srcElement;\n",
       "    if (targ.nodeType == 3) // defeat Safari bug\n",
       "        targ = targ.parentNode;\n",
       "\n",
       "    // jQuery normalizes the pageX and pageY\n",
       "    // pageX,Y are the mouse positions relative to the document\n",
       "    // offset() returns the position of the element relative to the document\n",
       "    var x = e.pageX - $(targ).offset().left;\n",
       "    var y = e.pageY - $(targ).offset().top;\n",
       "\n",
       "    return {\"x\": x, \"y\": y};\n",
       "};\n",
       "\n",
       "/*\n",
       " * return a copy of an object with only non-object keys\n",
       " * we need this to avoid circular references\n",
       " * http://stackoverflow.com/a/24161582/3208463\n",
       " */\n",
       "function simpleKeys (original) {\n",
       "  return Object.keys(original).reduce(function (obj, key) {\n",
       "    if (typeof original[key] !== 'object')\n",
       "        obj[key] = original[key]\n",
       "    return obj;\n",
       "  }, {});\n",
       "}\n",
       "\n",
       "mpl.figure.prototype.mouse_event = function(event, name) {\n",
       "    var canvas_pos = mpl.findpos(event)\n",
       "\n",
       "    if (name === 'button_press')\n",
       "    {\n",
       "        this.canvas.focus();\n",
       "        this.canvas_div.focus();\n",
       "    }\n",
       "\n",
       "    var x = canvas_pos.x * mpl.ratio;\n",
       "    var y = canvas_pos.y * mpl.ratio;\n",
       "\n",
       "    this.send_message(name, {x: x, y: y, button: event.button,\n",
       "                             step: event.step,\n",
       "                             guiEvent: simpleKeys(event)});\n",
       "\n",
       "    /* This prevents the web browser from automatically changing to\n",
       "     * the text insertion cursor when the button is pressed.  We want\n",
       "     * to control all of the cursor setting manually through the\n",
       "     * 'cursor' event from matplotlib */\n",
       "    event.preventDefault();\n",
       "    return false;\n",
       "}\n",
       "\n",
       "mpl.figure.prototype._key_event_extra = function(event, name) {\n",
       "    // Handle any extra behaviour associated with a key event\n",
       "}\n",
       "\n",
       "mpl.figure.prototype.key_event = function(event, name) {\n",
       "\n",
       "    // Prevent repeat events\n",
       "    if (name == 'key_press')\n",
       "    {\n",
       "        if (event.which === this._key)\n",
       "            return;\n",
       "        else\n",
       "            this._key = event.which;\n",
       "    }\n",
       "    if (name == 'key_release')\n",
       "        this._key = null;\n",
       "\n",
       "    var value = '';\n",
       "    if (event.ctrlKey && event.which != 17)\n",
       "        value += \"ctrl+\";\n",
       "    if (event.altKey && event.which != 18)\n",
       "        value += \"alt+\";\n",
       "    if (event.shiftKey && event.which != 16)\n",
       "        value += \"shift+\";\n",
       "\n",
       "    value += 'k';\n",
       "    value += event.which.toString();\n",
       "\n",
       "    this._key_event_extra(event, name);\n",
       "\n",
       "    this.send_message(name, {key: value,\n",
       "                             guiEvent: simpleKeys(event)});\n",
       "    return false;\n",
       "}\n",
       "\n",
       "mpl.figure.prototype.toolbar_button_onclick = function(name) {\n",
       "    if (name == 'download') {\n",
       "        this.handle_save(this, null);\n",
       "    } else {\n",
       "        this.send_message(\"toolbar_button\", {name: name});\n",
       "    }\n",
       "};\n",
       "\n",
       "mpl.figure.prototype.toolbar_button_onmouseover = function(tooltip) {\n",
       "    this.message.textContent = tooltip;\n",
       "};\n",
       "mpl.toolbar_items = [[\"Home\", \"Reset original view\", \"fa fa-home icon-home\", \"home\"], [\"Back\", \"Back to  previous view\", \"fa fa-arrow-left icon-arrow-left\", \"back\"], [\"Forward\", \"Forward to next view\", \"fa fa-arrow-right icon-arrow-right\", \"forward\"], [\"\", \"\", \"\", \"\"], [\"Pan\", \"Pan axes with left mouse, zoom with right\", \"fa fa-arrows icon-move\", \"pan\"], [\"Zoom\", \"Zoom to rectangle\", \"fa fa-square-o icon-check-empty\", \"zoom\"], [\"\", \"\", \"\", \"\"], [\"Download\", \"Download plot\", \"fa fa-floppy-o icon-save\", \"download\"]];\n",
       "\n",
       "mpl.extensions = [\"eps\", \"jpeg\", \"pdf\", \"png\", \"ps\", \"raw\", \"svg\", \"tif\"];\n",
       "\n",
       "mpl.default_extension = \"png\";var comm_websocket_adapter = function(comm) {\n",
       "    // Create a \"websocket\"-like object which calls the given IPython comm\n",
       "    // object with the appropriate methods. Currently this is a non binary\n",
       "    // socket, so there is still some room for performance tuning.\n",
       "    var ws = {};\n",
       "\n",
       "    ws.close = function() {\n",
       "        comm.close()\n",
       "    };\n",
       "    ws.send = function(m) {\n",
       "        //console.log('sending', m);\n",
       "        comm.send(m);\n",
       "    };\n",
       "    // Register the callback with on_msg.\n",
       "    comm.on_msg(function(msg) {\n",
       "        //console.log('receiving', msg['content']['data'], msg);\n",
       "        // Pass the mpl event to the overriden (by mpl) onmessage function.\n",
       "        ws.onmessage(msg['content']['data'])\n",
       "    });\n",
       "    return ws;\n",
       "}\n",
       "\n",
       "mpl.mpl_figure_comm = function(comm, msg) {\n",
       "    // This is the function which gets called when the mpl process\n",
       "    // starts-up an IPython Comm through the \"matplotlib\" channel.\n",
       "\n",
       "    var id = msg.content.data.id;\n",
       "    // Get hold of the div created by the display call when the Comm\n",
       "    // socket was opened in Python.\n",
       "    var element = $(\"#\" + id);\n",
       "    var ws_proxy = comm_websocket_adapter(comm)\n",
       "\n",
       "    function ondownload(figure, format) {\n",
       "        window.open(figure.imageObj.src);\n",
       "    }\n",
       "\n",
       "    var fig = new mpl.figure(id, ws_proxy,\n",
       "                           ondownload,\n",
       "                           element.get(0));\n",
       "\n",
       "    // Call onopen now - mpl needs it, as it is assuming we've passed it a real\n",
       "    // web socket which is closed, not our websocket->open comm proxy.\n",
       "    ws_proxy.onopen();\n",
       "\n",
       "    fig.parent_element = element.get(0);\n",
       "    fig.cell_info = mpl.find_output_cell(\"<div id='\" + id + \"'></div>\");\n",
       "    if (!fig.cell_info) {\n",
       "        console.error(\"Failed to find cell for figure\", id, fig);\n",
       "        return;\n",
       "    }\n",
       "\n",
       "    var output_index = fig.cell_info[2]\n",
       "    var cell = fig.cell_info[0];\n",
       "\n",
       "};\n",
       "\n",
       "mpl.figure.prototype.handle_close = function(fig, msg) {\n",
       "    var width = fig.canvas.width/mpl.ratio\n",
       "    fig.root.unbind('remove')\n",
       "\n",
       "    // Update the output cell to use the data from the current canvas.\n",
       "    fig.push_to_output();\n",
       "    var dataURL = fig.canvas.toDataURL();\n",
       "    // Re-enable the keyboard manager in IPython - without this line, in FF,\n",
       "    // the notebook keyboard shortcuts fail.\n",
       "    IPython.keyboard_manager.enable()\n",
       "    $(fig.parent_element).html('<img src=\"' + dataURL + '\" width=\"' + width + '\">');\n",
       "    fig.close_ws(fig, msg);\n",
       "}\n",
       "\n",
       "mpl.figure.prototype.close_ws = function(fig, msg){\n",
       "    fig.send_message('closing', msg);\n",
       "    // fig.ws.close()\n",
       "}\n",
       "\n",
       "mpl.figure.prototype.push_to_output = function(remove_interactive) {\n",
       "    // Turn the data on the canvas into data in the output cell.\n",
       "    var width = this.canvas.width/mpl.ratio\n",
       "    var dataURL = this.canvas.toDataURL();\n",
       "    this.cell_info[1]['text/html'] = '<img src=\"' + dataURL + '\" width=\"' + width + '\">';\n",
       "}\n",
       "\n",
       "mpl.figure.prototype.updated_canvas_event = function() {\n",
       "    // Tell IPython that the notebook contents must change.\n",
       "    IPython.notebook.set_dirty(true);\n",
       "    this.send_message(\"ack\", {});\n",
       "    var fig = this;\n",
       "    // Wait a second, then push the new image to the DOM so\n",
       "    // that it is saved nicely (might be nice to debounce this).\n",
       "    setTimeout(function () { fig.push_to_output() }, 1000);\n",
       "}\n",
       "\n",
       "mpl.figure.prototype._init_toolbar = function() {\n",
       "    var fig = this;\n",
       "\n",
       "    var nav_element = $('<div/>')\n",
       "    nav_element.attr('style', 'width: 100%');\n",
       "    this.root.append(nav_element);\n",
       "\n",
       "    // Define a callback function for later on.\n",
       "    function toolbar_event(event) {\n",
       "        return fig.toolbar_button_onclick(event['data']);\n",
       "    }\n",
       "    function toolbar_mouse_event(event) {\n",
       "        return fig.toolbar_button_onmouseover(event['data']);\n",
       "    }\n",
       "\n",
       "    for(var toolbar_ind in mpl.toolbar_items){\n",
       "        var name = mpl.toolbar_items[toolbar_ind][0];\n",
       "        var tooltip = mpl.toolbar_items[toolbar_ind][1];\n",
       "        var image = mpl.toolbar_items[toolbar_ind][2];\n",
       "        var method_name = mpl.toolbar_items[toolbar_ind][3];\n",
       "\n",
       "        if (!name) { continue; };\n",
       "\n",
       "        var button = $('<button class=\"btn btn-default\" href=\"#\" title=\"' + name + '\"><i class=\"fa ' + image + ' fa-lg\"></i></button>');\n",
       "        button.click(method_name, toolbar_event);\n",
       "        button.mouseover(tooltip, toolbar_mouse_event);\n",
       "        nav_element.append(button);\n",
       "    }\n",
       "\n",
       "    // Add the status bar.\n",
       "    var status_bar = $('<span class=\"mpl-message\" style=\"text-align:right; float: right;\"/>');\n",
       "    nav_element.append(status_bar);\n",
       "    this.message = status_bar[0];\n",
       "\n",
       "    // Add the close button to the window.\n",
       "    var buttongrp = $('<div class=\"btn-group inline pull-right\"></div>');\n",
       "    var button = $('<button class=\"btn btn-mini btn-primary\" href=\"#\" title=\"Stop Interaction\"><i class=\"fa fa-power-off icon-remove icon-large\"></i></button>');\n",
       "    button.click(function (evt) { fig.handle_close(fig, {}); } );\n",
       "    button.mouseover('Stop Interaction', toolbar_mouse_event);\n",
       "    buttongrp.append(button);\n",
       "    var titlebar = this.root.find($('.ui-dialog-titlebar'));\n",
       "    titlebar.prepend(buttongrp);\n",
       "}\n",
       "\n",
       "mpl.figure.prototype._root_extra_style = function(el){\n",
       "    var fig = this\n",
       "    el.on(\"remove\", function(){\n",
       "\tfig.close_ws(fig, {});\n",
       "    });\n",
       "}\n",
       "\n",
       "mpl.figure.prototype._canvas_extra_style = function(el){\n",
       "    // this is important to make the div 'focusable\n",
       "    el.attr('tabindex', 0)\n",
       "    // reach out to IPython and tell the keyboard manager to turn it's self\n",
       "    // off when our div gets focus\n",
       "\n",
       "    // location in version 3\n",
       "    if (IPython.notebook.keyboard_manager) {\n",
       "        IPython.notebook.keyboard_manager.register_events(el);\n",
       "    }\n",
       "    else {\n",
       "        // location in version 2\n",
       "        IPython.keyboard_manager.register_events(el);\n",
       "    }\n",
       "\n",
       "}\n",
       "\n",
       "mpl.figure.prototype._key_event_extra = function(event, name) {\n",
       "    var manager = IPython.notebook.keyboard_manager;\n",
       "    if (!manager)\n",
       "        manager = IPython.keyboard_manager;\n",
       "\n",
       "    // Check for shift+enter\n",
       "    if (event.shiftKey && event.which == 13) {\n",
       "        this.canvas_div.blur();\n",
       "        // select the cell after this one\n",
       "        var index = IPython.notebook.find_cell_index(this.cell_info[0]);\n",
       "        IPython.notebook.select(index + 1);\n",
       "    }\n",
       "}\n",
       "\n",
       "mpl.figure.prototype.handle_save = function(fig, msg) {\n",
       "    fig.ondownload(fig, null);\n",
       "}\n",
       "\n",
       "\n",
       "mpl.find_output_cell = function(html_output) {\n",
       "    // Return the cell and output element which can be found *uniquely* in the notebook.\n",
       "    // Note - this is a bit hacky, but it is done because the \"notebook_saving.Notebook\"\n",
       "    // IPython event is triggered only after the cells have been serialised, which for\n",
       "    // our purposes (turning an active figure into a static one), is too late.\n",
       "    var cells = IPython.notebook.get_cells();\n",
       "    var ncells = cells.length;\n",
       "    for (var i=0; i<ncells; i++) {\n",
       "        var cell = cells[i];\n",
       "        if (cell.cell_type === 'code'){\n",
       "            for (var j=0; j<cell.output_area.outputs.length; j++) {\n",
       "                var data = cell.output_area.outputs[j];\n",
       "                if (data.data) {\n",
       "                    // IPython >= 3 moved mimebundle to data attribute of output\n",
       "                    data = data.data;\n",
       "                }\n",
       "                if (data['text/html'] == html_output) {\n",
       "                    return [cell, data, j];\n",
       "                }\n",
       "            }\n",
       "        }\n",
       "    }\n",
       "}\n",
       "\n",
       "// Register the function which deals with the matplotlib target/channel.\n",
       "// The kernel may be null if the page has been refreshed.\n",
       "if (IPython.notebook.kernel != null) {\n",
       "    IPython.notebook.kernel.comm_manager.register_target('matplotlib', mpl.mpl_figure_comm);\n",
       "}\n"
      ],
      "text/plain": [
       "<IPython.core.display.Javascript object>"
      ]
     },
     "metadata": {},
     "output_type": "display_data"
    },
    {
     "data": {
      "text/html": [
       "<img src=\"data:image/png;base64,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\" width=\"640\">"
      ],
      "text/plain": [
       "<IPython.core.display.HTML object>"
      ]
     },
     "metadata": {},
     "output_type": "display_data"
    },
    {
     "data": {
      "text/plain": [
       "<mpl_toolkits.mplot3d.art3d.Path3DCollection at 0x11b54acf8>"
      ]
     },
     "execution_count": 6,
     "metadata": {},
     "output_type": "execute_result"
    }
   ],
   "source": [
    "from mpl_toolkits.mplot3d import Axes3D\n",
    "fig = plt.figure(1)\n",
    "ax = fig.add_subplot(111, projection='3d')\n",
    "ax.scatter(X[:,0], X[:,1], Y)\n",
    "# Added the origin \n",
    "ax.scatter([0],[0],[0], \"o\", color='red')"
   ]
  },
  {
   "cell_type": "markdown",
   "metadata": {},
   "source": [
    "## Question 1\n",
    "\n",
    "Recall from class that when we solve the normal equations we obtain the following estimate for our linear model:\n",
    "\n",
    "$$\n",
    "\\hat{\\theta{}} = (X^T X)^{-1} (X^T y)\n",
    "$$\n",
    "\n",
    "Complete the following function to compute the parameter estimate $\\hat{\\theta{}}$:"
   ]
  },
  {
   "cell_type": "code",
   "execution_count": 13,
   "metadata": {
    "collapsed": true,
    "tags": [
     "student"
    ]
   },
   "outputs": [],
   "source": [
    "def least_squares_est(X, Y):\n",
    "    \"\"\"\n",
    "    Solve the normal equations for the data X and Y.\n",
    "    \n",
    "        X: is the covariate matrix where each row is a record \n",
    "            and each column is a feature\n",
    "        Y: is a vector containing the response values\n",
    "    \n",
    "    \n",
    "    returns the solution to the normal equations\n",
    "        inv(X.T @ X) @ (X.T @ Y)\n",
    "    \n",
    "    \"\"\"\n",
    "    # Read the documentation on this function\n",
    "    from numpy.linalg import solve  \n",
    "    return solve(X.T @ X,X.T @ Y)\n",
    "    "
   ]
  },
  {
   "cell_type": "markdown",
   "metadata": {},
   "source": [
    "Let's look at our estimate for the model parameters:"
   ]
  },
  {
   "cell_type": "code",
   "execution_count": 14,
   "metadata": {},
   "outputs": [
    {
     "data": {
      "text/plain": [
       "array([-2.5883789105125623,  0.6953174687410614])"
      ]
     },
     "execution_count": 14,
     "metadata": {},
     "output_type": "execute_result"
    }
   ],
   "source": [
    "theta_hat = least_squares_est(X, Y)\n",
    "theta_hat"
   ]
  },
  {
   "cell_type": "code",
   "execution_count": 15,
   "metadata": {
    "tags": [
     "test",
     "q01"
    ]
   },
   "outputs": [
    {
     "name": "stdout",
     "output_type": "stream",
     "text": [
      "~~~~~~~~~~~~~~~~~~~~~~~~~~~~~~~~~~~~~~~~~~~~~~~~~~~~~~~~~~~~~~~~~~~~~\n",
      "Running tests\n",
      "\n",
      "---------------------------------------------------------------------\n",
      "Test summary\n",
      "    Passed: 1\n",
      "    Failed: 0\n",
      "[ooooooooook] 100.0% passed\n",
      "\n"
     ]
    },
    {
     "data": {
      "application/javascript": [
       "IPython.notebook.save_checkpoint();"
      ],
      "text/plain": [
       "<IPython.core.display.Javascript object>"
      ]
     },
     "metadata": {},
     "output_type": "display_data"
    },
    {
     "data": {
      "application/javascript": [
       "IPython.notebook.save_notebook();"
      ],
      "text/plain": [
       "<IPython.core.display.Javascript object>"
      ]
     },
     "metadata": {},
     "output_type": "display_data"
    },
    {
     "name": "stdout",
     "output_type": "stream",
     "text": [
      "Saving notebook... Saved 'lab10.ipynb'.\n",
      "Backup... 100% complete\n",
      "Backup successful for user: yining.jiang@berkeley.edu\n",
      "URL: https://okpy.org/cal/ds100/fa17/lab10/backups/jRG9Q5\n",
      "NOTE: this is only a backup. To submit your assignment, use:\n",
      "\tpython3 ok --submit\n",
      "\n"
     ]
    }
   ],
   "source": [
    "_ = ok.grade('q01')\n",
    "_ = ok.backup()"
   ]
  },
  {
   "cell_type": "markdown",
   "metadata": {},
   "source": [
    "## Question 2\n",
    "\n",
    "Let's compute the correlation coefficient:\n",
    "\n",
    "$$\n",
    "r(x,y) = \\frac{1}{n} \\sum_{i=1}^n \\frac{(x_i - \\bar{x})}{\\sigma_x}  * \n",
    "\\frac{(y_i - \\bar{y})}{\\sigma_y}\n",
    "$$\n",
    "\n",
    "where:\n",
    "\n",
    "$$\n",
    "\\sigma_x = \\sqrt{\\frac{1}{n}\\sum_{i=1}^n (x-\\bar{x})^2}\n",
    "$$\n",
    "\n",
    "and\n",
    "\n",
    "$$\n",
    "\\sigma_y = \\sqrt{\\frac{1}{n}\\sum_{i=1}^n (y-\\bar{y})^2}\n",
    "$$\n",
    "\n",
    "Complete the following function:"
   ]
  },
  {
   "cell_type": "code",
   "execution_count": 16,
   "metadata": {
    "collapsed": true,
    "tags": [
     "student"
    ]
   },
   "outputs": [],
   "source": [
    "def correlation(x, y):\n",
    "    \"\"\"\n",
    "    Compute the correlation between the vectors x and y.\n",
    "    \n",
    "        x: a 1-dimensional vector of length n\n",
    "        y: a 1-dimensional vector of length n\n",
    "        \n",
    "    return the correlation coefficient defined as above.\n",
    "    \"\"\"\n",
    "    return np.mean((x-np.mean(x))*(y-np.mean(y))/(np.std(x)*np.std(y)))"
   ]
  },
  {
   "cell_type": "code",
   "execution_count": 17,
   "metadata": {
    "tags": [
     "test",
     "q02"
    ]
   },
   "outputs": [
    {
     "name": "stdout",
     "output_type": "stream",
     "text": [
      "~~~~~~~~~~~~~~~~~~~~~~~~~~~~~~~~~~~~~~~~~~~~~~~~~~~~~~~~~~~~~~~~~~~~~\n",
      "Running tests\n",
      "\n",
      "---------------------------------------------------------------------\n",
      "Test summary\n",
      "    Passed: 1\n",
      "    Failed: 0\n",
      "[ooooooooook] 100.0% passed\n",
      "\n"
     ]
    },
    {
     "data": {
      "application/javascript": [
       "IPython.notebook.save_checkpoint();"
      ],
      "text/plain": [
       "<IPython.core.display.Javascript object>"
      ]
     },
     "metadata": {},
     "output_type": "display_data"
    },
    {
     "data": {
      "application/javascript": [
       "IPython.notebook.save_notebook();"
      ],
      "text/plain": [
       "<IPython.core.display.Javascript object>"
      ]
     },
     "metadata": {},
     "output_type": "display_data"
    },
    {
     "name": "stdout",
     "output_type": "stream",
     "text": [
      "Saving notebook... Saved 'lab10.ipynb'.\n",
      "Backup... 100% complete\n",
      "Backup successful for user: yining.jiang@berkeley.edu\n",
      "URL: https://okpy.org/cal/ds100/fa17/lab10/backups/R64VXE\n",
      "NOTE: this is only a backup. To submit your assignment, use:\n",
      "\tpython3 ok --submit\n",
      "\n"
     ]
    }
   ],
   "source": [
    "_ = ok.grade('q02')\n",
    "_ = ok.backup()"
   ]
  },
  {
   "cell_type": "markdown",
   "metadata": {},
   "source": [
    "In the following we compute the correlation coefficient for `X[:,0]` and `X[:,1]`"
   ]
  },
  {
   "cell_type": "code",
   "execution_count": 18,
   "metadata": {},
   "outputs": [
    {
     "data": {
      "text/plain": [
       "-0.90739849873602996"
      ]
     },
     "execution_count": 18,
     "metadata": {},
     "output_type": "execute_result"
    }
   ],
   "source": [
    "correlation(X[:,0], Y)\n"
   ]
  },
  {
   "cell_type": "code",
   "execution_count": 19,
   "metadata": {},
   "outputs": [
    {
     "data": {
      "text/plain": [
       "0.43225082378347557"
      ]
     },
     "execution_count": 19,
     "metadata": {},
     "output_type": "execute_result"
    }
   ],
   "source": [
    "correlation(X[:,1], Y)"
   ]
  },
  {
   "cell_type": "markdown",
   "metadata": {},
   "source": [
    "Which dimension has a stronger linear relationship?"
   ]
  },
  {
   "cell_type": "code",
   "execution_count": 20,
   "metadata": {
    "collapsed": true,
    "tags": [
     "student"
    ]
   },
   "outputs": [],
   "source": [
    "q2_text = r\"\"\"X[:,0]\"\"\""
   ]
  },
  {
   "cell_type": "markdown",
   "metadata": {},
   "source": [
    "## Question 3\n",
    "\n",
    "How well do we fit the data?  Let's examine our prediction error.  Finish the following function to compute the root mean squared error for a given theta:\n",
    "\n",
    "$$\n",
    "RMSE = \\sqrt{\\frac{1}{n} \\sum_{i=1}^n (\\theta^T X_{i,:} - Y_i)^2}\n",
    "$$"
   ]
  },
  {
   "cell_type": "code",
   "execution_count": 21,
   "metadata": {
    "collapsed": true,
    "tags": [
     "student"
    ]
   },
   "outputs": [],
   "source": [
    "def rmse(theta, X, Y):\n",
    "    \"\"\"\n",
    "    Compute the root mean squared error for the parameters theta\n",
    "    \n",
    "        theta: the estimated parameter vector\n",
    "        X: the n by p covariate matrix\n",
    "        Y: the n response values\n",
    "    \n",
    "    return the np.sqrt of the np.mean of X.dot(theta) - Y)^2 \n",
    "    \n",
    "    \"\"\"\n",
    "    return np.sqrt(np.mean((X.dot(theta) - Y)**2))"
   ]
  },
  {
   "cell_type": "code",
   "execution_count": 22,
   "metadata": {
    "tags": [
     "test",
     "q03"
    ]
   },
   "outputs": [
    {
     "name": "stdout",
     "output_type": "stream",
     "text": [
      "~~~~~~~~~~~~~~~~~~~~~~~~~~~~~~~~~~~~~~~~~~~~~~~~~~~~~~~~~~~~~~~~~~~~~\n",
      "Running tests\n",
      "\n",
      "---------------------------------------------------------------------\n",
      "Test summary\n",
      "    Passed: 1\n",
      "    Failed: 0\n",
      "[ooooooooook] 100.0% passed\n",
      "\n"
     ]
    },
    {
     "data": {
      "application/javascript": [
       "IPython.notebook.save_checkpoint();"
      ],
      "text/plain": [
       "<IPython.core.display.Javascript object>"
      ]
     },
     "metadata": {},
     "output_type": "display_data"
    },
    {
     "data": {
      "application/javascript": [
       "IPython.notebook.save_notebook();"
      ],
      "text/plain": [
       "<IPython.core.display.Javascript object>"
      ]
     },
     "metadata": {},
     "output_type": "display_data"
    },
    {
     "name": "stdout",
     "output_type": "stream",
     "text": [
      "Saving notebook... Saved 'lab10.ipynb'.\n",
      "Backup... 100% complete\n",
      "Backup successful for user: yining.jiang@berkeley.edu\n",
      "URL: https://okpy.org/cal/ds100/fa17/lab10/backups/n5M9jE\n",
      "NOTE: this is only a backup. To submit your assignment, use:\n",
      "\tpython3 ok --submit\n",
      "\n"
     ]
    }
   ],
   "source": [
    "_ = ok.grade('q03')\n",
    "_ = ok.backup()"
   ]
  },
  {
   "cell_type": "markdown",
   "metadata": {},
   "source": [
    "Examining the error in our estimate $\\hat{\\theta{}}$"
   ]
  },
  {
   "cell_type": "code",
   "execution_count": 23,
   "metadata": {},
   "outputs": [
    {
     "data": {
      "text/plain": [
       "4.0265834813515395"
      ]
     },
     "execution_count": 23,
     "metadata": {},
     "output_type": "execute_result"
    }
   ],
   "source": [
    "rmse(theta_true, X, Y)"
   ]
  },
  {
   "cell_type": "code",
   "execution_count": 24,
   "metadata": {},
   "outputs": [
    {
     "data": {
      "text/plain": [
       "4.0162493700650055"
      ]
     },
     "execution_count": 24,
     "metadata": {},
     "output_type": "execute_result"
    }
   ],
   "source": [
    "rmse(theta_hat, X, Y)"
   ]
  },
  {
   "cell_type": "markdown",
   "metadata": {},
   "source": [
    "Why might the estimator have a lower error than the true theta?"
   ]
  },
  {
   "cell_type": "code",
   "execution_count": null,
   "metadata": {
    "collapsed": true,
    "tags": [
     "student"
    ]
   },
   "outputs": [],
   "source": [
    "q3_text = r\"\"\"your answer\"\"\""
   ]
  },
  {
   "cell_type": "code",
   "execution_count": null,
   "metadata": {
    "collapsed": true
   },
   "outputs": [],
   "source": []
  },
  {
   "cell_type": "markdown",
   "metadata": {},
   "source": [
    "## Question 4\n",
    "\n",
    "Currently our model has the form:\n",
    "\n",
    "$$\n",
    "y = x_0  \\theta_0 + x_1 \\theta_1\n",
    "$$\n",
    "\n",
    "However we might want to add an additional intercept term:\n",
    "\n",
    "$$\n",
    "y = x_0  \\theta_0 + x_1 \\theta_1 + \\mathbf{\\theta_3}\n",
    "$$\n",
    "\n",
    "A common \"trick\" to add an extra constant term is to add an extra dimension (column) to our covariate matrix $X$:\n",
    "\n",
    "$$\n",
    "\\textbf{addConst}(X) = \n",
    "\\left(\n",
    "\\begin{matrix}\n",
    "X_{0,0} & X_{0,1} & \\color{red}{1.0} \\\\\n",
    "X_{1,0} & X_{1,1} & \\color{red}{1.0} \\\\\n",
    "\\ldots & \\ldots & \\ldots \\\\\n",
    "X_{n,0} & X_{n,1} & \\color{red}{1.0}\n",
    "\\end{matrix}\n",
    "\\right)\n",
    "$$\n",
    "\n",
    "Complete the following function.  You may want to use `np.hstack` and `np.ones((n,1))`.\n"
   ]
  },
  {
   "cell_type": "code",
   "execution_count": 25,
   "metadata": {
    "collapsed": true
   },
   "outputs": [],
   "source": [
    "np.hstack?"
   ]
  },
  {
   "cell_type": "code",
   "execution_count": 26,
   "metadata": {
    "collapsed": true,
    "tags": [
     "student"
    ]
   },
   "outputs": [],
   "source": [
    "def add_const(X):\n",
    "    \"\"\"\n",
    "    Add an extra column of 1.0 to n by p matrix.\n",
    "    \n",
    "        X: an n by p matrix\n",
    "        return: an n by (p+1) matrix with the last column \n",
    "            containing 1.0\n",
    "    \"\"\"\n",
    "    # Hint: use np.hstack\n",
    "    return np.hstack((X,np.ones((X.shape[0],1))))"
   ]
  },
  {
   "cell_type": "code",
   "execution_count": 27,
   "metadata": {
    "tags": [
     "test",
     "q04"
    ]
   },
   "outputs": [
    {
     "name": "stdout",
     "output_type": "stream",
     "text": [
      "~~~~~~~~~~~~~~~~~~~~~~~~~~~~~~~~~~~~~~~~~~~~~~~~~~~~~~~~~~~~~~~~~~~~~\n",
      "Running tests\n",
      "\n",
      "---------------------------------------------------------------------\n",
      "Test summary\n",
      "    Passed: 1\n",
      "    Failed: 0\n",
      "[ooooooooook] 100.0% passed\n",
      "\n"
     ]
    },
    {
     "data": {
      "application/javascript": [
       "IPython.notebook.save_checkpoint();"
      ],
      "text/plain": [
       "<IPython.core.display.Javascript object>"
      ]
     },
     "metadata": {},
     "output_type": "display_data"
    },
    {
     "data": {
      "application/javascript": [
       "IPython.notebook.save_notebook();"
      ],
      "text/plain": [
       "<IPython.core.display.Javascript object>"
      ]
     },
     "metadata": {},
     "output_type": "display_data"
    },
    {
     "name": "stdout",
     "output_type": "stream",
     "text": [
      "Saving notebook... Saved 'lab10.ipynb'.\n",
      "Backup... 100% complete\n",
      "Backup successful for user: yining.jiang@berkeley.edu\n",
      "URL: https://okpy.org/cal/ds100/fa17/lab10/backups/YEk942\n",
      "NOTE: this is only a backup. To submit your assignment, use:\n",
      "\tpython3 ok --submit\n",
      "\n"
     ]
    }
   ],
   "source": [
    "_ = ok.grade('q04')\n",
    "_ = ok.backup()"
   ]
  },
  {
   "cell_type": "markdown",
   "metadata": {},
   "source": [
    "## Question 5\n",
    "\n",
    "Use the above code to compute the parameters for the model:\n",
    "\n",
    "$$\n",
    "y = x_0  \\theta_0 + x_1 \\theta_1 + \\mathbf{\\theta_3}\n",
    "$$\n"
   ]
  },
  {
   "cell_type": "code",
   "execution_count": 28,
   "metadata": {
    "collapsed": true,
    "tags": [
     "student"
    ]
   },
   "outputs": [],
   "source": [
    "theta_hat_with_intercept = least_squares_est(add_const(X),Y)"
   ]
  },
  {
   "cell_type": "code",
   "execution_count": 29,
   "metadata": {
    "tags": [
     "test",
     "q05"
    ]
   },
   "outputs": [
    {
     "name": "stdout",
     "output_type": "stream",
     "text": [
      "~~~~~~~~~~~~~~~~~~~~~~~~~~~~~~~~~~~~~~~~~~~~~~~~~~~~~~~~~~~~~~~~~~~~~\n",
      "Running tests\n",
      "\n",
      "---------------------------------------------------------------------\n",
      "Test summary\n",
      "    Passed: 1\n",
      "    Failed: 0\n",
      "[ooooooooook] 100.0% passed\n",
      "\n"
     ]
    },
    {
     "data": {
      "application/javascript": [
       "IPython.notebook.save_checkpoint();"
      ],
      "text/plain": [
       "<IPython.core.display.Javascript object>"
      ]
     },
     "metadata": {},
     "output_type": "display_data"
    },
    {
     "data": {
      "application/javascript": [
       "IPython.notebook.save_notebook();"
      ],
      "text/plain": [
       "<IPython.core.display.Javascript object>"
      ]
     },
     "metadata": {},
     "output_type": "display_data"
    },
    {
     "name": "stdout",
     "output_type": "stream",
     "text": [
      "Saving notebook... Saved 'lab10.ipynb'.\n",
      "Backup... 100% complete\n",
      "Backup successful for user: yining.jiang@berkeley.edu\n",
      "URL: https://okpy.org/cal/ds100/fa17/lab10/backups/73vq3y\n",
      "NOTE: this is only a backup. To submit your assignment, use:\n",
      "\tpython3 ok --submit\n",
      "\n"
     ]
    }
   ],
   "source": [
    "_ = ok.grade('q05')\n",
    "_ = ok.backup()"
   ]
  },
  {
   "cell_type": "markdown",
   "metadata": {},
   "source": [
    "Let's compare the estimator parameters with the true parameters (which we know because we fabricated the data)."
   ]
  },
  {
   "cell_type": "code",
   "execution_count": 30,
   "metadata": {},
   "outputs": [
    {
     "data": {
      "text/plain": [
       "array([-2.1661333225821933,  1.0354946032131185,  4.0238157334512685])"
      ]
     },
     "execution_count": 30,
     "metadata": {},
     "output_type": "execute_result"
    }
   ],
   "source": [
    "theta_hat_with_intercept"
   ]
  },
  {
   "cell_type": "code",
   "execution_count": 31,
   "metadata": {},
   "outputs": [
    {
     "name": "stdout",
     "output_type": "stream",
     "text": [
      "True theta_0 and theta_1 [-2.2000000000000002  1.                ]\n",
      "True intercept (theta_2) 4.0\n"
     ]
    }
   ],
   "source": [
    "print(\"True theta_0 and theta_1\", theta_true)\n",
    "print(\"True intercept (theta_2)\", intercept)"
   ]
  },
  {
   "cell_type": "markdown",
   "metadata": {},
   "source": [
    "How did we do?  The numbers should be relatively close however there was noise in our data so it is possible that we are slightly off.  What about the RMSE?"
   ]
  },
  {
   "cell_type": "code",
   "execution_count": 32,
   "metadata": {},
   "outputs": [
    {
     "name": "stdout",
     "output_type": "stream",
     "text": [
      "RMSE with intercept term: 0.198129552796\n"
     ]
    }
   ],
   "source": [
    "print(\"RMSE with intercept term:\", \n",
    "      rmse(theta_hat_with_intercept, add_const(X), Y))"
   ]
  },
  {
   "cell_type": "code",
   "execution_count": 33,
   "metadata": {},
   "outputs": [
    {
     "name": "stdout",
     "output_type": "stream",
     "text": [
      "RMSE without intercept: 4.01624937007\n"
     ]
    }
   ],
   "source": [
    "print(\"RMSE without intercept:\", \n",
    "      rmse(theta_hat, X, Y))"
   ]
  },
  {
   "cell_type": "markdown",
   "metadata": {},
   "source": [
    "That is a substantial improvement!"
   ]
  },
  {
   "cell_type": "markdown",
   "metadata": {},
   "source": [
    "## Question 6\n",
    "\n",
    "Uses `sns.distplot` to plot the distribution of the residual for our estimator with an intercept term.  Note if there is a any skew"
   ]
  },
  {
   "cell_type": "code",
   "execution_count": 35,
   "metadata": {
    "tags": [
     "student"
    ]
   },
   "outputs": [
    {
     "data": {
      "application/javascript": [
       "/* Put everything inside the global mpl namespace */\n",
       "window.mpl = {};\n",
       "\n",
       "\n",
       "mpl.get_websocket_type = function() {\n",
       "    if (typeof(WebSocket) !== 'undefined') {\n",
       "        return WebSocket;\n",
       "    } else if (typeof(MozWebSocket) !== 'undefined') {\n",
       "        return MozWebSocket;\n",
       "    } else {\n",
       "        alert('Your browser does not have WebSocket support.' +\n",
       "              'Please try Chrome, Safari or Firefox ≥ 6. ' +\n",
       "              'Firefox 4 and 5 are also supported but you ' +\n",
       "              'have to enable WebSockets in about:config.');\n",
       "    };\n",
       "}\n",
       "\n",
       "mpl.figure = function(figure_id, websocket, ondownload, parent_element) {\n",
       "    this.id = figure_id;\n",
       "\n",
       "    this.ws = websocket;\n",
       "\n",
       "    this.supports_binary = (this.ws.binaryType != undefined);\n",
       "\n",
       "    if (!this.supports_binary) {\n",
       "        var warnings = document.getElementById(\"mpl-warnings\");\n",
       "        if (warnings) {\n",
       "            warnings.style.display = 'block';\n",
       "            warnings.textContent = (\n",
       "                \"This browser does not support binary websocket messages. \" +\n",
       "                    \"Performance may be slow.\");\n",
       "        }\n",
       "    }\n",
       "\n",
       "    this.imageObj = new Image();\n",
       "\n",
       "    this.context = undefined;\n",
       "    this.message = undefined;\n",
       "    this.canvas = undefined;\n",
       "    this.rubberband_canvas = undefined;\n",
       "    this.rubberband_context = undefined;\n",
       "    this.format_dropdown = undefined;\n",
       "\n",
       "    this.image_mode = 'full';\n",
       "\n",
       "    this.root = $('<div/>');\n",
       "    this._root_extra_style(this.root)\n",
       "    this.root.attr('style', 'display: inline-block');\n",
       "\n",
       "    $(parent_element).append(this.root);\n",
       "\n",
       "    this._init_header(this);\n",
       "    this._init_canvas(this);\n",
       "    this._init_toolbar(this);\n",
       "\n",
       "    var fig = this;\n",
       "\n",
       "    this.waiting = false;\n",
       "\n",
       "    this.ws.onopen =  function () {\n",
       "            fig.send_message(\"supports_binary\", {value: fig.supports_binary});\n",
       "            fig.send_message(\"send_image_mode\", {});\n",
       "            if (mpl.ratio != 1) {\n",
       "                fig.send_message(\"set_dpi_ratio\", {'dpi_ratio': mpl.ratio});\n",
       "            }\n",
       "            fig.send_message(\"refresh\", {});\n",
       "        }\n",
       "\n",
       "    this.imageObj.onload = function() {\n",
       "            if (fig.image_mode == 'full') {\n",
       "                // Full images could contain transparency (where diff images\n",
       "                // almost always do), so we need to clear the canvas so that\n",
       "                // there is no ghosting.\n",
       "                fig.context.clearRect(0, 0, fig.canvas.width, fig.canvas.height);\n",
       "            }\n",
       "            fig.context.drawImage(fig.imageObj, 0, 0);\n",
       "        };\n",
       "\n",
       "    this.imageObj.onunload = function() {\n",
       "        this.ws.close();\n",
       "    }\n",
       "\n",
       "    this.ws.onmessage = this._make_on_message_function(this);\n",
       "\n",
       "    this.ondownload = ondownload;\n",
       "}\n",
       "\n",
       "mpl.figure.prototype._init_header = function() {\n",
       "    var titlebar = $(\n",
       "        '<div class=\"ui-dialog-titlebar ui-widget-header ui-corner-all ' +\n",
       "        'ui-helper-clearfix\"/>');\n",
       "    var titletext = $(\n",
       "        '<div class=\"ui-dialog-title\" style=\"width: 100%; ' +\n",
       "        'text-align: center; padding: 3px;\"/>');\n",
       "    titlebar.append(titletext)\n",
       "    this.root.append(titlebar);\n",
       "    this.header = titletext[0];\n",
       "}\n",
       "\n",
       "\n",
       "\n",
       "mpl.figure.prototype._canvas_extra_style = function(canvas_div) {\n",
       "\n",
       "}\n",
       "\n",
       "\n",
       "mpl.figure.prototype._root_extra_style = function(canvas_div) {\n",
       "\n",
       "}\n",
       "\n",
       "mpl.figure.prototype._init_canvas = function() {\n",
       "    var fig = this;\n",
       "\n",
       "    var canvas_div = $('<div/>');\n",
       "\n",
       "    canvas_div.attr('style', 'position: relative; clear: both; outline: 0');\n",
       "\n",
       "    function canvas_keyboard_event(event) {\n",
       "        return fig.key_event(event, event['data']);\n",
       "    }\n",
       "\n",
       "    canvas_div.keydown('key_press', canvas_keyboard_event);\n",
       "    canvas_div.keyup('key_release', canvas_keyboard_event);\n",
       "    this.canvas_div = canvas_div\n",
       "    this._canvas_extra_style(canvas_div)\n",
       "    this.root.append(canvas_div);\n",
       "\n",
       "    var canvas = $('<canvas/>');\n",
       "    canvas.addClass('mpl-canvas');\n",
       "    canvas.attr('style', \"left: 0; top: 0; z-index: 0; outline: 0\")\n",
       "\n",
       "    this.canvas = canvas[0];\n",
       "    this.context = canvas[0].getContext(\"2d\");\n",
       "\n",
       "    var backingStore = this.context.backingStorePixelRatio ||\n",
       "\tthis.context.webkitBackingStorePixelRatio ||\n",
       "\tthis.context.mozBackingStorePixelRatio ||\n",
       "\tthis.context.msBackingStorePixelRatio ||\n",
       "\tthis.context.oBackingStorePixelRatio ||\n",
       "\tthis.context.backingStorePixelRatio || 1;\n",
       "\n",
       "    mpl.ratio = (window.devicePixelRatio || 1) / backingStore;\n",
       "\n",
       "    var rubberband = $('<canvas/>');\n",
       "    rubberband.attr('style', \"position: absolute; left: 0; top: 0; z-index: 1;\")\n",
       "\n",
       "    var pass_mouse_events = true;\n",
       "\n",
       "    canvas_div.resizable({\n",
       "        start: function(event, ui) {\n",
       "            pass_mouse_events = false;\n",
       "        },\n",
       "        resize: function(event, ui) {\n",
       "            fig.request_resize(ui.size.width, ui.size.height);\n",
       "        },\n",
       "        stop: function(event, ui) {\n",
       "            pass_mouse_events = true;\n",
       "            fig.request_resize(ui.size.width, ui.size.height);\n",
       "        },\n",
       "    });\n",
       "\n",
       "    function mouse_event_fn(event) {\n",
       "        if (pass_mouse_events)\n",
       "            return fig.mouse_event(event, event['data']);\n",
       "    }\n",
       "\n",
       "    rubberband.mousedown('button_press', mouse_event_fn);\n",
       "    rubberband.mouseup('button_release', mouse_event_fn);\n",
       "    // Throttle sequential mouse events to 1 every 20ms.\n",
       "    rubberband.mousemove('motion_notify', mouse_event_fn);\n",
       "\n",
       "    rubberband.mouseenter('figure_enter', mouse_event_fn);\n",
       "    rubberband.mouseleave('figure_leave', mouse_event_fn);\n",
       "\n",
       "    canvas_div.on(\"wheel\", function (event) {\n",
       "        event = event.originalEvent;\n",
       "        event['data'] = 'scroll'\n",
       "        if (event.deltaY < 0) {\n",
       "            event.step = 1;\n",
       "        } else {\n",
       "            event.step = -1;\n",
       "        }\n",
       "        mouse_event_fn(event);\n",
       "    });\n",
       "\n",
       "    canvas_div.append(canvas);\n",
       "    canvas_div.append(rubberband);\n",
       "\n",
       "    this.rubberband = rubberband;\n",
       "    this.rubberband_canvas = rubberband[0];\n",
       "    this.rubberband_context = rubberband[0].getContext(\"2d\");\n",
       "    this.rubberband_context.strokeStyle = \"#000000\";\n",
       "\n",
       "    this._resize_canvas = function(width, height) {\n",
       "        // Keep the size of the canvas, canvas container, and rubber band\n",
       "        // canvas in synch.\n",
       "        canvas_div.css('width', width)\n",
       "        canvas_div.css('height', height)\n",
       "\n",
       "        canvas.attr('width', width * mpl.ratio);\n",
       "        canvas.attr('height', height * mpl.ratio);\n",
       "        canvas.attr('style', 'width: ' + width + 'px; height: ' + height + 'px;');\n",
       "\n",
       "        rubberband.attr('width', width);\n",
       "        rubberband.attr('height', height);\n",
       "    }\n",
       "\n",
       "    // Set the figure to an initial 600x600px, this will subsequently be updated\n",
       "    // upon first draw.\n",
       "    this._resize_canvas(600, 600);\n",
       "\n",
       "    // Disable right mouse context menu.\n",
       "    $(this.rubberband_canvas).bind(\"contextmenu\",function(e){\n",
       "        return false;\n",
       "    });\n",
       "\n",
       "    function set_focus () {\n",
       "        canvas.focus();\n",
       "        canvas_div.focus();\n",
       "    }\n",
       "\n",
       "    window.setTimeout(set_focus, 100);\n",
       "}\n",
       "\n",
       "mpl.figure.prototype._init_toolbar = function() {\n",
       "    var fig = this;\n",
       "\n",
       "    var nav_element = $('<div/>')\n",
       "    nav_element.attr('style', 'width: 100%');\n",
       "    this.root.append(nav_element);\n",
       "\n",
       "    // Define a callback function for later on.\n",
       "    function toolbar_event(event) {\n",
       "        return fig.toolbar_button_onclick(event['data']);\n",
       "    }\n",
       "    function toolbar_mouse_event(event) {\n",
       "        return fig.toolbar_button_onmouseover(event['data']);\n",
       "    }\n",
       "\n",
       "    for(var toolbar_ind in mpl.toolbar_items) {\n",
       "        var name = mpl.toolbar_items[toolbar_ind][0];\n",
       "        var tooltip = mpl.toolbar_items[toolbar_ind][1];\n",
       "        var image = mpl.toolbar_items[toolbar_ind][2];\n",
       "        var method_name = mpl.toolbar_items[toolbar_ind][3];\n",
       "\n",
       "        if (!name) {\n",
       "            // put a spacer in here.\n",
       "            continue;\n",
       "        }\n",
       "        var button = $('<button/>');\n",
       "        button.addClass('ui-button ui-widget ui-state-default ui-corner-all ' +\n",
       "                        'ui-button-icon-only');\n",
       "        button.attr('role', 'button');\n",
       "        button.attr('aria-disabled', 'false');\n",
       "        button.click(method_name, toolbar_event);\n",
       "        button.mouseover(tooltip, toolbar_mouse_event);\n",
       "\n",
       "        var icon_img = $('<span/>');\n",
       "        icon_img.addClass('ui-button-icon-primary ui-icon');\n",
       "        icon_img.addClass(image);\n",
       "        icon_img.addClass('ui-corner-all');\n",
       "\n",
       "        var tooltip_span = $('<span/>');\n",
       "        tooltip_span.addClass('ui-button-text');\n",
       "        tooltip_span.html(tooltip);\n",
       "\n",
       "        button.append(icon_img);\n",
       "        button.append(tooltip_span);\n",
       "\n",
       "        nav_element.append(button);\n",
       "    }\n",
       "\n",
       "    var fmt_picker_span = $('<span/>');\n",
       "\n",
       "    var fmt_picker = $('<select/>');\n",
       "    fmt_picker.addClass('mpl-toolbar-option ui-widget ui-widget-content');\n",
       "    fmt_picker_span.append(fmt_picker);\n",
       "    nav_element.append(fmt_picker_span);\n",
       "    this.format_dropdown = fmt_picker[0];\n",
       "\n",
       "    for (var ind in mpl.extensions) {\n",
       "        var fmt = mpl.extensions[ind];\n",
       "        var option = $(\n",
       "            '<option/>', {selected: fmt === mpl.default_extension}).html(fmt);\n",
       "        fmt_picker.append(option)\n",
       "    }\n",
       "\n",
       "    // Add hover states to the ui-buttons\n",
       "    $( \".ui-button\" ).hover(\n",
       "        function() { $(this).addClass(\"ui-state-hover\");},\n",
       "        function() { $(this).removeClass(\"ui-state-hover\");}\n",
       "    );\n",
       "\n",
       "    var status_bar = $('<span class=\"mpl-message\"/>');\n",
       "    nav_element.append(status_bar);\n",
       "    this.message = status_bar[0];\n",
       "}\n",
       "\n",
       "mpl.figure.prototype.request_resize = function(x_pixels, y_pixels) {\n",
       "    // Request matplotlib to resize the figure. Matplotlib will then trigger a resize in the client,\n",
       "    // which will in turn request a refresh of the image.\n",
       "    this.send_message('resize', {'width': x_pixels, 'height': y_pixels});\n",
       "}\n",
       "\n",
       "mpl.figure.prototype.send_message = function(type, properties) {\n",
       "    properties['type'] = type;\n",
       "    properties['figure_id'] = this.id;\n",
       "    this.ws.send(JSON.stringify(properties));\n",
       "}\n",
       "\n",
       "mpl.figure.prototype.send_draw_message = function() {\n",
       "    if (!this.waiting) {\n",
       "        this.waiting = true;\n",
       "        this.ws.send(JSON.stringify({type: \"draw\", figure_id: this.id}));\n",
       "    }\n",
       "}\n",
       "\n",
       "\n",
       "mpl.figure.prototype.handle_save = function(fig, msg) {\n",
       "    var format_dropdown = fig.format_dropdown;\n",
       "    var format = format_dropdown.options[format_dropdown.selectedIndex].value;\n",
       "    fig.ondownload(fig, format);\n",
       "}\n",
       "\n",
       "\n",
       "mpl.figure.prototype.handle_resize = function(fig, msg) {\n",
       "    var size = msg['size'];\n",
       "    if (size[0] != fig.canvas.width || size[1] != fig.canvas.height) {\n",
       "        fig._resize_canvas(size[0], size[1]);\n",
       "        fig.send_message(\"refresh\", {});\n",
       "    };\n",
       "}\n",
       "\n",
       "mpl.figure.prototype.handle_rubberband = function(fig, msg) {\n",
       "    var x0 = msg['x0'] / mpl.ratio;\n",
       "    var y0 = (fig.canvas.height - msg['y0']) / mpl.ratio;\n",
       "    var x1 = msg['x1'] / mpl.ratio;\n",
       "    var y1 = (fig.canvas.height - msg['y1']) / mpl.ratio;\n",
       "    x0 = Math.floor(x0) + 0.5;\n",
       "    y0 = Math.floor(y0) + 0.5;\n",
       "    x1 = Math.floor(x1) + 0.5;\n",
       "    y1 = Math.floor(y1) + 0.5;\n",
       "    var min_x = Math.min(x0, x1);\n",
       "    var min_y = Math.min(y0, y1);\n",
       "    var width = Math.abs(x1 - x0);\n",
       "    var height = Math.abs(y1 - y0);\n",
       "\n",
       "    fig.rubberband_context.clearRect(\n",
       "        0, 0, fig.canvas.width, fig.canvas.height);\n",
       "\n",
       "    fig.rubberband_context.strokeRect(min_x, min_y, width, height);\n",
       "}\n",
       "\n",
       "mpl.figure.prototype.handle_figure_label = function(fig, msg) {\n",
       "    // Updates the figure title.\n",
       "    fig.header.textContent = msg['label'];\n",
       "}\n",
       "\n",
       "mpl.figure.prototype.handle_cursor = function(fig, msg) {\n",
       "    var cursor = msg['cursor'];\n",
       "    switch(cursor)\n",
       "    {\n",
       "    case 0:\n",
       "        cursor = 'pointer';\n",
       "        break;\n",
       "    case 1:\n",
       "        cursor = 'default';\n",
       "        break;\n",
       "    case 2:\n",
       "        cursor = 'crosshair';\n",
       "        break;\n",
       "    case 3:\n",
       "        cursor = 'move';\n",
       "        break;\n",
       "    }\n",
       "    fig.rubberband_canvas.style.cursor = cursor;\n",
       "}\n",
       "\n",
       "mpl.figure.prototype.handle_message = function(fig, msg) {\n",
       "    fig.message.textContent = msg['message'];\n",
       "}\n",
       "\n",
       "mpl.figure.prototype.handle_draw = function(fig, msg) {\n",
       "    // Request the server to send over a new figure.\n",
       "    fig.send_draw_message();\n",
       "}\n",
       "\n",
       "mpl.figure.prototype.handle_image_mode = function(fig, msg) {\n",
       "    fig.image_mode = msg['mode'];\n",
       "}\n",
       "\n",
       "mpl.figure.prototype.updated_canvas_event = function() {\n",
       "    // Called whenever the canvas gets updated.\n",
       "    this.send_message(\"ack\", {});\n",
       "}\n",
       "\n",
       "// A function to construct a web socket function for onmessage handling.\n",
       "// Called in the figure constructor.\n",
       "mpl.figure.prototype._make_on_message_function = function(fig) {\n",
       "    return function socket_on_message(evt) {\n",
       "        if (evt.data instanceof Blob) {\n",
       "            /* FIXME: We get \"Resource interpreted as Image but\n",
       "             * transferred with MIME type text/plain:\" errors on\n",
       "             * Chrome.  But how to set the MIME type?  It doesn't seem\n",
       "             * to be part of the websocket stream */\n",
       "            evt.data.type = \"image/png\";\n",
       "\n",
       "            /* Free the memory for the previous frames */\n",
       "            if (fig.imageObj.src) {\n",
       "                (window.URL || window.webkitURL).revokeObjectURL(\n",
       "                    fig.imageObj.src);\n",
       "            }\n",
       "\n",
       "            fig.imageObj.src = (window.URL || window.webkitURL).createObjectURL(\n",
       "                evt.data);\n",
       "            fig.updated_canvas_event();\n",
       "            fig.waiting = false;\n",
       "            return;\n",
       "        }\n",
       "        else if (typeof evt.data === 'string' && evt.data.slice(0, 21) == \"data:image/png;base64\") {\n",
       "            fig.imageObj.src = evt.data;\n",
       "            fig.updated_canvas_event();\n",
       "            fig.waiting = false;\n",
       "            return;\n",
       "        }\n",
       "\n",
       "        var msg = JSON.parse(evt.data);\n",
       "        var msg_type = msg['type'];\n",
       "\n",
       "        // Call the  \"handle_{type}\" callback, which takes\n",
       "        // the figure and JSON message as its only arguments.\n",
       "        try {\n",
       "            var callback = fig[\"handle_\" + msg_type];\n",
       "        } catch (e) {\n",
       "            console.log(\"No handler for the '\" + msg_type + \"' message type: \", msg);\n",
       "            return;\n",
       "        }\n",
       "\n",
       "        if (callback) {\n",
       "            try {\n",
       "                // console.log(\"Handling '\" + msg_type + \"' message: \", msg);\n",
       "                callback(fig, msg);\n",
       "            } catch (e) {\n",
       "                console.log(\"Exception inside the 'handler_\" + msg_type + \"' callback:\", e, e.stack, msg);\n",
       "            }\n",
       "        }\n",
       "    };\n",
       "}\n",
       "\n",
       "// from http://stackoverflow.com/questions/1114465/getting-mouse-location-in-canvas\n",
       "mpl.findpos = function(e) {\n",
       "    //this section is from http://www.quirksmode.org/js/events_properties.html\n",
       "    var targ;\n",
       "    if (!e)\n",
       "        e = window.event;\n",
       "    if (e.target)\n",
       "        targ = e.target;\n",
       "    else if (e.srcElement)\n",
       "        targ = e.srcElement;\n",
       "    if (targ.nodeType == 3) // defeat Safari bug\n",
       "        targ = targ.parentNode;\n",
       "\n",
       "    // jQuery normalizes the pageX and pageY\n",
       "    // pageX,Y are the mouse positions relative to the document\n",
       "    // offset() returns the position of the element relative to the document\n",
       "    var x = e.pageX - $(targ).offset().left;\n",
       "    var y = e.pageY - $(targ).offset().top;\n",
       "\n",
       "    return {\"x\": x, \"y\": y};\n",
       "};\n",
       "\n",
       "/*\n",
       " * return a copy of an object with only non-object keys\n",
       " * we need this to avoid circular references\n",
       " * http://stackoverflow.com/a/24161582/3208463\n",
       " */\n",
       "function simpleKeys (original) {\n",
       "  return Object.keys(original).reduce(function (obj, key) {\n",
       "    if (typeof original[key] !== 'object')\n",
       "        obj[key] = original[key]\n",
       "    return obj;\n",
       "  }, {});\n",
       "}\n",
       "\n",
       "mpl.figure.prototype.mouse_event = function(event, name) {\n",
       "    var canvas_pos = mpl.findpos(event)\n",
       "\n",
       "    if (name === 'button_press')\n",
       "    {\n",
       "        this.canvas.focus();\n",
       "        this.canvas_div.focus();\n",
       "    }\n",
       "\n",
       "    var x = canvas_pos.x * mpl.ratio;\n",
       "    var y = canvas_pos.y * mpl.ratio;\n",
       "\n",
       "    this.send_message(name, {x: x, y: y, button: event.button,\n",
       "                             step: event.step,\n",
       "                             guiEvent: simpleKeys(event)});\n",
       "\n",
       "    /* This prevents the web browser from automatically changing to\n",
       "     * the text insertion cursor when the button is pressed.  We want\n",
       "     * to control all of the cursor setting manually through the\n",
       "     * 'cursor' event from matplotlib */\n",
       "    event.preventDefault();\n",
       "    return false;\n",
       "}\n",
       "\n",
       "mpl.figure.prototype._key_event_extra = function(event, name) {\n",
       "    // Handle any extra behaviour associated with a key event\n",
       "}\n",
       "\n",
       "mpl.figure.prototype.key_event = function(event, name) {\n",
       "\n",
       "    // Prevent repeat events\n",
       "    if (name == 'key_press')\n",
       "    {\n",
       "        if (event.which === this._key)\n",
       "            return;\n",
       "        else\n",
       "            this._key = event.which;\n",
       "    }\n",
       "    if (name == 'key_release')\n",
       "        this._key = null;\n",
       "\n",
       "    var value = '';\n",
       "    if (event.ctrlKey && event.which != 17)\n",
       "        value += \"ctrl+\";\n",
       "    if (event.altKey && event.which != 18)\n",
       "        value += \"alt+\";\n",
       "    if (event.shiftKey && event.which != 16)\n",
       "        value += \"shift+\";\n",
       "\n",
       "    value += 'k';\n",
       "    value += event.which.toString();\n",
       "\n",
       "    this._key_event_extra(event, name);\n",
       "\n",
       "    this.send_message(name, {key: value,\n",
       "                             guiEvent: simpleKeys(event)});\n",
       "    return false;\n",
       "}\n",
       "\n",
       "mpl.figure.prototype.toolbar_button_onclick = function(name) {\n",
       "    if (name == 'download') {\n",
       "        this.handle_save(this, null);\n",
       "    } else {\n",
       "        this.send_message(\"toolbar_button\", {name: name});\n",
       "    }\n",
       "};\n",
       "\n",
       "mpl.figure.prototype.toolbar_button_onmouseover = function(tooltip) {\n",
       "    this.message.textContent = tooltip;\n",
       "};\n",
       "mpl.toolbar_items = [[\"Home\", \"Reset original view\", \"fa fa-home icon-home\", \"home\"], [\"Back\", \"Back to  previous view\", \"fa fa-arrow-left icon-arrow-left\", \"back\"], [\"Forward\", \"Forward to next view\", \"fa fa-arrow-right icon-arrow-right\", \"forward\"], [\"\", \"\", \"\", \"\"], [\"Pan\", \"Pan axes with left mouse, zoom with right\", \"fa fa-arrows icon-move\", \"pan\"], [\"Zoom\", \"Zoom to rectangle\", \"fa fa-square-o icon-check-empty\", \"zoom\"], [\"\", \"\", \"\", \"\"], [\"Download\", \"Download plot\", \"fa fa-floppy-o icon-save\", \"download\"]];\n",
       "\n",
       "mpl.extensions = [\"eps\", \"jpeg\", \"pdf\", \"png\", \"ps\", \"raw\", \"svg\", \"tif\"];\n",
       "\n",
       "mpl.default_extension = \"png\";var comm_websocket_adapter = function(comm) {\n",
       "    // Create a \"websocket\"-like object which calls the given IPython comm\n",
       "    // object with the appropriate methods. Currently this is a non binary\n",
       "    // socket, so there is still some room for performance tuning.\n",
       "    var ws = {};\n",
       "\n",
       "    ws.close = function() {\n",
       "        comm.close()\n",
       "    };\n",
       "    ws.send = function(m) {\n",
       "        //console.log('sending', m);\n",
       "        comm.send(m);\n",
       "    };\n",
       "    // Register the callback with on_msg.\n",
       "    comm.on_msg(function(msg) {\n",
       "        //console.log('receiving', msg['content']['data'], msg);\n",
       "        // Pass the mpl event to the overriden (by mpl) onmessage function.\n",
       "        ws.onmessage(msg['content']['data'])\n",
       "    });\n",
       "    return ws;\n",
       "}\n",
       "\n",
       "mpl.mpl_figure_comm = function(comm, msg) {\n",
       "    // This is the function which gets called when the mpl process\n",
       "    // starts-up an IPython Comm through the \"matplotlib\" channel.\n",
       "\n",
       "    var id = msg.content.data.id;\n",
       "    // Get hold of the div created by the display call when the Comm\n",
       "    // socket was opened in Python.\n",
       "    var element = $(\"#\" + id);\n",
       "    var ws_proxy = comm_websocket_adapter(comm)\n",
       "\n",
       "    function ondownload(figure, format) {\n",
       "        window.open(figure.imageObj.src);\n",
       "    }\n",
       "\n",
       "    var fig = new mpl.figure(id, ws_proxy,\n",
       "                           ondownload,\n",
       "                           element.get(0));\n",
       "\n",
       "    // Call onopen now - mpl needs it, as it is assuming we've passed it a real\n",
       "    // web socket which is closed, not our websocket->open comm proxy.\n",
       "    ws_proxy.onopen();\n",
       "\n",
       "    fig.parent_element = element.get(0);\n",
       "    fig.cell_info = mpl.find_output_cell(\"<div id='\" + id + \"'></div>\");\n",
       "    if (!fig.cell_info) {\n",
       "        console.error(\"Failed to find cell for figure\", id, fig);\n",
       "        return;\n",
       "    }\n",
       "\n",
       "    var output_index = fig.cell_info[2]\n",
       "    var cell = fig.cell_info[0];\n",
       "\n",
       "};\n",
       "\n",
       "mpl.figure.prototype.handle_close = function(fig, msg) {\n",
       "    var width = fig.canvas.width/mpl.ratio\n",
       "    fig.root.unbind('remove')\n",
       "\n",
       "    // Update the output cell to use the data from the current canvas.\n",
       "    fig.push_to_output();\n",
       "    var dataURL = fig.canvas.toDataURL();\n",
       "    // Re-enable the keyboard manager in IPython - without this line, in FF,\n",
       "    // the notebook keyboard shortcuts fail.\n",
       "    IPython.keyboard_manager.enable()\n",
       "    $(fig.parent_element).html('<img src=\"' + dataURL + '\" width=\"' + width + '\">');\n",
       "    fig.close_ws(fig, msg);\n",
       "}\n",
       "\n",
       "mpl.figure.prototype.close_ws = function(fig, msg){\n",
       "    fig.send_message('closing', msg);\n",
       "    // fig.ws.close()\n",
       "}\n",
       "\n",
       "mpl.figure.prototype.push_to_output = function(remove_interactive) {\n",
       "    // Turn the data on the canvas into data in the output cell.\n",
       "    var width = this.canvas.width/mpl.ratio\n",
       "    var dataURL = this.canvas.toDataURL();\n",
       "    this.cell_info[1]['text/html'] = '<img src=\"' + dataURL + '\" width=\"' + width + '\">';\n",
       "}\n",
       "\n",
       "mpl.figure.prototype.updated_canvas_event = function() {\n",
       "    // Tell IPython that the notebook contents must change.\n",
       "    IPython.notebook.set_dirty(true);\n",
       "    this.send_message(\"ack\", {});\n",
       "    var fig = this;\n",
       "    // Wait a second, then push the new image to the DOM so\n",
       "    // that it is saved nicely (might be nice to debounce this).\n",
       "    setTimeout(function () { fig.push_to_output() }, 1000);\n",
       "}\n",
       "\n",
       "mpl.figure.prototype._init_toolbar = function() {\n",
       "    var fig = this;\n",
       "\n",
       "    var nav_element = $('<div/>')\n",
       "    nav_element.attr('style', 'width: 100%');\n",
       "    this.root.append(nav_element);\n",
       "\n",
       "    // Define a callback function for later on.\n",
       "    function toolbar_event(event) {\n",
       "        return fig.toolbar_button_onclick(event['data']);\n",
       "    }\n",
       "    function toolbar_mouse_event(event) {\n",
       "        return fig.toolbar_button_onmouseover(event['data']);\n",
       "    }\n",
       "\n",
       "    for(var toolbar_ind in mpl.toolbar_items){\n",
       "        var name = mpl.toolbar_items[toolbar_ind][0];\n",
       "        var tooltip = mpl.toolbar_items[toolbar_ind][1];\n",
       "        var image = mpl.toolbar_items[toolbar_ind][2];\n",
       "        var method_name = mpl.toolbar_items[toolbar_ind][3];\n",
       "\n",
       "        if (!name) { continue; };\n",
       "\n",
       "        var button = $('<button class=\"btn btn-default\" href=\"#\" title=\"' + name + '\"><i class=\"fa ' + image + ' fa-lg\"></i></button>');\n",
       "        button.click(method_name, toolbar_event);\n",
       "        button.mouseover(tooltip, toolbar_mouse_event);\n",
       "        nav_element.append(button);\n",
       "    }\n",
       "\n",
       "    // Add the status bar.\n",
       "    var status_bar = $('<span class=\"mpl-message\" style=\"text-align:right; float: right;\"/>');\n",
       "    nav_element.append(status_bar);\n",
       "    this.message = status_bar[0];\n",
       "\n",
       "    // Add the close button to the window.\n",
       "    var buttongrp = $('<div class=\"btn-group inline pull-right\"></div>');\n",
       "    var button = $('<button class=\"btn btn-mini btn-primary\" href=\"#\" title=\"Stop Interaction\"><i class=\"fa fa-power-off icon-remove icon-large\"></i></button>');\n",
       "    button.click(function (evt) { fig.handle_close(fig, {}); } );\n",
       "    button.mouseover('Stop Interaction', toolbar_mouse_event);\n",
       "    buttongrp.append(button);\n",
       "    var titlebar = this.root.find($('.ui-dialog-titlebar'));\n",
       "    titlebar.prepend(buttongrp);\n",
       "}\n",
       "\n",
       "mpl.figure.prototype._root_extra_style = function(el){\n",
       "    var fig = this\n",
       "    el.on(\"remove\", function(){\n",
       "\tfig.close_ws(fig, {});\n",
       "    });\n",
       "}\n",
       "\n",
       "mpl.figure.prototype._canvas_extra_style = function(el){\n",
       "    // this is important to make the div 'focusable\n",
       "    el.attr('tabindex', 0)\n",
       "    // reach out to IPython and tell the keyboard manager to turn it's self\n",
       "    // off when our div gets focus\n",
       "\n",
       "    // location in version 3\n",
       "    if (IPython.notebook.keyboard_manager) {\n",
       "        IPython.notebook.keyboard_manager.register_events(el);\n",
       "    }\n",
       "    else {\n",
       "        // location in version 2\n",
       "        IPython.keyboard_manager.register_events(el);\n",
       "    }\n",
       "\n",
       "}\n",
       "\n",
       "mpl.figure.prototype._key_event_extra = function(event, name) {\n",
       "    var manager = IPython.notebook.keyboard_manager;\n",
       "    if (!manager)\n",
       "        manager = IPython.keyboard_manager;\n",
       "\n",
       "    // Check for shift+enter\n",
       "    if (event.shiftKey && event.which == 13) {\n",
       "        this.canvas_div.blur();\n",
       "        // select the cell after this one\n",
       "        var index = IPython.notebook.find_cell_index(this.cell_info[0]);\n",
       "        IPython.notebook.select(index + 1);\n",
       "    }\n",
       "}\n",
       "\n",
       "mpl.figure.prototype.handle_save = function(fig, msg) {\n",
       "    fig.ondownload(fig, null);\n",
       "}\n",
       "\n",
       "\n",
       "mpl.find_output_cell = function(html_output) {\n",
       "    // Return the cell and output element which can be found *uniquely* in the notebook.\n",
       "    // Note - this is a bit hacky, but it is done because the \"notebook_saving.Notebook\"\n",
       "    // IPython event is triggered only after the cells have been serialised, which for\n",
       "    // our purposes (turning an active figure into a static one), is too late.\n",
       "    var cells = IPython.notebook.get_cells();\n",
       "    var ncells = cells.length;\n",
       "    for (var i=0; i<ncells; i++) {\n",
       "        var cell = cells[i];\n",
       "        if (cell.cell_type === 'code'){\n",
       "            for (var j=0; j<cell.output_area.outputs.length; j++) {\n",
       "                var data = cell.output_area.outputs[j];\n",
       "                if (data.data) {\n",
       "                    // IPython >= 3 moved mimebundle to data attribute of output\n",
       "                    data = data.data;\n",
       "                }\n",
       "                if (data['text/html'] == html_output) {\n",
       "                    return [cell, data, j];\n",
       "                }\n",
       "            }\n",
       "        }\n",
       "    }\n",
       "}\n",
       "\n",
       "// Register the function which deals with the matplotlib target/channel.\n",
       "// The kernel may be null if the page has been refreshed.\n",
       "if (IPython.notebook.kernel != null) {\n",
       "    IPython.notebook.kernel.comm_manager.register_target('matplotlib', mpl.mpl_figure_comm);\n",
       "}\n"
      ],
      "text/plain": [
       "<IPython.core.display.Javascript object>"
      ]
     },
     "metadata": {},
     "output_type": "display_data"
    },
    {
     "data": {
      "text/html": [
       "<img src=\"data:image/png;base64,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\" width=\"640\">"
      ],
      "text/plain": [
       "<IPython.core.display.HTML object>"
      ]
     },
     "metadata": {},
     "output_type": "display_data"
    },
    {
     "data": {
      "text/plain": [
       "<matplotlib.axes._subplots.AxesSubplot at 0x11b56ee48>"
      ]
     },
     "execution_count": 35,
     "metadata": {},
     "output_type": "execute_result"
    }
   ],
   "source": [
    "plt.figure(2)\n",
    "resid = Y-add_const(X)@theta_hat_with_intercept\n",
    "sns.distplot(resid)"
   ]
  },
  {
   "cell_type": "markdown",
   "metadata": {},
   "source": [
    "## Question 7 \n",
    "\n",
    "Calculate the sum of residual in question 6. Show that the sum is roughly zero."
   ]
  },
  {
   "cell_type": "code",
   "execution_count": 36,
   "metadata": {
    "collapsed": true,
    "tags": [
     "student"
    ]
   },
   "outputs": [],
   "source": [
    "sum_resid = np.sum(resid)"
   ]
  },
  {
   "cell_type": "code",
   "execution_count": 37,
   "metadata": {
    "tags": [
     "test",
     "q07"
    ]
   },
   "outputs": [
    {
     "name": "stdout",
     "output_type": "stream",
     "text": [
      "~~~~~~~~~~~~~~~~~~~~~~~~~~~~~~~~~~~~~~~~~~~~~~~~~~~~~~~~~~~~~~~~~~~~~\n",
      "Running tests\n",
      "\n",
      "---------------------------------------------------------------------\n",
      "Test summary\n",
      "    Passed: 1\n",
      "    Failed: 0\n",
      "[ooooooooook] 100.0% passed\n",
      "\n"
     ]
    },
    {
     "data": {
      "application/javascript": [
       "IPython.notebook.save_checkpoint();"
      ],
      "text/plain": [
       "<IPython.core.display.Javascript object>"
      ]
     },
     "metadata": {},
     "output_type": "display_data"
    },
    {
     "data": {
      "application/javascript": [
       "IPython.notebook.save_notebook();"
      ],
      "text/plain": [
       "<IPython.core.display.Javascript object>"
      ]
     },
     "metadata": {},
     "output_type": "display_data"
    },
    {
     "name": "stdout",
     "output_type": "stream",
     "text": [
      "Saving notebook... Saved 'lab10.ipynb'.\n",
      "Backup... 100% complete\n",
      "Backup successful for user: yining.jiang@berkeley.edu\n",
      "URL: https://okpy.org/cal/ds100/fa17/lab10/backups/gJBWZY\n",
      "NOTE: this is only a backup. To submit your assignment, use:\n",
      "\tpython3 ok --submit\n",
      "\n"
     ]
    }
   ],
   "source": [
    "_ = ok.grade('q07')\n",
    "_ = ok.backup()"
   ]
  },
  {
   "cell_type": "markdown",
   "metadata": {},
   "source": [
    "# Submitting your assignment\n",
    "\n",
    "Congratulations, you're done with this lab!\n",
    "\n",
    "Run the next cell to run all the tests at once."
   ]
  },
  {
   "cell_type": "code",
   "execution_count": 38,
   "metadata": {},
   "outputs": [
    {
     "name": "stdout",
     "output_type": "stream",
     "text": [
      "~~~~~~~~~~~~~~~~~~~~~~~~~~~~~~~~~~~~~~~~~~~~~~~~~~~~~~~~~~~~~~~~~~~~~\n",
      "Running tests\n",
      "\n",
      "---------------------------------------------------------------------\n",
      "Test summary\n",
      "    Passed: 1\n",
      "    Failed: 0\n",
      "[ooooooooook] 100.0% passed\n",
      "\n",
      "~~~~~~~~~~~~~~~~~~~~~~~~~~~~~~~~~~~~~~~~~~~~~~~~~~~~~~~~~~~~~~~~~~~~~\n",
      "Running tests\n",
      "\n",
      "---------------------------------------------------------------------\n",
      "Test summary\n",
      "    Passed: 1\n",
      "    Failed: 0\n",
      "[ooooooooook] 100.0% passed\n",
      "\n",
      "~~~~~~~~~~~~~~~~~~~~~~~~~~~~~~~~~~~~~~~~~~~~~~~~~~~~~~~~~~~~~~~~~~~~~\n",
      "Running tests\n",
      "\n",
      "---------------------------------------------------------------------\n",
      "Test summary\n",
      "    Passed: 1\n",
      "    Failed: 0\n",
      "[ooooooooook] 100.0% passed\n",
      "\n",
      "~~~~~~~~~~~~~~~~~~~~~~~~~~~~~~~~~~~~~~~~~~~~~~~~~~~~~~~~~~~~~~~~~~~~~\n",
      "Running tests\n",
      "\n",
      "---------------------------------------------------------------------\n",
      "Test summary\n",
      "    Passed: 1\n",
      "    Failed: 0\n",
      "[ooooooooook] 100.0% passed\n",
      "\n",
      "~~~~~~~~~~~~~~~~~~~~~~~~~~~~~~~~~~~~~~~~~~~~~~~~~~~~~~~~~~~~~~~~~~~~~\n",
      "Running tests\n",
      "\n",
      "---------------------------------------------------------------------\n",
      "Test summary\n",
      "    Passed: 1\n",
      "    Failed: 0\n",
      "[ooooooooook] 100.0% passed\n",
      "\n",
      "~~~~~~~~~~~~~~~~~~~~~~~~~~~~~~~~~~~~~~~~~~~~~~~~~~~~~~~~~~~~~~~~~~~~~\n",
      "Running tests\n",
      "\n",
      "---------------------------------------------------------------------\n",
      "Test summary\n",
      "    Passed: 1\n",
      "    Failed: 0\n",
      "[ooooooooook] 100.0% passed\n",
      "\n",
      "~~~~~~~~~~~~~~~~~~~~~~~~~~~~~~~~~~~~~~~~~~~~~~~~~~~~~~~~~~~~~~~~~~~~~\n",
      "Running tests\n",
      "\n",
      "---------------------------------------------------------------------\n",
      "Test summary\n",
      "    Passed: 1\n",
      "    Failed: 0\n",
      "[ooooooooook] 100.0% passed\n",
      "\n"
     ]
    }
   ],
   "source": [
    "_ = ok.grade_all()    "
   ]
  },
  {
   "cell_type": "markdown",
   "metadata": {},
   "source": [
    "Now, run the cell below to submit your assignment to OkPy. The autograder should email you shortly with your autograded score. The autograder will only run once every 30 minutes.\n",
    "\n",
    "**If you're failing tests on the autograder but pass them locally**, you should simulate the autograder by doing the following:\n",
    "\n",
    "1. In the top menu, click Kernel -> Restart and Run all.\n",
    "2. Run the cell above to run each OkPy test.\n",
    "\n",
    "**You must make sure that you pass all the tests when running steps 1 and 2 in order.** If you are still failing autograder tests, you should double check your results."
   ]
  },
  {
   "cell_type": "code",
   "execution_count": 39,
   "metadata": {},
   "outputs": [
    {
     "data": {
      "application/javascript": [
       "IPython.notebook.save_checkpoint();"
      ],
      "text/plain": [
       "<IPython.core.display.Javascript object>"
      ]
     },
     "metadata": {},
     "output_type": "display_data"
    },
    {
     "data": {
      "application/javascript": [
       "IPython.notebook.save_notebook();"
      ],
      "text/plain": [
       "<IPython.core.display.Javascript object>"
      ]
     },
     "metadata": {},
     "output_type": "display_data"
    },
    {
     "name": "stdout",
     "output_type": "stream",
     "text": [
      "Saving notebook... Saved 'lab10.ipynb'.\n",
      "Submit... 100% complete\n",
      "Submission successful for user: yining.jiang@berkeley.edu\n",
      "URL: https://okpy.org/cal/ds100/fa17/lab10/submissions/yP1Wo7\n",
      "NOTE: this is only a backup. To submit your assignment, use:\n",
      "\tpython3 ok --submit\n",
      "\n"
     ]
    }
   ],
   "source": [
    "_ = ok.submit()"
   ]
  },
  {
   "cell_type": "code",
   "execution_count": null,
   "metadata": {
    "collapsed": true
   },
   "outputs": [],
   "source": []
  }
 ],
 "metadata": {
  "anaconda-cloud": {},
  "kernelspec": {
   "display_name": "Python 3",
   "language": "python",
   "name": "python3"
  },
  "language_info": {
   "codemirror_mode": {
    "name": "ipython",
    "version": 3
   },
   "file_extension": ".py",
   "mimetype": "text/x-python",
   "name": "python",
   "nbconvert_exporter": "python",
   "pygments_lexer": "ipython3",
   "version": "3.6.1"
  },
  "toc": {
   "colors": {
    "hover_highlight": "#DAA520",
    "navigate_num": "#000000",
    "navigate_text": "#333333",
    "running_highlight": "#FF0000",
    "selected_highlight": "#FFD700",
    "sidebar_border": "#EEEEEE",
    "wrapper_background": "#FFFFFF"
   },
   "moveMenuLeft": true,
   "nav_menu": {
    "height": "174px",
    "width": "252px"
   },
   "navigate_menu": true,
   "number_sections": true,
   "sideBar": true,
   "threshold": 4,
   "toc_cell": false,
   "toc_section_display": "block",
   "toc_window_display": false,
   "widenNotebook": false
  }
 },
 "nbformat": 4,
 "nbformat_minor": 1
}
